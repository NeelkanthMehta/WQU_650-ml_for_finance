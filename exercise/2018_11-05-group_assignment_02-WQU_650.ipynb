{
 "cells": [
  {
   "cell_type": "markdown",
   "metadata": {},
   "source": [
    "#### 1. Financial Data Structures\n",
    "<br> <p style = 'text-align:justify;'>This section containes data structuring techniques explained in book 'Advances In Financial Machine Learning'.\n",
    "<br> In quant parlence, each observation is known called a 'bar'; bars combine to form a data sample\n",
    "<br> Various standard and alternative approaches to convert raw tick data into a meaningful data sample were discussed.</p>\n",
    "    * The standard approach comprises of:\n",
    "        1. time bars that is obtained by sampling at a fixed time interval; \n",
    "        2. tick bars that is extracted each time a pre-defined no. of transactions take place;\n",
    "        3. volume bars that sample every time a pre-defined amount of security's units have been traded; and\n",
    "        4. dollar bars (or euro/ yen/ yuan etc... bars), which are formed by sampling every-time a pre-defined market value is exchanged.\n",
    "    * Of all the standard approaches, dollar bars are most appealing for their robust statistical properties (Gaussian and IID) and acommodates stock splits and other corporate events, which even volume bars also miss.\n",
    "    * The alternative approach are various information driven bars, which is for the purpose of sampling more information when new information arrives to the market.\n",
    "<font style: arial> Note: <br>For the submission purposes, we extracted dollar bars from the provided code snippets; however, due to buggy nature of labeling and feature creating codes, we switched back to ohlc time bars.</font><br>\n",
    "The tick source: [here](http://api.kibot.com/?action=history&symbol=IVE&interval=tickbidask&bp=1&user=guest).\n",
    "<br> My repo: [here](https://github.com/NeelkanthMehta/WQU_650-ml_for_finance.git).\n",
    "<br> <font size=1.5> Please maintain same folder structure as in the repo to meet the dependencies for following libraries.</font>"
   ]
  },
  {
   "cell_type": "code",
   "execution_count": 5,
   "metadata": {},
   "outputs": [
    {
     "name": "stdout",
     "output_type": "stream",
     "text": [
      "/home/neelkanth/Documents/WQU/WQU_650-ml_for_finance/intro_to_deep_learning\n"
     ]
    }
   ],
   "source": [
    "# Change the work directory here:\n",
    "cd ~/Documents/WQU/WQU_650-ml_for_finance/intro_to_deep_learning/"
   ]
  },
  {
   "cell_type": "code",
   "execution_count": 6,
   "metadata": {},
   "outputs": [],
   "source": [
    "# Importing standard libraries\n",
    "import sys\n",
    "import time\n",
    "import re\n",
    "import os\n",
    "import json\n",
    "from pathlib import PurePath, Path\n",
    "\n",
    "# Importing scientific libraries\n",
    "import numpy as np\n",
    "import pandas as pd\n",
    "os.environ['THEANO_FLAGS'] = 'device=cpu, floatX=float32'\n",
    "pd.set_option('display.max_rows', 100)\n",
    "from dask import dataframe as dd\n",
    "from dask.diagnostics import ProgressBar\n",
    "pbar = ProgressBar()\n",
    "pbar.register()\n",
    "import scipy.stats as stats\n",
    "import statsmodels.api as sm\n",
    "from numba import jit\n",
    "import math\n",
    "import pymc3 as pm\n",
    "from theano import shared, theano as tt\n",
    "import ta\n",
    "\n",
    "# importing visual libraries\n",
    "import matplotlib as mpl\n",
    "import matplotlib.pyplot as plt\n",
    "import matplotlib.gridspec as gridspec\n",
    "import seaborn as sns\n",
    "\n",
    "plt.style.use('seaborn-talk')\n",
    "plt.style.use('bmh')\n",
    "plt.rcParams['font.weight'] = 'medium'\n",
    "\n",
    "blue, grean, red, purple, gold, teal = sns.color_palette('colorblind', 6)\n",
    "\n",
    "# Import util libs\n",
    "import pyarrow as palind\n",
    "import pyarrow.parquet as pq\n",
    "from tqdm import tqdm, tqdm_notebook\n",
    "import warnings\n",
    "warnings.filterwarnings(\"ignore\")\n",
    "import missingno as msno\n",
    "\n",
    "# user defined libraries\n",
    "from src.utils.utils import *\n",
    "from src.features.bars import get_imbalance\n",
    "import src.features.bars as brs\n",
    "import src.features.snippets as snp\n",
    "\n",
    "RANDOM_STATE = 777"
   ]
  },
  {
   "cell_type": "code",
   "execution_count": 7,
   "metadata": {},
   "outputs": [],
   "source": [
    "infp = PurePath('./data/IVE_tickbidask.txt')"
   ]
  },
  {
   "cell_type": "markdown",
   "metadata": {},
   "source": [
    "#### loading and cleaning data"
   ]
  },
  {
   "cell_type": "code",
   "execution_count": 8,
   "metadata": {},
   "outputs": [],
   "source": [
    "\"\"\"Reading and Cleaning data\"\"\"\n",
    "\n",
    "def read_kibot_ticks(fp):\n",
    "    cols = list(map(str.lower, ['Date', 'Time', 'Price', 'Bid', 'Ask', 'Size']))\n",
    "    df = (pd.read_csv(fp, header=None)\n",
    "    .rename(columns=dict(zip(range(len(cols)), cols)))\n",
    "    .assign(dates=lambda df: (pd.to_datetime(df['date']+df['time'], format='%m/%d/%Y%H:%M:%S')))\n",
    "    .assign(v = lambda df: df['size']) # volume\n",
    "    .assign(dv= lambda df: df['price']*df['size']) # dollar volume\n",
    "    .drop(['date', 'time'], axis=1)\n",
    "    .set_index('dates')\n",
    "    .drop_duplicates())\n",
    "    return df"
   ]
  },
  {
   "cell_type": "code",
   "execution_count": 9,
   "metadata": {},
   "outputs": [],
   "source": [
    "# Creating a tick dataframe\n",
    "df = read_kibot_ticks(infp)"
   ]
  },
  {
   "cell_type": "code",
   "execution_count": 10,
   "metadata": {},
   "outputs": [],
   "source": [
    "# Printing the output fataframe\n",
    "outfp = PurePath('./data/IVE_tickbidask.parq')\n",
    "df.to_parquet(outfp)"
   ]
  },
  {
   "cell_type": "code",
   "execution_count": 11,
   "metadata": {},
   "outputs": [
    {
     "data": {
      "text/plain": [
       "<matplotlib.axes._subplots.AxesSubplot at 0x7fe9fc108cc0>"
      ]
     },
     "execution_count": 11,
     "metadata": {},
     "output_type": "execute_result"
    },
    {
     "data": {
      "image/png": "[encoded data removed]",
      "text/plain": [
       "<Figure size 1800x720 with 2 Axes>"
      ]
     },
     "metadata": {
      "needs_background": "light"
     },
     "output_type": "display_data"
    }
   ],
   "source": [
    "# missing numbers\n",
    "msno.matrix(df)"
   ]
  },
  {
   "cell_type": "code",
   "execution_count": 12,
   "metadata": {},
   "outputs": [],
   "source": [
    "\"\"\"Eliminating outliers from the dataset\"\"\"\n",
    "def mad_outlier(y, thresh=3.):\n",
    "    '''\n",
    "    compute outliers based on mad\n",
    "    # args\n",
    "        y: assumed to be array with shape (N,1)\n",
    "        thresh: float()\n",
    "    # returns\n",
    "        array index of outliers\n",
    "    '''\n",
    "    median = np.median(y)\n",
    "    diff = np.sum((y-median)**2, axis=-1)\n",
    "    diff = np.sqrt(diff)\n",
    "    med_abs_deviation = np.median(diff)\n",
    "    \n",
    "    modified_z_score = 0.6745 * diff/ med_abs_deviation\n",
    "    return modified_z_score > thresh"
   ]
  },
  {
   "cell_type": "code",
   "execution_count": 13,
   "metadata": {},
   "outputs": [],
   "source": [
    "# defining variable mad\n",
    "mad = mad_outlier(df.price.values.reshape(-1,1))\n",
    "\n",
    "# removing outliers\n",
    "df = df.loc[~mad]"
   ]
  },
  {
   "cell_type": "code",
   "execution_count": 14,
   "metadata": {},
   "outputs": [],
   "source": [
    "\"\"\"Exporting the processed data to file\"\"\"\n",
    "outfp = PurePath('./data/clean_IVE_fut_prices.parq')\n",
    "df.to_parquet(outfp)"
   ]
  },
  {
   "cell_type": "code",
   "execution_count": 15,
   "metadata": {},
   "outputs": [],
   "source": [
    "\"\"\"Creating Dollar Bars\"\"\"\n",
    "def dollar_bars(df, dv_column, m):\n",
    "    '''\n",
    "    compute dollar bars\n",
    "    \n",
    "    # args\n",
    "        df: pd.DataFrame()\n",
    "        dv_column: name of dollar volume bar\n",
    "        m: int(), threshold value for dollars\n",
    "    # returns\n",
    "        idx: list of indices\n",
    "    '''\n",
    "    t = df[dv_column]\n",
    "    ts = 0\n",
    "    idx = []\n",
    "    for i, x in enumerate(tqdm(t)):\n",
    "        ts += x\n",
    "        if ts >= m:\n",
    "            idx.append(i)\n",
    "            ts = 0\n",
    "            continue\n",
    "    return idx\n",
    "\n",
    "def dollar_bar_df(df, dv_column, m):\n",
    "    idx = dollar_bars(df, dv_column, m)\n",
    "    return df.iloc[idx].drop_duplicates()"
   ]
  },
  {
   "cell_type": "code",
   "execution_count": 16,
   "metadata": {},
   "outputs": [
    {
     "name": "stdout",
     "output_type": "stream",
     "text": [
      "-------------------------------------------------------------------------------\n",
      "dataframe information\n",
      "-------------------------------------------------------------------------------\n",
      "                      price     bid     ask   size      v          dv\n",
      "dates                                                                \n",
      "2018-10-31 16:10:00  109.65  108.01  116.99      0      0        0.00\n",
      "2018-10-31 16:17:27  109.63  109.63  116.99    190    190    20829.70\n",
      "2018-10-31 18:25:11  109.65  108.11  109.90  14993  14993  1643982.45\n",
      "2018-10-31 18:30:00  109.65  108.11  109.90      0      0        0.00\n",
      "2018-10-31 20:00:00  109.65  109.14  109.90      0      0        0.00\n",
      "--------------------------------------------------\n",
      "<class 'pandas.core.frame.DataFrame'>\n",
      "DatetimeIndex: 1447049 entries, 2009-09-28 09:30:00 to 2018-10-31 20:00:00\n",
      "Data columns (total 6 columns):\n",
      "price    1447049 non-null float64\n",
      "bid      1447049 non-null float64\n",
      "ask      1447049 non-null float64\n",
      "size     1447049 non-null int64\n",
      "v        1447049 non-null int64\n",
      "dv       1447049 non-null float64\n",
      "dtypes: float64(4), int64(2)\n",
      "memory usage: 77.3 MB\n",
      "None\n",
      "-------------------------------------------------------------------------------\n",
      "\n"
     ]
    }
   ],
   "source": [
    "# loading data - if not already loaded\n",
    "df = pd.read_parquet('./data/clean_IVE_fut_prices.parq')\n",
    "cprint(df)"
   ]
  },
  {
   "cell_type": "code",
   "execution_count": 17,
   "metadata": {},
   "outputs": [
    {
     "name": "stderr",
     "output_type": "stream",
     "text": [
      "  6%|▌         | 88489/1447049 [00:00<00:01, 884888.73it/s]"
     ]
    },
    {
     "name": "stdout",
     "output_type": "stream",
     "text": [
      "dollar threshold: 1,000,000\n"
     ]
    },
    {
     "name": "stderr",
     "output_type": "stream",
     "text": [
      "100%|██████████| 1447049/1447049 [00:00<00:00, 1830031.47it/s]\n"
     ]
    },
    {
     "name": "stdout",
     "output_type": "stream",
     "text": [
      "-------------------------------------------------------------------------------\n",
      "dataframe information\n",
      "-------------------------------------------------------------------------------\n",
      "                      price     bid     ask   size      v          dv\n",
      "dates                                                                \n",
      "2018-10-31 15:56:55  109.73  109.74  109.74    800    800    87784.00\n",
      "2018-10-31 15:56:55  109.73  109.73  109.74   2700   2700   296271.00\n",
      "2018-10-31 15:59:33  109.60  109.60  109.62    700    700    76720.00\n",
      "2018-10-31 16:00:00  109.65  109.62  109.63  68570  68570  7518700.50\n",
      "2018-10-31 18:25:11  109.65  108.11  109.90  14993  14993  1643982.45\n",
      "--------------------------------------------------\n",
      "<class 'pandas.core.frame.DataFrame'>\n",
      "DatetimeIndex: 52200 entries, 2009-09-28 09:46:35 to 2018-10-31 18:25:11\n",
      "Data columns (total 6 columns):\n",
      "price    52200 non-null float64\n",
      "bid      52200 non-null float64\n",
      "ask      52200 non-null float64\n",
      "size     52200 non-null int64\n",
      "v        52200 non-null int64\n",
      "dv       52200 non-null float64\n",
      "dtypes: float64(4), int64(2)\n",
      "memory usage: 2.8 MB\n",
      "None\n",
      "-------------------------------------------------------------------------------\n",
      "\n"
     ]
    }
   ],
   "source": [
    "# executing the function:\n",
    "dollar_M = 1_000_000  # arbitrary\n",
    "print(f\"dollar threshold: {dollar_M:,}\")\n",
    "dv_bar_df = dollar_bar_df(df,'dv', dollar_M)\n",
    "cprint(dv_bar_df)"
   ]
  },
  {
   "cell_type": "code",
   "execution_count": 18,
   "metadata": {},
   "outputs": [],
   "source": [
    "# Resampling\n",
    "def select_sample_data(ref, sub, price_col, date):\n",
    "    '''\n",
    "    select a sample of data based on date, assumes datetimeindex\n",
    "    \n",
    "    # args\n",
    "        ref: pd.DataFrame containing all ticks\n",
    "        sub: subordinated pd.DataFrame of prices\n",
    "        price_col: str(), price column\n",
    "        date: str(), date to select\n",
    "    # returns\n",
    "        xdf: ref pd.Series\n",
    "        xtdf: subordinated pd.Series\n",
    "    '''\n",
    "    xdf = ref[price_col].loc[date]\n",
    "    xtdf= sub[price_col].loc[date]\n",
    "    return xdf, xtdf\n",
    "\n",
    "xDate = '2009-10-01' #'2017-10-4'\n",
    "xdf, xtdf = select_sample_data(df, dv_bar_df, 'price', xDate)"
   ]
  },
  {
   "cell_type": "code",
   "execution_count": 20,
   "metadata": {},
   "outputs": [],
   "source": [
    "\"\"\"Exporting the Dollar Bar\"\"\"\n",
    "# Please cheange the file path as required\n",
    "dv_bar_df.to_csv('./data/dataset.csv', sep=',', header=True)"
   ]
  },
  {
   "cell_type": "markdown",
   "metadata": {},
   "source": [
    "#### Generate labels and features"
   ]
  },
  {
   "cell_type": "code",
   "execution_count": 21,
   "metadata": {},
   "outputs": [],
   "source": [
    "dataset = pd.read_csv('./data/dataset.csv', index_col=0)\n",
    "dataset['dv'] = dataset['dv'].astype(np.int64)\n",
    "dataset.index = pd.to_datetime(dataset.index)"
   ]
  },
  {
   "cell_type": "code",
   "execution_count": 22,
   "metadata": {},
   "outputs": [
    {
     "name": "stdout",
     "output_type": "stream",
     "text": [
      "-------------------------------------------------------------------------------\n",
      "dataframe information\n",
      "-------------------------------------------------------------------------------\n",
      "                       open    high     low   close        v         dv\n",
      "dates                                                                  \n",
      "2018-10-31 17:50:00  109.65  109.65  109.65  109.65  68570.0  7518700.0\n",
      "2018-10-31 18:00:00  109.65  109.65  109.65  109.65  68570.0  7518700.0\n",
      "2018-10-31 18:10:00  109.65  109.65  109.65  109.65  68570.0  7518700.0\n",
      "2018-10-31 18:20:00  109.65  109.65  109.65  109.65  68570.0  7518700.0\n",
      "2018-10-31 18:25:11  109.65  109.65  109.65  109.65  14993.0  1643982.0\n",
      "--------------------------------------------------\n",
      "<class 'pandas.core.frame.DataFrame'>\n",
      "DatetimeIndex: 528918 entries, 2009-09-28 09:40:00 to 2018-10-31 18:25:11\n",
      "Data columns (total 6 columns):\n",
      "open     528918 non-null float64\n",
      "high     528918 non-null float64\n",
      "low      528918 non-null float64\n",
      "close    528918 non-null float64\n",
      "v        528918 non-null float64\n",
      "dv       528918 non-null float64\n",
      "dtypes: float64(6)\n",
      "memory usage: 48.2 MB\n",
      "None\n",
      "-------------------------------------------------------------------------------\n",
      "\n"
     ]
    }
   ],
   "source": [
    "# Creating ohlc data\n",
    "price = dataset['price'].resample('10Min').ohlc().fillna(method='ffill').dropna(how='all')\n",
    "\n",
    "df = price.merge(dataset[['v','dv']], how='outer', left_index=True, right_index=True).fillna(method='ffill').dropna(how='all')\n",
    "df['v'][0], df['dv'][0] = 0, 0\n",
    "\n",
    "cprint(df)"
   ]
  },
  {
   "cell_type": "markdown",
   "metadata": {},
   "source": [
    "'''For details, ref: [documentation of TA library](https://bit.ly/2CZp7OB)'''"
   ]
  },
  {
   "cell_type": "markdown",
   "metadata": {},
   "source": [
    "#### Generating Features form the ohlc data.\n",
    "***Momentum Indicators:***\n",
    "1. Awsome Oscillator is a 34-period simple moving average, plotted through the central points of the bars (H+L)/2, and subtracted from the 5-period simple moving average, graphed across the central points of the bars (H+L)/2.</p>\n",
    "2. Relative Strength Index (RSI) Compares the magnitude of recent gains and losses over a specified time period to measure speed and change of price movements of a security.\n",
    "3. True Strength Index (TSI) shows both trend and overbought/ oversold conditions.\n",
    "4. Williams R or %R is an inverse to stochastic osilator, which reflects the level of closing price relative to highest high for the look-back period.\n",
    "\n",
    "***Volume Indicators:***\n",
    "5. Ease of Movement is the relation between asset's price and its volume. A higher  index indicates price is moving on low volume and *vice versa*.\n",
    "6. Chaikin Money Flow measures the amount of money flow volume over a specific period.\n",
    "7. Force Index illustrates the strength of actual buying or selling pressure.\n",
    "\n",
    "***Trend Indicator:***\n",
    "8. MACD Is a trend-following momentum indicator that shows relationship between two moving average of prices."
   ]
  },
  {
   "cell_type": "code",
   "execution_count": 27,
   "metadata": {},
   "outputs": [],
   "source": [
    "#Awsome Oscillator:\n",
    "ao = ta.momentum.ao(high=df['high'], low=df['low'], fillna=True)\n",
    "\n",
    "# Relative Strength Index\n",
    "rsi = ta.momentum.rsi(close=df['close'],fillna = True)\n",
    "\n",
    "# True Strength Index\n",
    "tsi = ta.momentum.tsi(close=df['close'], fillna=True)\n",
    "\n",
    "# Williams R\n",
    "r_pct = ta.momentum.wr(high=df['high'], low=df['low'], close=df['close'], fillna=True) \n",
    "\n",
    "# East of Movement\n",
    "EoM = ta.volume.ease_of_movement(high=df['high'], low=df['low'], close=df['close'], volume=df['v'],fillna=True) \n",
    "\n",
    "# Chaikin Money Flow\n",
    "cmf = ta.volume.chaikin_money_flow(high=df['high'], low=df['low'], close=df['close'], volume=df['v'], fillna=True) \n",
    "\n",
    "# Force Index\n",
    "force_index = ta.volume.force_index(close=df['close'], volume=df['v'], fillna=True)\n",
    "\n",
    "# MACD\n",
    "MACD = ta.trend.macd(close=df['close'], fillna=True)"
   ]
  },
  {
   "cell_type": "code",
   "execution_count": 29,
   "metadata": {},
   "outputs": [],
   "source": [
    "# Combining eight features in single df\n",
    "features = pd.concat((ao, rsi, tsi, MACD, r_pct, EoM, cmf, force_index), axis=1)\n",
    "cols = ['ao', 'rsi', 'tsi', 'macd', 'r_pct', 'EoM', 'cmf', 'force_index']\n",
    "features.columns = cols"
   ]
  },
  {
   "cell_type": "markdown",
   "metadata": {},
   "source": [
    "#### Standardizing the dataset\n",
    "<br> <p style = 'text-align: justify;'> Before performing PCA on the dataset it is necessary to standardize the dataset. This is because, when multiplying to the identity matrix, we need to have similar values in the X(dataset).\n",
    "<br> Failing to standardize the data might lead to PCA algorithm assume higher emphesis on higher numerical valued feature. For e.g., a feature might range in 100,000 to 200,000 might be considered over the feature ranging between 1 to 100. this is the case when units of measurement vary across the features.\n",
    "<br> standardization is applied by: $$std(x_i) = \\frac{x_i-\\bar{x}}{\\sigma_x}$$\n",
    "<br> The alternative approach is normalization; however, of the two approaches, standardization retains the extrem outliers, which is desirable while performing PCA.</p>"
   ]
  },
  {
   "cell_type": "code",
   "execution_count": 30,
   "metadata": {},
   "outputs": [],
   "source": [
    "from sklearn.preprocessing import StandardScaler\n",
    "sc = StandardScaler()\n",
    "standard = sc.fit_transform(features)"
   ]
  },
  {
   "cell_type": "markdown",
   "metadata": {},
   "source": [
    "#### Feature Extraction"
   ]
  },
  {
   "cell_type": "markdown",
   "metadata": {},
   "source": [
    "***Principal Component Analysis*** consists of creating linearly uncorrelated features input predictor features or principal components based on orthogonal transformation statistical procedure of possily correlated input predictors.<br> Its main advantage over feature selection is higher discriminaatory effictiveness.<br> Its main disadvantages against feature selection are **loss of data interpretability** and no savings in data acquisition costs.\n",
    "<br> steps are:\n",
    "1. <p style = 'text-align: justify;'> calculate $i$ linear combinations:</p> $$\\sum^i y_i = \\sum^i \\beta_{i}\\cdot x_{i}$$\n",
    "2. <p style = 'text-align: justify;'> calculate first principal component with max variance and constrained by sum of squared coefficients equal to 1:</p>\n",
    "\\begin{align}\n",
    "max(\\sigma^2_{y,i}) & = \\sum^i_{j=1}\\sum^i_{k=1}\\beta_{1,j} \\cdot \\beta_{1,k} \\sigma_{j,k} \\\\\n",
    "\\text{subject to...} \\\\\n",
    "const(y_i) & = \\sum^i_{i=1}\\beta_{1,t^2}=1\n",
    "\\end{align}\n",
    "3. <p style = 'text-align: justify;'> calculate second principal component with remaining maximum variance constrained by sum of squared coefficients equal to one and uncorrelated to first principal component:</p>\n",
    "\\begin{align}\n",
    "max(\\sigma^2_{y2}) & = \\sum^i_{j=1}\\sum^i_{k=1}\\beta_{2,j}\\beta_{2,k}\\sigma_{j,k}\\\\\n",
    "\\text{subject to...}\\\\\n",
    "const_{a}(y2)&=\\sum^i_{l=1}\\beta_{2l^2}=1\\\\\n",
    "\\text{and,}\\\\\n",
    "const_{b}(\\sigma_{y1,y2})&=\\sum^i_{j=1}\\sum^i_{k=1}\\beta_{1j}\\beta_{2k}\\sigma_{jk}=0\n",
    "\\end{align}\n",
    "4. Repeat the step #3 for the subsequent principal components."
   ]
  },
  {
   "cell_type": "code",
   "execution_count": 31,
   "metadata": {},
   "outputs": [],
   "source": [
    "# Implementing PCA\n",
    "from sklearn.decomposition import PCA\n",
    "pca = PCA(n_components=None, svd_solver='full')\n",
    "processed = pca.fit_transform(standard)"
   ]
  },
  {
   "cell_type": "code",
   "execution_count": 32,
   "metadata": {},
   "outputs": [
    {
     "data": {
      "text/plain": [
       "array([0.38908885, 0.17614144, 0.13844514, 0.12495265, 0.09305906,\n",
       "       0.05154532, 0.02197368, 0.00479386])"
      ]
     },
     "execution_count": 32,
     "metadata": {},
     "output_type": "execute_result"
    }
   ],
   "source": [
    "pca.explained_variance_ratio_"
   ]
  },
  {
   "cell_type": "code",
   "execution_count": 61,
   "metadata": {},
   "outputs": [
    {
     "data": {
      "image/png": "[encoded data removed]",
      "text/plain": [
       "<Figure size 432x288 with 1 Axes>"
      ]
     },
     "metadata": {
      "needs_background": "light"
     },
     "output_type": "display_data"
    }
   ],
   "source": [
    "fig, ax = plt.subplots()\n",
    "ax.bar(x=list(range(0, pca.n_components_)), height=pca.explained_variance_ratio_)\n",
    "ax.set_title('explained variances per each principal component')\n",
    "ax.set_xlabel('principal component')\n",
    "ax.set_ylabel('explained variance')\n",
    "plt.show()"
   ]
  },
  {
   "cell_type": "code",
   "execution_count": 33,
   "metadata": {},
   "outputs": [
    {
     "data": {
      "text/html": [
       "<div>\n",
       "<style scoped>\n",
       "    .dataframe tbody tr th:only-of-type {\n",
       "        vertical-align: middle;\n",
       "    }\n",
       "\n",
       "    .dataframe tbody tr th {\n",
       "        vertical-align: top;\n",
       "    }\n",
       "\n",
       "    .dataframe thead th {\n",
       "        text-align: right;\n",
       "    }\n",
       "</style>\n",
       "<table border=\"1\" class=\"dataframe\">\n",
       "  <thead>\n",
       "    <tr style=\"text-align: right;\">\n",
       "      <th></th>\n",
       "      <th>0</th>\n",
       "      <th>1</th>\n",
       "      <th>2</th>\n",
       "      <th>3</th>\n",
       "      <th>4</th>\n",
       "      <th>5</th>\n",
       "      <th>6</th>\n",
       "      <th>7</th>\n",
       "    </tr>\n",
       "  </thead>\n",
       "  <tbody>\n",
       "    <tr>\n",
       "      <th>0</th>\n",
       "      <td>-0.475328</td>\n",
       "      <td>-0.419216</td>\n",
       "      <td>-0.424259</td>\n",
       "      <td>-0.486740</td>\n",
       "      <td>-0.369571</td>\n",
       "      <td>-0.120375</td>\n",
       "      <td>-0.173867</td>\n",
       "      <td>0.010330</td>\n",
       "    </tr>\n",
       "    <tr>\n",
       "      <th>1</th>\n",
       "      <td>-0.285024</td>\n",
       "      <td>0.115428</td>\n",
       "      <td>-0.077000</td>\n",
       "      <td>-0.304607</td>\n",
       "      <td>0.510330</td>\n",
       "      <td>-0.309534</td>\n",
       "      <td>0.671173</td>\n",
       "      <td>0.001484</td>\n",
       "    </tr>\n",
       "    <tr>\n",
       "      <th>2</th>\n",
       "      <td>-0.151259</td>\n",
       "      <td>0.408471</td>\n",
       "      <td>0.431898</td>\n",
       "      <td>-0.165594</td>\n",
       "      <td>-0.169257</td>\n",
       "      <td>-0.670467</td>\n",
       "      <td>-0.340497</td>\n",
       "      <td>-0.046933</td>\n",
       "    </tr>\n",
       "    <tr>\n",
       "      <th>3</th>\n",
       "      <td>-0.004825</td>\n",
       "      <td>-0.018148</td>\n",
       "      <td>-0.022357</td>\n",
       "      <td>-0.001983</td>\n",
       "      <td>0.009925</td>\n",
       "      <td>0.038448</td>\n",
       "      <td>0.010000</td>\n",
       "      <td>-0.998733</td>\n",
       "    </tr>\n",
       "    <tr>\n",
       "      <th>4</th>\n",
       "      <td>0.422083</td>\n",
       "      <td>-0.432475</td>\n",
       "      <td>-0.307449</td>\n",
       "      <td>0.321037</td>\n",
       "      <td>0.095271</td>\n",
       "      <td>-0.654136</td>\n",
       "      <td>-0.010040</td>\n",
       "      <td>-0.012271</td>\n",
       "    </tr>\n",
       "    <tr>\n",
       "      <th>5</th>\n",
       "      <td>0.009414</td>\n",
       "      <td>0.356010</td>\n",
       "      <td>-0.512182</td>\n",
       "      <td>-0.098004</td>\n",
       "      <td>0.543702</td>\n",
       "      <td>0.050838</td>\n",
       "      <td>-0.550444</td>\n",
       "      <td>0.006994</td>\n",
       "    </tr>\n",
       "    <tr>\n",
       "      <th>6</th>\n",
       "      <td>-0.197498</td>\n",
       "      <td>-0.571600</td>\n",
       "      <td>0.507244</td>\n",
       "      <td>-0.054298</td>\n",
       "      <td>0.519173</td>\n",
       "      <td>0.065799</td>\n",
       "      <td>-0.316438</td>\n",
       "      <td>0.004617</td>\n",
       "    </tr>\n",
       "    <tr>\n",
       "      <th>7</th>\n",
       "      <td>-0.672811</td>\n",
       "      <td>0.057029</td>\n",
       "      <td>-0.113526</td>\n",
       "      <td>0.726124</td>\n",
       "      <td>-0.002139</td>\n",
       "      <td>-0.062344</td>\n",
       "      <td>-0.006132</td>\n",
       "      <td>0.000831</td>\n",
       "    </tr>\n",
       "  </tbody>\n",
       "</table>\n",
       "</div>"
      ],
      "text/plain": [
       "          0         1         2         3         4         5         6  \\\n",
       "0 -0.475328 -0.419216 -0.424259 -0.486740 -0.369571 -0.120375 -0.173867   \n",
       "1 -0.285024  0.115428 -0.077000 -0.304607  0.510330 -0.309534  0.671173   \n",
       "2 -0.151259  0.408471  0.431898 -0.165594 -0.169257 -0.670467 -0.340497   \n",
       "3 -0.004825 -0.018148 -0.022357 -0.001983  0.009925  0.038448  0.010000   \n",
       "4  0.422083 -0.432475 -0.307449  0.321037  0.095271 -0.654136 -0.010040   \n",
       "5  0.009414  0.356010 -0.512182 -0.098004  0.543702  0.050838 -0.550444   \n",
       "6 -0.197498 -0.571600  0.507244 -0.054298  0.519173  0.065799 -0.316438   \n",
       "7 -0.672811  0.057029 -0.113526  0.726124 -0.002139 -0.062344 -0.006132   \n",
       "\n",
       "          7  \n",
       "0  0.010330  \n",
       "1  0.001484  \n",
       "2 -0.046933  \n",
       "3 -0.998733  \n",
       "4 -0.012271  \n",
       "5  0.006994  \n",
       "6  0.004617  \n",
       "7  0.000831  "
      ]
     },
     "execution_count": 33,
     "metadata": {},
     "output_type": "execute_result"
    }
   ],
   "source": [
    "# The index are n components and columns are features\n",
    "pd.DataFrame(pca.components_)"
   ]
  },
  {
   "cell_type": "markdown",
   "metadata": {},
   "source": [
    "#### Model Selection"
   ]
  },
  {
   "cell_type": "markdown",
   "metadata": {},
   "source": [
    "<p style= 'text-align:justify;'>Generally, the performance of the supervised learning algorithm is tested on the dataset other than the dataset that it was initially trained.<br> Tor this purpose we apportion the dataset into two/ three parts known as train, validation and test set. This is a general practices while developing a machine learning algorithm. However, it has certain limitations; first, I provides just one estimator. Second, changing splitting pattern can significantly change testing accuracy - succeptible to selection bias.\n",
    "<br> Apparently, we might want to split the dataset into several train-test sets. That's where cross-validation comes into pitcure. The advantage of cross-validation over simple splitting of data is that it provides more 'generalizable' estimators.</p>\n",
    "<p style= 'test-align:justify;'> In cross-validation, train set is divided into $\\frac{1}{n}$ bins, a.k.a 'folds'. The model is then trained on $^kP_1$ samples. The estimated error is the expected error from the $k$ fold dataset. We thereby we ensure we donot overfit the data and select the best performing model.</p>\n",
    "<p style= 'text-align:justify;'> Performing $k$-fold cross validation on financial time-series data may pose another challenge, i.e., look-ahead bias. To tackle with this problem, a roll-forward $k$-fold cross validation is performed.<br> Here, of the $k$ folds, folds 1 & 2 is used as training and test data, then 2 & 3 and so on...This ensures that the training data is always before testing data.<br> However, autho Marcos LoPez (Advances in Financial Machine Learning) argue that roll-forward method too has drawbacks. First, only single scenario is tested, which could easily be overfit. Second, roll-forward is not necessarily representative of future performance, which is a potential for bias introduction. Third, the initial decisions are made on smaller ($\\frac{3}{4}\\frac{t_0}{T}+\\frac{1}{4}$) portions of the total sample.\n",
    "<p style= 'text-align:justify;'> The solution recommended by the author is, Combinatorial Purged Cross-Valuation. Here, $T$ observations are split into  $N$ groups without shuffling, where $n=1,...N-1$ of size $\\frac{T}{N}$. The $n$th group is of size $T-\\frac{T}{N}(N-1)$. Thus for testing set of size $k$ groups, the number of possible training/ testing splits is: $^NC_{N-K}=\\frac{\\Pi^{k-1}_{i=0}(N-i)}{k!}$"
   ]
  }
 ],
 "metadata": {
  "kernelspec": {
   "display_name": "Python 3",
   "language": "python",
   "name": "python3"
  },
  "language_info": {
   "codemirror_mode": {
    "name": "ipython",
    "version": 3
   },
   "file_extension": ".py",
   "mimetype": "text/x-python",
   "name": "python",
   "nbconvert_exporter": "python",
   "pygments_lexer": "ipython3",
   "version": "3.6.6"
  }
 },
 "nbformat": 4,
 "nbformat_minor": 2
}
