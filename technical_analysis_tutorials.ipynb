{
 "cells": [
  {
   "cell_type": "code",
   "execution_count": 1,
   "metadata": {},
   "outputs": [],
   "source": [
    "import numpy as np\n",
    "import pandas as pd\n",
    "import pandas_datareader as web\n",
    "import ta"
   ]
  },
  {
   "cell_type": "code",
   "execution_count": 2,
   "metadata": {},
   "outputs": [],
   "source": [
    "import matplotlib.pyplot as plt"
   ]
  },
  {
   "cell_type": "code",
   "execution_count": 3,
   "metadata": {},
   "outputs": [
    {
     "name": "stdout",
     "output_type": "stream",
     "text": [
      "/home/neelkanth/Documents/WQU/WQU_650-ml_for_finance/intro_to_deep_learning/data\n"
     ]
    }
   ],
   "source": [
    "cd ~/Documents/WQU/WQU_650-ml_for_finance/intro_to_deep_learning/data/"
   ]
  },
  {
   "cell_type": "code",
   "execution_count": 4,
   "metadata": {},
   "outputs": [],
   "source": [
    "dataset = pd.read_csv('dataset.csv', index_col=0)"
   ]
  },
  {
   "cell_type": "code",
   "execution_count": 81,
   "metadata": {},
   "outputs": [
    {
     "name": "stdout",
     "output_type": "stream",
     "text": [
      "<class 'pandas.core.frame.DataFrame'>\n",
      "DatetimeIndex: 52200 entries, 2009-09-28 09:46:35 to 2018-10-31 18:25:11\n",
      "Data columns (total 6 columns):\n",
      "price    52200 non-null float64\n",
      "bid      52200 non-null float64\n",
      "ask      52200 non-null float64\n",
      "size     52200 non-null int64\n",
      "v        52200 non-null int64\n",
      "dv       52200 non-null int64\n",
      "dtypes: float64(3), int64(3)\n",
      "memory usage: 5.3 MB\n"
     ]
    }
   ],
   "source": [
    "dataset.info()"
   ]
  },
  {
   "cell_type": "code",
   "execution_count": 82,
   "metadata": {},
   "outputs": [],
   "source": [
    "dataset['dv'] = dataset['dv'].astype(np.int64)"
   ]
  },
  {
   "cell_type": "code",
   "execution_count": 6,
   "metadata": {},
   "outputs": [],
   "source": [
    "# Converting index to datetime index\n",
    "dataset.index = pd.to_datetime(dataset.index)\n",
    "\n",
    "# Deriving 10 Min intervaled ohlc ask data\n",
    "data_ask = dataset['ask'].resample('10Min').ohlc().fillna(method='ffill')\n",
    "\n",
    "# Deriving 10 Min intervaled ohlc bid data\n",
    "data_bid = dataset['bid'].resample('10Min').ohlc().fillna(method='ffill')\n",
    "\n",
    "# Mergina both dataframes\n",
    "df = data_ask.merge(data_bid, how='outer', left_index=True, right_index=True).dropna(how='all')\n",
    "df.columns = ['open_ask','high_ask','low_ask','close_ask','open_bid','high_bid','low_bid','close_bid']"
   ]
  },
  {
   "cell_type": "code",
   "execution_count": 67,
   "metadata": {},
   "outputs": [],
   "source": [
    "# Same treatment to price data\n",
    "data_price = dataset['price'].resample('10Min').ohlc().fillna(method='ffill').dropna(how='all')"
   ]
  },
  {
   "cell_type": "code",
   "execution_count": 84,
   "metadata": {},
   "outputs": [],
   "source": [
    "sp_df = data_price.merge(dataset[['v', 'dv']],how='outer', left_index=True, right_index=True).fillna(method='ffill').dropna(how='all')\n",
    "\n",
    "# setting first values to 0\n",
    "sp_df['v'][0] = 0\n",
    "sp_df['dv'][0] = 0"
   ]
  },
  {
   "cell_type": "code",
   "execution_count": 92,
   "metadata": {},
   "outputs": [],
   "source": [
    "# generating Awsome Oscilator`\n",
    "ao = ta.momentum.ao(high=sp_df['high'],low=sp_df['low'],fillna=True)"
   ]
  },
  {
   "cell_type": "code",
   "execution_count": 93,
   "metadata": {},
   "outputs": [],
   "source": [
    "# Generating relative strength index\n",
    "rsi = ta.momentum.rsi(close=sp_df['close'],fillna = True)"
   ]
  },
  {
   "cell_type": "code",
   "execution_count": 94,
   "metadata": {},
   "outputs": [],
   "source": [
    "# True Strength Index\n",
    "tsi = ta.momentum.tsi(close=sp_df['close'], fillna=True)"
   ]
  },
  {
   "cell_type": "code",
   "execution_count": 95,
   "metadata": {},
   "outputs": [],
   "source": [
    "MACD = ta.trend.macd(close=sp_df['close'], fillna=True)"
   ]
  },
  {
   "cell_type": "code",
   "execution_count": 96,
   "metadata": {},
   "outputs": [],
   "source": [
    "# Williams %R  is a momentum indicator \n",
    "R_pct = ta.momentum.wr(high=sp_df['high'], low=sp_df['low'], close=sp_df['close'],fillna=True)"
   ]
  },
  {
   "cell_type": "code",
   "execution_count": 99,
   "metadata": {},
   "outputs": [],
   "source": [
    "# Generating East of Movement feature\n",
    "EoM = ta.volume.ease_of_movement(high=sp_df['high'], low=sp_df['low'], close=sp_df['close'], volume=sp_df['v'], fillna=True)"
   ]
  },
  {
   "cell_type": "code",
   "execution_count": 102,
   "metadata": {},
   "outputs": [],
   "source": [
    "# Generating Chaikin Money Flow\n",
    "CMF = ta.volume.chaikin_money_flow(high=sp_df['high'], low=sp_df['low'], close=sp_df['close'], volume=sp_df['v'], fillna=True)"
   ]
  },
  {
   "cell_type": "code",
   "execution_count": 107,
   "metadata": {},
   "outputs": [],
   "source": [
    "# Generating Force Index\n",
    "force_index = ta.volume.force_index(close=sp_df['close'],volume=sp_df['v'], fillna=True)"
   ]
  }
 ],
 "metadata": {
  "kernelspec": {
   "display_name": "Python 3",
   "language": "python",
   "name": "python3"
  },
  "language_info": {
   "codemirror_mode": {
    "name": "ipython",
    "version": 3
   },
   "file_extension": ".py",
   "mimetype": "text/x-python",
   "name": "python",
   "nbconvert_exporter": "python",
   "pygments_lexer": "ipython3",
   "version": "3.6.6"
  }
 },
 "nbformat": 4,
 "nbformat_minor": 2
}
