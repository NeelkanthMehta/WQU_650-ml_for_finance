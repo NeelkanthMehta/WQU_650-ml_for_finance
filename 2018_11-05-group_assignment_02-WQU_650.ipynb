{
 "cells": [
  {
   "cell_type": "markdown",
   "metadata": {},
   "source": [
    "describing dependencies"
   ]
  },
  {
   "cell_type": "code",
   "execution_count": 7,
   "metadata": {},
   "outputs": [
    {
     "name": "stdout",
     "output_type": "stream",
     "text": [
      "/home/neelkanth/Documents/WQU/WQU_650-ml_for_finance/intro_to_deep_learning\n"
     ]
    }
   ],
   "source": [
    "cd ~/Documents/WQU/WQU_650-ml_for_finance/intro_to_deep_learning/"
   ]
  },
  {
   "cell_type": "markdown",
   "metadata": {},
   "source": [
    "#### Importing Libraries"
   ]
  },
  {
   "cell_type": "code",
   "execution_count": 8,
   "metadata": {},
   "outputs": [],
   "source": [
    "# Importing standard libraries\n",
    "import sys\n",
    "import time\n",
    "import re\n",
    "import os\n",
    "import json\n",
    "from pathlib import PurePath, Path\n",
    "\n",
    "# Importing scientific libraries\n",
    "import numpy as np\n",
    "import pandas as pd\n",
    "os.environ['THEANO_FLAGS'] = 'device=cpu, floatX=float32'\n",
    "pd.set_option('display.max_rows', 100)\n",
    "from dask import dataframe as dd\n",
    "from dask.diagnostics import ProgressBar\n",
    "pbar = ProgressBar()\n",
    "pbar.register()\n",
    "import scipy.stats as stats\n",
    "import statsmodels.api as sm\n",
    "from numba import jit\n",
    "import math\n",
    "import pymc3 as pm\n",
    "from theano import shared, theano as tt\n",
    "import ta\n",
    "\n",
    "# importing visual libraries\n",
    "import matplotlib as mpl\n",
    "import matplotlib.pyplot as plt\n",
    "import matplotlib.gridspec as gridspec\n",
    "import seaborn as sns\n",
    "\n",
    "plt.style.use('seaborn-talk')\n",
    "plt.style.use('bmh')\n",
    "plt.rcParams['font.weight'] = 'medium'\n",
    "\n",
    "blue, grean, red, purple, gold, teal = sns.color_palette('colorblind', 6)\n",
    "\n",
    "# Import util libs\n",
    "import pyarrow as palind\n",
    "import pyarrow.parquet as pq\n",
    "from tqdm import tqdm, tqdm_notebook\n",
    "import warnings\n",
    "warnings.filterwarnings(\"ignore\")\n",
    "import missingno as msno\n",
    "\n",
    "# user defined libraries\n",
    "from src.utils.utils import *\n",
    "from src.features.bars import get_imbalance\n",
    "import src.features.bars as brs\n",
    "import src.features.snippets as snp\n",
    "\n",
    "RANDOM_STATE = 777"
   ]
  },
  {
   "cell_type": "code",
   "execution_count": 9,
   "metadata": {},
   "outputs": [],
   "source": [
    "infp = PurePath('./data/IVE_tickbidask.txt')"
   ]
  },
  {
   "cell_type": "markdown",
   "metadata": {},
   "source": [
    "#### loading and cleaning data"
   ]
  },
  {
   "cell_type": "code",
   "execution_count": 10,
   "metadata": {},
   "outputs": [],
   "source": [
    "\"\"\"Reading and Cleaning data\"\"\"\n",
    "\n",
    "def read_kibot_ticks(fp):\n",
    "    cols = list(map(str.lower, ['Date', 'Time', 'Price', 'Bid', 'Ask', 'Size']))\n",
    "    df = (pd.read_csv(fp, header=None)\n",
    "    .rename(columns=dict(zip(range(len(cols)), cols)))\n",
    "    .assign(dates=lambda df: (pd.to_datetime(df['date']+df['time'], format='%m/%d/%Y%H:%M:%S')))\n",
    "    .assign(v = lambda df: df['size']) # volume\n",
    "    .assign(dv= lambda df: df['price']*df['size']) # dollar volume\n",
    "    .drop(['date', 'time'], axis=1)\n",
    "    .set_index('dates')\n",
    "    .drop_duplicates())\n",
    "    return df"
   ]
  },
  {
   "cell_type": "code",
   "execution_count": 11,
   "metadata": {},
   "outputs": [],
   "source": [
    "# Creating a tick dataframe\n",
    "df = read_kibot_ticks(infp)"
   ]
  },
  {
   "cell_type": "code",
   "execution_count": 12,
   "metadata": {},
   "outputs": [],
   "source": [
    "# Printing the output fataframe\n",
    "outfp = PurePath('./data/IVE_tickbidask.parq')\n",
    "df.to_parquet(outfp)"
   ]
  },
  {
   "cell_type": "code",
   "execution_count": 13,
   "metadata": {},
   "outputs": [
    {
     "data": {
      "text/plain": [
       "<matplotlib.axes._subplots.AxesSubplot at 0x7fb4364782b0>"
      ]
     },
     "execution_count": 13,
     "metadata": {},
     "output_type": "execute_result"
    },
    {
     "data": {
      "image/png": "[encoded data removed]",
      "text/plain": [
       "<Figure size 1800x720 with 2 Axes>"
      ]
     },
     "metadata": {
      "needs_background": "light"
     },
     "output_type": "display_data"
    }
   ],
   "source": [
    "# missing numbers\n",
    "msno.matrix(df)"
   ]
  },
  {
   "cell_type": "code",
   "execution_count": 14,
   "metadata": {},
   "outputs": [],
   "source": [
    "\"\"\"Eliminating outliers from the dataset\"\"\"\n",
    "def mad_outlier(y, thresh=3.):\n",
    "    '''\n",
    "    compute outliers based on mad\n",
    "    # args\n",
    "        y: assumed to be array with shape (N,1)\n",
    "        thresh: float()\n",
    "    # returns\n",
    "        array index of outliers\n",
    "    '''\n",
    "    median = np.median(y)\n",
    "    diff = np.sum((y-median)**2, axis=-1)\n",
    "    diff = np.sqrt(diff)\n",
    "    med_abs_deviation = np.median(diff)\n",
    "    \n",
    "    modified_z_score = 0.6745 * diff/ med_abs_deviation\n",
    "    return modified_z_score > thresh"
   ]
  },
  {
   "cell_type": "code",
   "execution_count": 15,
   "metadata": {},
   "outputs": [],
   "source": [
    "# defining variable mad\n",
    "mad = mad_outlier(df.price.values.reshape(-1,1))\n",
    "\n",
    "# removing outliers\n",
    "df = df.loc[~mad]"
   ]
  },
  {
   "cell_type": "code",
   "execution_count": 16,
   "metadata": {},
   "outputs": [],
   "source": [
    "\"\"\"Exporting the processed data to file\"\"\"\n",
    "outfp = PurePath('./data/clean_IVE_fut_prices.parq')\n",
    "df.to_parquet(outfp)"
   ]
  },
  {
   "cell_type": "code",
   "execution_count": 17,
   "metadata": {},
   "outputs": [],
   "source": [
    "\"\"\"Creating Dollar Bars\"\"\"\n",
    "def dollar_bars(df, dv_column, m):\n",
    "    '''\n",
    "    compute dollar bars\n",
    "    \n",
    "    # args\n",
    "        df: pd.DataFrame()\n",
    "        dv_column: name of dollar volume bar\n",
    "        m: int(), threshold value for dollars\n",
    "    # returns\n",
    "        idx: list of indices\n",
    "    '''\n",
    "    t = df[dv_column]\n",
    "    ts = 0\n",
    "    idx = []\n",
    "    for i, x in enumerate(tqdm(t)):\n",
    "        ts += x\n",
    "        if ts >= m:\n",
    "            idx.append(i)\n",
    "            ts = 0\n",
    "            continue\n",
    "    return idx\n",
    "\n",
    "def dollar_bar_df(df, dv_column, m):\n",
    "    idx = dollar_bars(df, dv_column, m)\n",
    "    return df.iloc[idx].drop_duplicates()"
   ]
  },
  {
   "cell_type": "code",
   "execution_count": 18,
   "metadata": {},
   "outputs": [
    {
     "name": "stdout",
     "output_type": "stream",
     "text": [
      "-------------------------------------------------------------------------------\n",
      "dataframe information\n",
      "-------------------------------------------------------------------------------\n",
      "                      price     bid     ask   size      v          dv\n",
      "dates                                                                \n",
      "2018-10-31 16:10:00  109.65  108.01  116.99      0      0        0.00\n",
      "2018-10-31 16:17:27  109.63  109.63  116.99    190    190    20829.70\n",
      "2018-10-31 18:25:11  109.65  108.11  109.90  14993  14993  1643982.45\n",
      "2018-10-31 18:30:00  109.65  108.11  109.90      0      0        0.00\n",
      "2018-10-31 20:00:00  109.65  109.14  109.90      0      0        0.00\n",
      "--------------------------------------------------\n",
      "<class 'pandas.core.frame.DataFrame'>\n",
      "DatetimeIndex: 1447049 entries, 2009-09-28 09:30:00 to 2018-10-31 20:00:00\n",
      "Data columns (total 6 columns):\n",
      "price    1447049 non-null float64\n",
      "bid      1447049 non-null float64\n",
      "ask      1447049 non-null float64\n",
      "size     1447049 non-null int64\n",
      "v        1447049 non-null int64\n",
      "dv       1447049 non-null float64\n",
      "dtypes: float64(4), int64(2)\n",
      "memory usage: 77.3 MB\n",
      "None\n",
      "-------------------------------------------------------------------------------\n",
      "\n"
     ]
    }
   ],
   "source": [
    "# loading data - if not already loaded\n",
    "df = pd.read_parquet('./data/clean_IVE_fut_prices.parq')\n",
    "cprint(df)"
   ]
  },
  {
   "cell_type": "code",
   "execution_count": 19,
   "metadata": {},
   "outputs": [
    {
     "name": "stderr",
     "output_type": "stream",
     "text": [
      " 19%|█▊        | 270409/1447049 [00:00<00:01, 1080683.60it/s]"
     ]
    },
    {
     "name": "stdout",
     "output_type": "stream",
     "text": [
      "dollar threshold: 1,000,000\n"
     ]
    },
    {
     "name": "stderr",
     "output_type": "stream",
     "text": [
      "100%|██████████| 1447049/1447049 [00:00<00:00, 1896402.27it/s]\n"
     ]
    },
    {
     "name": "stdout",
     "output_type": "stream",
     "text": [
      "-------------------------------------------------------------------------------\n",
      "dataframe information\n",
      "-------------------------------------------------------------------------------\n",
      "                      price     bid     ask   size      v          dv\n",
      "dates                                                                \n",
      "2018-10-31 15:56:55  109.73  109.74  109.74    800    800    87784.00\n",
      "2018-10-31 15:56:55  109.73  109.73  109.74   2700   2700   296271.00\n",
      "2018-10-31 15:59:33  109.60  109.60  109.62    700    700    76720.00\n",
      "2018-10-31 16:00:00  109.65  109.62  109.63  68570  68570  7518700.50\n",
      "2018-10-31 18:25:11  109.65  108.11  109.90  14993  14993  1643982.45\n",
      "--------------------------------------------------\n",
      "<class 'pandas.core.frame.DataFrame'>\n",
      "DatetimeIndex: 52200 entries, 2009-09-28 09:46:35 to 2018-10-31 18:25:11\n",
      "Data columns (total 6 columns):\n",
      "price    52200 non-null float64\n",
      "bid      52200 non-null float64\n",
      "ask      52200 non-null float64\n",
      "size     52200 non-null int64\n",
      "v        52200 non-null int64\n",
      "dv       52200 non-null float64\n",
      "dtypes: float64(4), int64(2)\n",
      "memory usage: 2.8 MB\n",
      "None\n",
      "-------------------------------------------------------------------------------\n",
      "\n"
     ]
    }
   ],
   "source": [
    "# executing the function:\n",
    "dollar_M = 1_000_000  # arbitrary\n",
    "print(f\"dollar threshold: {dollar_M:,}\")\n",
    "dv_bar_df = dollar_bar_df(df,'dv', dollar_M)\n",
    "cprint(dv_bar_df)"
   ]
  },
  {
   "cell_type": "code",
   "execution_count": 20,
   "metadata": {},
   "outputs": [],
   "source": [
    "# Resampling\n",
    "def select_sample_data(ref, sub, price_col, date):\n",
    "    '''\n",
    "    select a sample of data based on date, assumes datetimeindex\n",
    "    \n",
    "    # args\n",
    "        ref: pd.DataFrame containing all ticks\n",
    "        sub: subordinated pd.DataFrame of prices\n",
    "        price_col: str(), price column\n",
    "        date: str(), date to select\n",
    "    # returns\n",
    "        xdf: ref pd.Series\n",
    "        xtdf: subordinated pd.Series\n",
    "    '''\n",
    "    xdf = ref[price_col].loc[date]\n",
    "    xtdf= sub[price_col].loc[date]\n",
    "    return xdf, xtdf\n",
    "\n",
    "xDate = '2009-10-01' #'2017-10-4'\n",
    "xdf, xtdf = select_sample_data(df, dv_bar_df, 'price', xDate)"
   ]
  },
  {
   "cell_type": "code",
   "execution_count": 21,
   "metadata": {},
   "outputs": [],
   "source": [
    "\"\"\"Exporting the Dollar Bar\"\"\"\n",
    "dv_bar_df.to_csv('./data/dataset.csv', sep=',', header=True)"
   ]
  },
  {
   "cell_type": "markdown",
   "metadata": {},
   "source": [
    "#### generate labell and features"
   ]
  },
  {
   "cell_type": "code",
   "execution_count": 22,
   "metadata": {},
   "outputs": [],
   "source": [
    "dataset = pd.read_csv('./data/dataset.csv', index_col=0)\n",
    "dataset['dv'] = dataset['dv'].astype(np.int64)\n",
    "dataset.index = pd.to_datetime(dataset.index)"
   ]
  },
  {
   "cell_type": "code",
   "execution_count": 23,
   "metadata": {},
   "outputs": [
    {
     "name": "stdout",
     "output_type": "stream",
     "text": [
      "-------------------------------------------------------------------------------\n",
      "dataframe information\n",
      "-------------------------------------------------------------------------------\n",
      "                       open    high     low   close        v         dv\n",
      "dates                                                                  \n",
      "2018-10-31 17:50:00  109.65  109.65  109.65  109.65  68570.0  7518700.0\n",
      "2018-10-31 18:00:00  109.65  109.65  109.65  109.65  68570.0  7518700.0\n",
      "2018-10-31 18:10:00  109.65  109.65  109.65  109.65  68570.0  7518700.0\n",
      "2018-10-31 18:20:00  109.65  109.65  109.65  109.65  68570.0  7518700.0\n",
      "2018-10-31 18:25:11  109.65  109.65  109.65  109.65  14993.0  1643982.0\n",
      "--------------------------------------------------\n",
      "<class 'pandas.core.frame.DataFrame'>\n",
      "DatetimeIndex: 528918 entries, 2009-09-28 09:40:00 to 2018-10-31 18:25:11\n",
      "Data columns (total 6 columns):\n",
      "open     528918 non-null float64\n",
      "high     528918 non-null float64\n",
      "low      528918 non-null float64\n",
      "close    528918 non-null float64\n",
      "v        528918 non-null float64\n",
      "dv       528918 non-null float64\n",
      "dtypes: float64(6)\n",
      "memory usage: 48.2 MB\n",
      "None\n",
      "-------------------------------------------------------------------------------\n",
      "\n"
     ]
    }
   ],
   "source": [
    "# Creating ohlc data\n",
    "price = dataset['price'].resample('10Min').ohlc().fillna(method='ffill').dropna(how='all')\n",
    "\n",
    "df = price.merge(dataset[['v','dv']], how='outer', left_index=True, right_index=True).fillna(method='ffill').dropna(how='all')\n",
    "df['v'][0], df['dv'][0] = 0, 0\n",
    "\n",
    "cprint(df)"
   ]
  },
  {
   "cell_type": "markdown",
   "metadata": {},
   "source": [
    "#### Generating Labels:"
   ]
  },
  {
   "cell_type": "code",
   "execution_count": 24,
   "metadata": {},
   "outputs": [],
   "source": [
    "'''For details, ref: https://bit.ly/2CZp7OB'''\n",
    "y_vol = np.sqrt(252) * pd.DataFrame.rolling(np.log(df['close']/df['close'].shift(1)), window=14).std().fillna(value=0)"
   ]
  },
  {
   "cell_type": "code",
   "execution_count": 25,
   "metadata": {},
   "outputs": [],
   "source": [
    "# Awsome Oscillator\n",
    "ao = ta.momentum.ao(high=df['high'], low=df['low'], fillna=True)\n",
    "\n",
    " # Relative Strength Index\n",
    "rsi = ta.momentum.rsi(close=df['close'], fillna=True)\n",
    "\n",
    "# True Strength Index\n",
    "tsi = ta.momentum.tsi(close=df['close'], fillna=True) \n",
    "\n",
    "# MACD\n",
    "macd = ta.trend.macd(close=df['close'], fillna=True) \n",
    "\n",
    "# William's %R\n",
    "r_pct = ta.momentum.wr(high=df['high'], low=df['low'], close=df['close'], fillna=True) \n",
    "\n",
    "# East of Movement\n",
    "EoM = ta.volume.ease_of_movement(high=df['high'], low=df['low'], close=df['close'], volume=df['v'],fillna=True) \n",
    "\n",
    "# Chaikin Money Flow\n",
    "cmf = ta.volume.chaikin_money_flow(high=df['high'], low=df['low'], close=df['close'], volume=df['v'], fillna=True) \n",
    "\n",
    "# Force Index\n",
    "force_index = ta.volume.force_index(close=df['close'], volume=df['v'], fillna=True)"
   ]
  },
  {
   "cell_type": "code",
   "execution_count": 26,
   "metadata": {},
   "outputs": [],
   "source": [
    "# Combining eight features in single df\n",
    "features = pd.concat((ao, rsi, tsi, macd, r_pct, EoM, cmf, force_index), axis=1)\n",
    "cols = ['ao', 'rsi', 'tsi', 'macd', 'r_pct', 'EoM', 'cmf', 'force_index']\n",
    "features.columns = cols"
   ]
  },
  {
   "cell_type": "markdown",
   "metadata": {},
   "source": [
    "#### Standardizing the dataset"
   ]
  },
  {
   "cell_type": "code",
   "execution_count": 27,
   "metadata": {},
   "outputs": [],
   "source": [
    "from sklearn.preprocessing import StandardScaler\n",
    "sc = StandardScaler()\n",
    "standard = sc.fit_transform(features)"
   ]
  },
  {
   "cell_type": "markdown",
   "metadata": {},
   "source": [
    "#### Principal Component Analysis"
   ]
  },
  {
   "cell_type": "code",
   "execution_count": 28,
   "metadata": {},
   "outputs": [],
   "source": [
    "from sklearn.decomposition import PCA\n",
    "pca = PCA(n_components=4, svd_solver='full')\n",
    "processed = pca.fit_transform(standard)"
   ]
  },
  {
   "cell_type": "code",
   "execution_count": 29,
   "metadata": {},
   "outputs": [
    {
     "data": {
      "text/plain": [
       "array([0.38908885, 0.17614144, 0.13844514, 0.12495265])"
      ]
     },
     "execution_count": 29,
     "metadata": {},
     "output_type": "execute_result"
    }
   ],
   "source": [
    "pca.explained_variance_ratio_"
   ]
  },
  {
   "cell_type": "code",
   "execution_count": 30,
   "metadata": {},
   "outputs": [
    {
     "data": {
      "text/html": [
       "<div>\n",
       "<style scoped>\n",
       "    .dataframe tbody tr th:only-of-type {\n",
       "        vertical-align: middle;\n",
       "    }\n",
       "\n",
       "    .dataframe tbody tr th {\n",
       "        vertical-align: top;\n",
       "    }\n",
       "\n",
       "    .dataframe thead th {\n",
       "        text-align: right;\n",
       "    }\n",
       "</style>\n",
       "<table border=\"1\" class=\"dataframe\">\n",
       "  <thead>\n",
       "    <tr style=\"text-align: right;\">\n",
       "      <th></th>\n",
       "      <th>0</th>\n",
       "      <th>1</th>\n",
       "      <th>2</th>\n",
       "      <th>3</th>\n",
       "      <th>4</th>\n",
       "      <th>5</th>\n",
       "      <th>6</th>\n",
       "      <th>7</th>\n",
       "    </tr>\n",
       "  </thead>\n",
       "  <tbody>\n",
       "    <tr>\n",
       "      <th>0</th>\n",
       "      <td>-0.475328</td>\n",
       "      <td>-0.419216</td>\n",
       "      <td>-0.424259</td>\n",
       "      <td>-0.486740</td>\n",
       "      <td>-0.369571</td>\n",
       "      <td>-0.120375</td>\n",
       "      <td>-0.173867</td>\n",
       "      <td>0.010330</td>\n",
       "    </tr>\n",
       "    <tr>\n",
       "      <th>1</th>\n",
       "      <td>-0.285024</td>\n",
       "      <td>0.115428</td>\n",
       "      <td>-0.077000</td>\n",
       "      <td>-0.304607</td>\n",
       "      <td>0.510330</td>\n",
       "      <td>-0.309534</td>\n",
       "      <td>0.671173</td>\n",
       "      <td>0.001484</td>\n",
       "    </tr>\n",
       "    <tr>\n",
       "      <th>2</th>\n",
       "      <td>-0.151259</td>\n",
       "      <td>0.408471</td>\n",
       "      <td>0.431898</td>\n",
       "      <td>-0.165594</td>\n",
       "      <td>-0.169257</td>\n",
       "      <td>-0.670467</td>\n",
       "      <td>-0.340497</td>\n",
       "      <td>-0.046933</td>\n",
       "    </tr>\n",
       "    <tr>\n",
       "      <th>3</th>\n",
       "      <td>-0.004825</td>\n",
       "      <td>-0.018148</td>\n",
       "      <td>-0.022357</td>\n",
       "      <td>-0.001983</td>\n",
       "      <td>0.009925</td>\n",
       "      <td>0.038448</td>\n",
       "      <td>0.010000</td>\n",
       "      <td>-0.998733</td>\n",
       "    </tr>\n",
       "  </tbody>\n",
       "</table>\n",
       "</div>"
      ],
      "text/plain": [
       "          0         1         2         3         4         5         6  \\\n",
       "0 -0.475328 -0.419216 -0.424259 -0.486740 -0.369571 -0.120375 -0.173867   \n",
       "1 -0.285024  0.115428 -0.077000 -0.304607  0.510330 -0.309534  0.671173   \n",
       "2 -0.151259  0.408471  0.431898 -0.165594 -0.169257 -0.670467 -0.340497   \n",
       "3 -0.004825 -0.018148 -0.022357 -0.001983  0.009925  0.038448  0.010000   \n",
       "\n",
       "          7  \n",
       "0  0.010330  \n",
       "1  0.001484  \n",
       "2 -0.046933  \n",
       "3 -0.998733  "
      ]
     },
     "execution_count": 30,
     "metadata": {},
     "output_type": "execute_result"
    }
   ],
   "source": [
    "pd.DataFrame(pca.components_)"
   ]
  }
 ],
 "metadata": {
  "kernelspec": {
   "display_name": "Python 3",
   "language": "python",
   "name": "python3"
  },
  "language_info": {
   "codemirror_mode": {
    "name": "ipython",
    "version": 3
   },
   "file_extension": ".py",
   "mimetype": "text/x-python",
   "name": "python",
   "nbconvert_exporter": "python",
   "pygments_lexer": "ipython3",
   "version": "3.6.6"
  }
 },
 "nbformat": 4,
 "nbformat_minor": 2
}
