{
 "cells": [
  {
   "cell_type": "markdown",
   "metadata": {
    "toc": true
   },
   "source": [
    "<h1>Table of Contents<span class=\"tocSkip\"></span></h1>\n",
    "<div class=\"toc\"><ul class=\"toc-item\"><li><span><a href=\"#Labeling-and-MetaLabeling\" data-toc-modified-id=\"Labeling-and-MetaLabeling-1\" data-vivaldi-spatnav-clickable=\"1\"><span class=\"toc-item-num\">1&nbsp;&nbsp;</span>Labeling and MetaLabeling</a></span><ul class=\"toc-item\"><li><span><a href=\"#Overview\" data-toc-modified-id=\"Overview-1.1\" data-vivaldi-spatnav-clickable=\"1\"><span class=\"toc-item-num\">1.1&nbsp;&nbsp;</span>Overview</a></span></li><li><span><a href=\"#Code-Snippets\" data-toc-modified-id=\"Code-Snippets-1.2\" data-vivaldi-spatnav-clickable=\"1\"><span class=\"toc-item-num\">1.2&nbsp;&nbsp;</span>Code Snippets</a></span><ul class=\"toc-item\"><li><span><a href=\"#Symmetric-CUSUM-Filter-[2.5.2.1]\" data-toc-modified-id=\"Symmetric-CUSUM-Filter-[2.5.2.1]-1.2.1\" data-vivaldi-spatnav-clickable=\"1\"><span class=\"toc-item-num\">1.2.1&nbsp;&nbsp;</span>Symmetric CUSUM Filter [2.5.2.1]</a></span></li><li><span><a href=\"#Daily-Volatility-Estimator-[3.1]\" data-toc-modified-id=\"Daily-Volatility-Estimator-[3.1]-1.2.2\" data-vivaldi-spatnav-clickable=\"1\"><span class=\"toc-item-num\">1.2.2&nbsp;&nbsp;</span>Daily Volatility Estimator [3.1]</a></span></li><li><span><a href=\"#Triple-Barrier-Labeling-Method-[3.2]\" data-toc-modified-id=\"Triple-Barrier-Labeling-Method-[3.2]-1.2.3\" data-vivaldi-spatnav-clickable=\"1\"><span class=\"toc-item-num\">1.2.3&nbsp;&nbsp;</span>Triple-Barrier Labeling Method [3.2]</a></span></li><li><span><a href=\"#Gettting-Time-of-First-Touch-(getEvents)-[3.3],-[3.6]\" data-toc-modified-id=\"Gettting-Time-of-First-Touch-(getEvents)-[3.3],-[3.6]-1.2.4\" data-vivaldi-spatnav-clickable=\"1\"><span class=\"toc-item-num\">1.2.4&nbsp;&nbsp;</span>Gettting Time of First Touch (getEvents) [3.3], [3.6]</a></span></li><li><span><a href=\"#Adding-Vertical-Barrier-[3.4]\" data-toc-modified-id=\"Adding-Vertical-Barrier-[3.4]-1.2.5\" data-vivaldi-spatnav-clickable=\"1\"><span class=\"toc-item-num\">1.2.5&nbsp;&nbsp;</span>Adding Vertical Barrier [3.4]</a></span></li><li><span><a href=\"#Labeling-for-side-and-size-[3.5]\" data-toc-modified-id=\"Labeling-for-side-and-size-[3.5]-1.2.6\" data-vivaldi-spatnav-clickable=\"1\"><span class=\"toc-item-num\">1.2.6&nbsp;&nbsp;</span>Labeling for side and size [3.5]</a></span></li><li><span><a href=\"#Expanding-getBins-to-Incorporate-Meta-Labeling-[3.7]\" data-toc-modified-id=\"Expanding-getBins-to-Incorporate-Meta-Labeling-[3.7]-1.2.7\" data-vivaldi-spatnav-clickable=\"1\"><span class=\"toc-item-num\">1.2.7&nbsp;&nbsp;</span>Expanding getBins to Incorporate Meta-Labeling [3.7]</a></span></li><li><span><a href=\"#Dropping-Unnecessary-Labels-[3.8]\" data-toc-modified-id=\"Dropping-Unnecessary-Labels-[3.8]-1.2.8\" data-vivaldi-spatnav-clickable=\"1\"><span class=\"toc-item-num\">1.2.8&nbsp;&nbsp;</span>Dropping Unnecessary Labels [3.8]</a></span></li><li><span><a href=\"#Linear-Partitions-[20.4.1]\" data-toc-modified-id=\"Linear-Partitions-[20.4.1]-1.2.9\" data-vivaldi-spatnav-clickable=\"1\"><span class=\"toc-item-num\">1.2.9&nbsp;&nbsp;</span>Linear Partitions [20.4.1]</a></span></li><li><span><a href=\"#multiprocessing-snippet-[20.7]\" data-toc-modified-id=\"multiprocessing-snippet-[20.7]-1.2.10\" data-vivaldi-spatnav-clickable=\"1\"><span class=\"toc-item-num\">1.2.10&nbsp;&nbsp;</span>multiprocessing snippet [20.7]</a></span></li><li><span><a href=\"#single-thread-execution-for-debugging-[20.8]\" data-toc-modified-id=\"single-thread-execution-for-debugging-[20.8]-1.2.11\" data-vivaldi-spatnav-clickable=\"1\"><span class=\"toc-item-num\">1.2.11&nbsp;&nbsp;</span>single-thread execution for debugging [20.8]</a></span></li><li><span><a href=\"#Example-of-async-call-to-multiprocessing-lib-[20.9]\" data-toc-modified-id=\"Example-of-async-call-to-multiprocessing-lib-[20.9]-1.2.12\" data-vivaldi-spatnav-clickable=\"1\"><span class=\"toc-item-num\">1.2.12&nbsp;&nbsp;</span>Example of async call to multiprocessing lib [20.9]</a></span></li><li><span><a href=\"#Unwrapping-the-Callback-[20.10]\" data-toc-modified-id=\"Unwrapping-the-Callback-[20.10]-1.2.13\" data-vivaldi-spatnav-clickable=\"1\"><span class=\"toc-item-num\">1.2.13&nbsp;&nbsp;</span>Unwrapping the Callback [20.10]</a></span></li><li><span><a href=\"#Pickle-Unpickling-Objects-[20.11]\" data-toc-modified-id=\"Pickle-Unpickling-Objects-[20.11]-1.2.14\" data-vivaldi-spatnav-clickable=\"1\"><span class=\"toc-item-num\">1.2.14&nbsp;&nbsp;</span>Pickle Unpickling Objects [20.11]</a></span></li></ul></li></ul></li><li><span><a href=\"#Exercises\" data-toc-modified-id=\"Exercises-2\" data-vivaldi-spatnav-clickable=\"1\"><span class=\"toc-item-num\">2&nbsp;&nbsp;</span>Exercises</a></span><ul class=\"toc-item\"><li><span><a href=\"#Import-Dataset\" data-toc-modified-id=\"Import-Dataset-2.1\" data-vivaldi-spatnav-clickable=\"1\"><span class=\"toc-item-num\">2.1&nbsp;&nbsp;</span>Import Dataset</a></span></li><li><span><a href=\"#[3.1]-Form-Dollar-Bars\" data-toc-modified-id=\"[3.1]-Form-Dollar-Bars-2.2\" data-vivaldi-spatnav-clickable=\"1\"><span class=\"toc-item-num\">2.2&nbsp;&nbsp;</span>[3.1] Form Dollar Bars</a></span><ul class=\"toc-item\"><li><span><a href=\"#(a)-Run-cusum-filter-with-threshold-equal-to-std-dev-of-daily-returns\" data-toc-modified-id=\"(a)-Run-cusum-filter-with-threshold-equal-to-std-dev-of-daily-returns-2.2.1\" data-vivaldi-spatnav-clickable=\"1\"><span class=\"toc-item-num\">2.2.1&nbsp;&nbsp;</span>(a) Run cusum filter with threshold equal to std dev of daily returns</a></span></li><li><span><a href=\"#(b)-Add-vertical-barrier\" data-toc-modified-id=\"(b)-Add-vertical-barrier-2.2.2\" data-vivaldi-spatnav-clickable=\"1\"><span class=\"toc-item-num\">2.2.2&nbsp;&nbsp;</span>(b) Add vertical barrier</a></span></li><li><span><a href=\"#(c)-Apply-triple-barrier-method-where-ptSl-=-[1,1]-and-t1-is-the-series-created-in-1.b\" data-toc-modified-id=\"(c)-Apply-triple-barrier-method-where-ptSl-=-[1,1]-and-t1-is-the-series-created-in-1.b-2.2.3\" data-vivaldi-spatnav-clickable=\"1\"><span class=\"toc-item-num\">2.2.3&nbsp;&nbsp;</span>(c) Apply triple-barrier method where <code>ptSl = [1,1]</code> and <code>t1</code> is the series created in <code>1.b</code></a></span></li><li><span><a href=\"#(d)-Apply-getBins-to-generate-labels\" data-toc-modified-id=\"(d)-Apply-getBins-to-generate-labels-2.2.4\" data-vivaldi-spatnav-clickable=\"1\"><span class=\"toc-item-num\">2.2.4&nbsp;&nbsp;</span>(d) Apply <code>getBins</code> to generate labels</a></span></li></ul></li><li><span><a href=\"#[3.2]-Use-snippet-3.8-to-drop-under-populated-labels\" data-toc-modified-id=\"[3.2]-Use-snippet-3.8-to-drop-under-populated-labels-2.3\" data-vivaldi-spatnav-clickable=\"1\"><span class=\"toc-item-num\">2.3&nbsp;&nbsp;</span>[3.2] Use snippet 3.8 to drop under-populated labels</a></span></li><li><span><a href=\"#[3.4]-Develop-moving-average-crossover-strategy.-For-each-obs.-the-model-suggests-a-side-but-not-size-of-the-bet\" data-toc-modified-id=\"[3.4]-Develop-moving-average-crossover-strategy.-For-each-obs.-the-model-suggests-a-side-but-not-size-of-the-bet-2.4\" data-vivaldi-spatnav-clickable=\"1\"><span class=\"toc-item-num\">2.4&nbsp;&nbsp;</span>[3.4] Develop moving average crossover strategy. For each obs. the model suggests a side but not size of the bet</a></span><ul class=\"toc-item\"><li><span><a href=\"#(a)-Derive-meta-labels-for-ptSl-=-[1,2]-and-t1-where-numdays=1.-Use-as-trgt-dailyVol-computed-by-snippet-3.1-(get-events-with-sides)\" data-toc-modified-id=\"(a)-Derive-meta-labels-for-ptSl-=-[1,2]-and-t1-where-numdays=1.-Use-as-trgt-dailyVol-computed-by-snippet-3.1-(get-events-with-sides)-2.4.1\" data-vivaldi-spatnav-clickable=\"1\"><span class=\"toc-item-num\">2.4.1&nbsp;&nbsp;</span>(a) Derive meta-labels for <code>ptSl = [1,2]</code> and <code>t1</code> where <code>numdays=1</code>. Use as <code>trgt</code> dailyVol computed by snippet 3.1 (get events with sides)</a></span></li><li><span><a href=\"#(b)-Train-Random-Forest-to-decide-whether-to-trade-or-not-{0,1}-since-underlying-model-(crossing-m.a.)-has-decided-the-side,-{-1,1}\" data-toc-modified-id=\"(b)-Train-Random-Forest-to-decide-whether-to-trade-or-not-{0,1}-since-underlying-model-(crossing-m.a.)-has-decided-the-side,-{-1,1}-2.4.2\" data-vivaldi-spatnav-clickable=\"1\"><span class=\"toc-item-num\">2.4.2&nbsp;&nbsp;</span>(b) Train Random Forest to decide whether to trade or not <code>{0,1}</code> since underlying model (crossing m.a.) has decided the side, <code>{-1,1}</code></a></span></li></ul></li><li><span><a href=\"#[3.5]-Develop-mean-reverting-Bollinger-Band-Strategy.-For-each-obs.-model-suggests-a-side-but-not-size-of-the-bet.\" data-toc-modified-id=\"[3.5]-Develop-mean-reverting-Bollinger-Band-Strategy.-For-each-obs.-model-suggests-a-side-but-not-size-of-the-bet.-2.5\" data-vivaldi-spatnav-clickable=\"1\"><span class=\"toc-item-num\">2.5&nbsp;&nbsp;</span>[3.5] Develop mean-reverting Bollinger Band Strategy. For each obs. model suggests a side but not size of the bet.</a></span><ul class=\"toc-item\"><li><span><a href=\"#(a)-Derive-meta-labels-for-ptSl=[0,2]-and-t1-where-numdays=1.-Use-as-trgt-dailyVol.\" data-toc-modified-id=\"(a)-Derive-meta-labels-for-ptSl=[0,2]-and-t1-where-numdays=1.-Use-as-trgt-dailyVol.-2.5.1\" data-vivaldi-spatnav-clickable=\"1\"><span class=\"toc-item-num\">2.5.1&nbsp;&nbsp;</span>(a) Derive meta-labels for <code>ptSl=[0,2]</code> and <code>t1</code> where <code>numdays=1</code>. Use as <code>trgt</code> dailyVol.</a></span></li><li><span><a href=\"#(b)-train-random-forest-to-decide-to-trade-or-not.-Use-features:-volatility,-serial-correlation,-and-the-crossing-moving-averages-from-exercise-2.\" data-toc-modified-id=\"(b)-train-random-forest-to-decide-to-trade-or-not.-Use-features:-volatility,-serial-correlation,-and-the-crossing-moving-averages-from-exercise-2.-2.5.2\" data-vivaldi-spatnav-clickable=\"1\"><span class=\"toc-item-num\">2.5.2&nbsp;&nbsp;</span>(b) train random forest to decide to trade or not. Use features: volatility, serial correlation, and the crossing moving averages from exercise 2.</a></span></li><li><span><a href=\"#(c)-What-is-accuracy-of-predictions-from-primary-model-if-the-secondary-model-does-not-filter-bets?-What-is-classification-report?\" data-toc-modified-id=\"(c)-What-is-accuracy-of-predictions-from-primary-model-if-the-secondary-model-does-not-filter-bets?-What-is-classification-report?-2.5.3\" data-vivaldi-spatnav-clickable=\"1\"><span class=\"toc-item-num\">2.5.3&nbsp;&nbsp;</span>(c) What is accuracy of predictions from primary model if the secondary model does not filter bets? What is classification report?</a></span></li></ul></li></ul></li></ul></div>"
   ]
  },
  {
   "cell_type": "markdown",
   "metadata": {},
   "source": [
    "# Labeling and MetaLabeling"
   ]
  },
  {
   "cell_type": "markdown",
   "metadata": {},
   "source": [
    "## Overview\n",
    "\n",
    "In this chapter of the book AFML, De Prado introduces several novel techniques for labeling returns for the purposes of supervised machine learning. \n",
    "\n",
    "First he identifies the typical issues of fixed-time horizon labeling methods - primarily that it is easy to mislabel a return due to dynamic nature of volatility throughout a trading period.\n",
    "\n",
    "More importantly he addresses a major overlooked aspect of the financial literature. He emphasizes that every investment strategy makes use of stop-loss limits of some kind, whether those are enforced by a margin call, risk department or self-imposed. He highlights how unrealistic it is to test/implement/propagate a strategy that profits from positions that would have been stopped out. \n",
    "\n",
    "> That virtually no publication accounts for that when labeling observations tells you something about the current state of financial literature.\n",
    ">\n",
    "> -De Prado, \"Advances in Financial Machine Learning\", pg.44\n",
    "\n",
    "He also introduces a technique called metalabeling, which is used to augment a strategy by improving recall while also reducing the likelihood of overfitting."
   ]
  },
  {
   "cell_type": "code",
   "execution_count": 1,
   "metadata": {
    "ExecuteTime": {
     "end_time": "2018-10-10T01:40:03.489951Z",
     "start_time": "2018-10-10T01:38:59.928006Z"
    }
   },
   "outputs": [
    {
     "name": "stdout",
     "output_type": "stream",
     "text": [
      "2018-10-09T19:38:59-06:00\n",
      "\n",
      "CPython 3.6.6\n",
      "IPython 6.5.0\n",
      "\n",
      "compiler   : GCC 7.2.0\n",
      "system     : Linux\n",
      "release    : 4.15.0-36-generic\n",
      "machine    : x86_64\n",
      "processor  : x86_64\n",
      "CPU cores  : 12\n",
      "interpreter: 64bit\n",
      "\n",
      "pandas 0.23.4\n",
      "pandas_datareader 0.6.0+21.gda18fbd\n",
      "dask 0.19.2\n",
      "numpy 1.14.6\n",
      "sklearn 0.20.0\n",
      "statsmodels 0.9.0\n",
      "scipy 1.1.0\n",
      "ffn (0, 3, 3)\n",
      "matplotlib 3.0.0\n",
      "seaborn 0.9.0\n"
     ]
    }
   ],
   "source": [
    "%load_ext watermark\n",
    "%watermark\n",
    "\n",
    "%load_ext autoreload\n",
    "%autoreload 2\n",
    "\n",
    "# import standard libs\n",
    "from IPython.display import display\n",
    "from IPython.core.debugger import set_trace as bp\n",
    "from pathlib import PurePath, Path\n",
    "import sys\n",
    "import time\n",
    "from collections import OrderedDict as od\n",
    "import re\n",
    "import os\n",
    "import json\n",
    "\n",
    "# import python scientific stack\n",
    "import pandas as pd\n",
    "import pandas_datareader.data as web\n",
    "pd.set_option('display.max_rows', 100)\n",
    "from dask import dataframe as dd\n",
    "from dask.diagnostics import ProgressBar\n",
    "from multiprocessing import cpu_count\n",
    "pbar = ProgressBar()\n",
    "pbar.register()\n",
    "import numpy as np\n",
    "import scipy.stats as stats\n",
    "import statsmodels.api as sm\n",
    "from numba import jit\n",
    "import math\n",
    "import ffn\n",
    "\n",
    "# import visual tools\n",
    "import matplotlib as mpl\n",
    "import matplotlib.pyplot as plt\n",
    "import matplotlib.gridspec as gridspec\n",
    "%matplotlib inline\n",
    "import seaborn as sns\n",
    "\n",
    "plt.style.use('seaborn-talk')\n",
    "plt.style.use('bmh')\n",
    "#plt.rcParams['font.family'] = 'DejaVu Sans Mono'\n",
    "plt.rcParams['font.size'] = 9.5\n",
    "plt.rcParams['font.weight'] = 'medium'\n",
    "plt.rcParams['figure.figsize'] = 10,7\n",
    "blue, green, red, purple, gold, teal = sns.color_palette('colorblind', 6)\n",
    "\n",
    "# import util libs\n",
    "from tqdm import tqdm, tqdm_notebook\n",
    "import warnings\n",
    "warnings.filterwarnings(\"ignore\")\n",
    "import missingno as msno\n",
    "from src.utils.utils import *\n",
    "import src.features.bars as brs\n",
    "import src.features.snippets as snp\n",
    "\n",
    "RANDOM_STATE = 777\n",
    "\n",
    "print()\n",
    "%watermark -p pandas,pandas_datareader,dask,numpy,sklearn,statsmodels,scipy,ffn,matplotlib,seaborn"
   ]
  },
  {
   "cell_type": "markdown",
   "metadata": {},
   "source": [
    "## Code Snippets\n",
    "\n",
    "Below I reproduce all the relevant code snippets found in the book that are necessary to work through the excercises found at the end of chapter 3."
   ]
  },
  {
   "cell_type": "markdown",
   "metadata": {},
   "source": [
    "### Symmetric CUSUM Filter [2.5.2.1]"
   ]
  },
  {
   "cell_type": "code",
   "execution_count": 2,
   "metadata": {
    "ExecuteTime": {
     "end_time": "2018-10-10T01:40:03.753489Z",
     "start_time": "2018-10-10T01:40:03.491699Z"
    }
   },
   "outputs": [],
   "source": [
    "def getTEvents(gRaw, h):\n",
    "    tEvents, sPos, sNeg = [], 0, 0\n",
    "    diff = np.log(gRaw).diff().dropna()\n",
    "    for i in tqdm(diff.index[1:]):\n",
    "        try:\n",
    "            pos, neg = float(sPos+diff.loc[i]), float(sNeg+diff.loc[i])\n",
    "        except Exception as e:\n",
    "            print(e)\n",
    "            print(sPos+diff.loc[i], type(sPos+diff.loc[i]))\n",
    "            print(sNeg+diff.loc[i], type(sNeg+diff.loc[i]))\n",
    "            break\n",
    "        sPos, sNeg=max(0., pos), min(0., neg)\n",
    "        if sNeg<-h:\n",
    "            sNeg=0;tEvents.append(i)\n",
    "        elif sPos>h:\n",
    "            sPos=0;tEvents.append(i)\n",
    "    return pd.DatetimeIndex(tEvents)"
   ]
  },
  {
   "cell_type": "markdown",
   "metadata": {},
   "source": [
    "### Daily Volatility Estimator [3.1]"
   ]
  },
  {
   "cell_type": "code",
   "execution_count": 3,
   "metadata": {
    "ExecuteTime": {
     "end_time": "2018-10-10T01:40:04.026169Z",
     "start_time": "2018-10-10T01:40:03.755248Z"
    }
   },
   "outputs": [],
   "source": [
    "def getDailyVol(close,span0=100):\n",
    "    # daily vol reindexed to close\n",
    "    df0=close.index.searchsorted(close.index-pd.Timedelta(days=1))\n",
    "    df0=df0[df0>0]   \n",
    "    df0=(pd.Series(close.index[df0-1], \n",
    "                   index=close.index[close.shape[0]-df0.shape[0]:]))   \n",
    "    try:\n",
    "        df0=close.loc[df0.index]/close.loc[df0.values].values-1 # daily rets\n",
    "    except Exception as e:\n",
    "        print(f'error: {e}\\nplease confirm no duplicate indices')\n",
    "    df0=df0.ewm(span=span0).std().rename('dailyVol')\n",
    "    return df0"
   ]
  },
  {
   "cell_type": "markdown",
   "metadata": {},
   "source": [
    "### Triple-Barrier Labeling Method [3.2]"
   ]
  },
  {
   "cell_type": "code",
   "execution_count": 4,
   "metadata": {
    "ExecuteTime": {
     "end_time": "2018-10-10T01:40:04.282537Z",
     "start_time": "2018-10-10T01:40:04.028029Z"
    }
   },
   "outputs": [],
   "source": [
    "def applyPtSlOnT1(close,events,ptSl,molecule):\n",
    "    # apply stop loss/profit taking, if it takes place before t1 (end of event)\n",
    "    events_=events.loc[molecule]\n",
    "    out=events_[['t1']].copy(deep=True)\n",
    "    if ptSl[0]>0: pt=ptSl[0]*events_['trgt']\n",
    "    else: pt=pd.Series(index=events.index) # NaNs\n",
    "    if ptSl[1]>0: sl=-ptSl[1]*events_['trgt']\n",
    "    else: sl=pd.Series(index=events.index) # NaNs\n",
    "    for loc,t1 in events_['t1'].fillna(close.index[-1]).iteritems():\n",
    "        df0=close[loc:t1] # path prices\n",
    "        df0=(df0/close[loc]-1)*events_.at[loc,'side'] # path returns\n",
    "        out.loc[loc,'sl']=df0[df0<sl[loc]].index.min() # earliest stop loss\n",
    "        out.loc[loc,'pt']=df0[df0>pt[loc]].index.min() # earliest profit taking\n",
    "    return out"
   ]
  },
  {
   "cell_type": "markdown",
   "metadata": {},
   "source": [
    "### Gettting Time of First Touch (getEvents) [3.3], [3.6]"
   ]
  },
  {
   "cell_type": "code",
   "execution_count": 5,
   "metadata": {
    "ExecuteTime": {
     "end_time": "2018-10-10T01:40:04.536995Z",
     "start_time": "2018-10-10T01:40:04.284104Z"
    }
   },
   "outputs": [],
   "source": [
    "def getEvents(close, tEvents, ptSl, trgt, minRet, numThreads, t1=False, side=None):\n",
    "    #1) get target\n",
    "    trgt=trgt.loc[tEvents]\n",
    "    trgt=trgt[trgt>minRet] # minRet\n",
    "    #2) get t1 (max holding period)\n",
    "    if t1 is False:t1=pd.Series(pd.NaT, index=tEvents)\n",
    "    #3) form events object, apply stop loss on t1\n",
    "    if side is None:side_,ptSl_=pd.Series(1.,index=trgt.index), [ptSl[0],ptSl[0]]\n",
    "    else: side_,ptSl_=side.loc[trgt.index],ptSl[:2]\n",
    "    events=(pd.concat({'t1':t1,'trgt':trgt,'side':side_}, axis=1)\n",
    "            .dropna(subset=['trgt']))\n",
    "    df0=mpPandasObj(func=applyPtSlOnT1,pdObj=('molecule',events.index),\n",
    "                    numThreads=numThreads,close=close,events=events,\n",
    "                    ptSl=ptSl_)\n",
    "    events['t1']=df0.dropna(how='all').min(axis=1) # pd.min ignores nan\n",
    "    if side is None:events=events.drop('side',axis=1)\n",
    "    return events"
   ]
  },
  {
   "cell_type": "markdown",
   "metadata": {},
   "source": [
    "### Adding Vertical Barrier [3.4]"
   ]
  },
  {
   "cell_type": "code",
   "execution_count": 6,
   "metadata": {
    "ExecuteTime": {
     "end_time": "2018-10-10T01:40:04.791194Z",
     "start_time": "2018-10-10T01:40:04.538665Z"
    }
   },
   "outputs": [],
   "source": [
    "def addVerticalBarrier(tEvents, close, numDays=1):\n",
    "    t1=close.index.searchsorted(tEvents+pd.Timedelta(days=numDays))\n",
    "    t1=t1[t1<close.shape[0]]\n",
    "    t1=(pd.Series(close.index[t1],index=tEvents[:t1.shape[0]]))\n",
    "    return t1"
   ]
  },
  {
   "cell_type": "markdown",
   "metadata": {},
   "source": [
    "### Labeling for side and size [3.5]"
   ]
  },
  {
   "cell_type": "code",
   "execution_count": 7,
   "metadata": {
    "ExecuteTime": {
     "end_time": "2018-10-10T01:40:05.039058Z",
     "start_time": "2018-10-10T01:40:04.793085Z"
    }
   },
   "outputs": [],
   "source": [
    "def getBinsOld(events,close):\n",
    "    #1) prices aligned with events\n",
    "    events_=events.dropna(subset=['t1'])\n",
    "    px=events_.index.union(events_['t1'].values).drop_duplicates()\n",
    "    px=close.reindex(px,method='bfill')\n",
    "    #2) create out object\n",
    "    out=pd.DataFrame(index=events_.index)\n",
    "    out['ret']=px.loc[events_['t1'].values].values/px.loc[events_.index]-1\n",
    "    out['bin']=np.sign(out['ret'])\n",
    "    # where out index and t1 (vertical barrier) intersect label 0\n",
    "    try:\n",
    "        locs = out.query('index in @t1').index\n",
    "        out.loc[locs, 'bin'] = 0\n",
    "    except:\n",
    "        pass\n",
    "    return out"
   ]
  },
  {
   "cell_type": "markdown",
   "metadata": {},
   "source": [
    "### Expanding getBins to Incorporate Meta-Labeling [3.7]"
   ]
  },
  {
   "cell_type": "code",
   "execution_count": 8,
   "metadata": {
    "ExecuteTime": {
     "end_time": "2018-10-10T01:40:05.304783Z",
     "start_time": "2018-10-10T01:40:05.040865Z"
    }
   },
   "outputs": [],
   "source": [
    "def getBins(events, close):\n",
    "    '''\n",
    "    Compute event's outcome (including side information, if provided).\n",
    "    events is a DataFrame where:\n",
    "    -events.index is event's starttime\n",
    "    -events['t1'] is event's endtime\n",
    "    -events['trgt'] is event's target\n",
    "    -events['side'] (optional) implies the algo's position side\n",
    "    Case 1: ('side' not in events): bin in (-1,1) <-label by price action\n",
    "    Case 2: ('side' in events): bin in (0,1) <-label by pnl (meta-labeling)\n",
    "    '''\n",
    "    #1) prices aligned with events\n",
    "    events_=events.dropna(subset=['t1'])\n",
    "    px=events_.index.union(events_['t1'].values).drop_duplicates()\n",
    "    px=close.reindex(px,method='bfill')\n",
    "    #2) create out object\n",
    "    out=pd.DataFrame(index=events_.index)\n",
    "    out['ret']=px.loc[events_['t1'].values].values/px.loc[events_.index]-1\n",
    "    if 'side' in events_:out['ret']*=events_['side'] # meta-labeling\n",
    "    out['bin']=np.sign(out['ret'])\n",
    "    if 'side' in events_:out.loc[out['ret']<=0,'bin']=0 # meta-labeling\n",
    "    return out"
   ]
  },
  {
   "cell_type": "markdown",
   "metadata": {},
   "source": [
    "### Dropping Unnecessary Labels [3.8]"
   ]
  },
  {
   "cell_type": "code",
   "execution_count": 9,
   "metadata": {
    "ExecuteTime": {
     "end_time": "2018-10-10T01:40:05.579177Z",
     "start_time": "2018-10-10T01:40:05.306183Z"
    }
   },
   "outputs": [],
   "source": [
    "def dropLabels(events, minPct=.05):\n",
    "    # apply weights, drop labels with insufficient examples\n",
    "    while True:\n",
    "        df0=events['bin'].value_counts(normalize=True)\n",
    "        if df0.min()>minPct or df0.shape[0]<3:break\n",
    "        print('dropped label: ', df0.argmin(),df0.min())\n",
    "        events=events[events['bin']!=df0.argmin()]\n",
    "    return events"
   ]
  },
  {
   "cell_type": "markdown",
   "metadata": {},
   "source": [
    "### Linear Partitions [20.4.1]"
   ]
  },
  {
   "cell_type": "code",
   "execution_count": 10,
   "metadata": {
    "ExecuteTime": {
     "end_time": "2018-10-10T01:40:05.838888Z",
     "start_time": "2018-10-10T01:40:05.580836Z"
    }
   },
   "outputs": [],
   "source": [
    "def linParts(numAtoms,numThreads):\n",
    "    # partition of atoms with a single loop\n",
    "    parts=np.linspace(0,numAtoms,min(numThreads,numAtoms)+1)\n",
    "    parts=np.ceil(parts).astype(int)\n",
    "    return parts"
   ]
  },
  {
   "cell_type": "code",
   "execution_count": 11,
   "metadata": {
    "ExecuteTime": {
     "end_time": "2018-10-10T01:40:06.108938Z",
     "start_time": "2018-10-10T01:40:05.840509Z"
    }
   },
   "outputs": [],
   "source": [
    "def nestedParts(numAtoms,numThreads,upperTriang=False):\n",
    "    # partition of atoms with an inner loop\n",
    "    parts,numThreads_=[0],min(numThreads,numAtoms)\n",
    "    for num in range(numThreads_):\n",
    "        part=1+4*(parts[-1]**2+parts[-1]+numAtoms*(numAtoms+1.)/numThreads_)\n",
    "        part=(-1+part**.5)/2.\n",
    "        parts.append(part)\n",
    "    parts=np.round(parts).astype(int)\n",
    "    if upperTriang: # the first rows are heaviest\n",
    "        parts=np.cumsum(np.diff(parts)[::-1])\n",
    "        parts=np.append(np.array([0]),parts)\n",
    "    return parts"
   ]
  },
  {
   "cell_type": "markdown",
   "metadata": {},
   "source": [
    "### multiprocessing snippet [20.7]"
   ]
  },
  {
   "cell_type": "code",
   "execution_count": 12,
   "metadata": {
    "ExecuteTime": {
     "end_time": "2018-10-10T01:40:06.352330Z",
     "start_time": "2018-10-10T01:40:06.110582Z"
    }
   },
   "outputs": [],
   "source": [
    "def mpPandasObj(func,pdObj,numThreads=24,mpBatches=1,linMols=True,**kargs):\n",
    "    '''\n",
    "    Parallelize jobs, return a dataframe or series\n",
    "    + func: function to be parallelized. Returns a DataFrame\n",
    "    + pdObj[0]: Name of argument used to pass the molecule\n",
    "    + pdObj[1]: List of atoms that will be grouped into molecules\n",
    "    + kwds: any other argument needed by func\n",
    "    \n",
    "    Example: df1=mpPandasObj(func,('molecule',df0.index),24,**kwds)\n",
    "    '''\n",
    "    import pandas as pd\n",
    "    #if linMols:parts=linParts(len(argList[1]),numThreads*mpBatches)\n",
    "    #else:parts=nestedParts(len(argList[1]),numThreads*mpBatches)\n",
    "    if linMols:parts=linParts(len(pdObj[1]),numThreads*mpBatches)\n",
    "    else:parts=nestedParts(len(pdObj[1]),numThreads*mpBatches)\n",
    "    \n",
    "    jobs=[]\n",
    "    for i in range(1,len(parts)):\n",
    "        job={pdObj[0]:pdObj[1][parts[i-1]:parts[i]],'func':func}\n",
    "        job.update(kargs)\n",
    "        jobs.append(job)\n",
    "    if numThreads==1:out=processJobs_(jobs)\n",
    "    else: out=processJobs(jobs,numThreads=numThreads)\n",
    "    if isinstance(out[0],pd.DataFrame):df0=pd.DataFrame()\n",
    "    elif isinstance(out[0],pd.Series):df0=pd.Series()\n",
    "    else:return out\n",
    "    for i in out:df0=df0.append(i)\n",
    "    df0=df0.sort_index()\n",
    "    return df0"
   ]
  },
  {
   "cell_type": "markdown",
   "metadata": {},
   "source": [
    "### single-thread execution for debugging [20.8]"
   ]
  },
  {
   "cell_type": "code",
   "execution_count": 13,
   "metadata": {
    "ExecuteTime": {
     "end_time": "2018-10-10T01:40:06.601727Z",
     "start_time": "2018-10-10T01:40:06.353864Z"
    }
   },
   "outputs": [],
   "source": [
    "def processJobs_(jobs):\n",
    "    # Run jobs sequentially, for debugging\n",
    "    out=[]\n",
    "    for job in jobs:\n",
    "        out_=expandCall(job)\n",
    "        out.append(out_)\n",
    "    return out"
   ]
  },
  {
   "cell_type": "markdown",
   "metadata": {},
   "source": [
    "### Example of async call to multiprocessing lib [20.9]"
   ]
  },
  {
   "cell_type": "code",
   "execution_count": 14,
   "metadata": {
    "ExecuteTime": {
     "end_time": "2018-10-10T01:40:06.861166Z",
     "start_time": "2018-10-10T01:40:06.603723Z"
    }
   },
   "outputs": [],
   "source": [
    "import multiprocessing as mp\n",
    "import datetime as dt\n",
    "\n",
    "#________________________________\n",
    "def reportProgress(jobNum,numJobs,time0,task):\n",
    "    # Report progress as asynch jobs are completed\n",
    "    msg=[float(jobNum)/numJobs, (time.time()-time0)/60.]\n",
    "    msg.append(msg[1]*(1/msg[0]-1))\n",
    "    timeStamp=str(dt.datetime.fromtimestamp(time.time()))\n",
    "    msg=timeStamp+' '+str(round(msg[0]*100,2))+'% '+task+' done after '+ \\\n",
    "        str(round(msg[1],2))+' minutes. Remaining '+str(round(msg[2],2))+' minutes.'\n",
    "    if jobNum<numJobs:sys.stderr.write(msg+'\\r')\n",
    "    else:sys.stderr.write(msg+'\\n')\n",
    "    return\n",
    "#________________________________\n",
    "def processJobs(jobs,task=None,numThreads=24):\n",
    "    # Run in parallel.\n",
    "    # jobs must contain a 'func' callback, for expandCall\n",
    "    if task is None:task=jobs[0]['func'].__name__\n",
    "    pool=mp.Pool(processes=numThreads)\n",
    "    outputs,out,time0=pool.imap_unordered(expandCall,jobs),[],time.time()\n",
    "    # Process asyn output, report progress\n",
    "    for i,out_ in enumerate(outputs,1):\n",
    "        out.append(out_)\n",
    "        reportProgress(i,len(jobs),time0,task)\n",
    "    pool.close();pool.join() # this is needed to prevent memory leaks\n",
    "    return out"
   ]
  },
  {
   "cell_type": "markdown",
   "metadata": {},
   "source": [
    "### Unwrapping the Callback [20.10]"
   ]
  },
  {
   "cell_type": "code",
   "execution_count": 15,
   "metadata": {
    "ExecuteTime": {
     "end_time": "2018-10-10T01:40:07.110384Z",
     "start_time": "2018-10-10T01:40:06.863062Z"
    }
   },
   "outputs": [],
   "source": [
    "def expandCall(kargs):\n",
    "    # Expand the arguments of a callback function, kargs['func']\n",
    "    func=kargs['func']\n",
    "    del kargs['func']\n",
    "    out=func(**kargs)\n",
    "    return out"
   ]
  },
  {
   "cell_type": "markdown",
   "metadata": {},
   "source": [
    "### Pickle Unpickling Objects [20.11]"
   ]
  },
  {
   "cell_type": "code",
   "execution_count": 16,
   "metadata": {
    "ExecuteTime": {
     "end_time": "2018-10-10T01:40:07.361699Z",
     "start_time": "2018-10-10T01:40:07.112261Z"
    }
   },
   "outputs": [],
   "source": [
    "def _pickle_method(method):\n",
    "    func_name=method.im_func.__name__\n",
    "    obj=method.im_self\n",
    "    cls=method.im_class\n",
    "    return _unpickle_method, (func_name,obj,cls)\n",
    "#________________________________\n",
    "def _unpickle_method(func_name,obj,cls):\n",
    "    for cls in cls.mro():\n",
    "        try:func=cls.__dict__[func_name]\n",
    "        except KeyError:pass\n",
    "        else:break\n",
    "    return func.__get__(obj,cls)\n",
    "#________________________________\n",
    "import copyreg,types, multiprocessing as mp\n",
    "copyreg.pickle(types.MethodType,_pickle_method,_unpickle_method)"
   ]
  },
  {
   "cell_type": "markdown",
   "metadata": {},
   "source": [
    "# Exercises"
   ]
  },
  {
   "cell_type": "markdown",
   "metadata": {},
   "source": [
    "## Import Dataset\n",
    "\n",
    "Note this dataset below has been resampled to `1s` and then `NaNs` removed. This was done to remove any duplicate indices not accounted for in a simple call to `pd.DataFrame.drop_duplicates()`. "
   ]
  },
  {
   "cell_type": "code",
   "execution_count": 17,
   "metadata": {
    "ExecuteTime": {
     "end_time": "2018-10-10T01:40:09.420248Z",
     "start_time": "2018-10-10T01:40:07.363396Z"
    }
   },
   "outputs": [
    {
     "name": "stdout",
     "output_type": "stream",
     "text": [
      "-------------------------------------------------------------------------------\n",
      "dataframe information\n",
      "-------------------------------------------------------------------------------\n",
      "                      price     bid     ask      size         v            dv\n",
      "2018-02-26 15:59:59  115.35  115.34  115.36     412.5     412.5  4.758188e+04\n",
      "2018-02-26 16:00:00  115.35  115.34  115.35    5362.0    5362.0  6.185067e+05\n",
      "2018-02-26 16:10:00  115.35  115.22  115.58       0.0       0.0  0.000000e+00\n",
      "2018-02-26 16:16:14  115.30  114.72  115.62  778677.0  778677.0  8.978146e+07\n",
      "2018-02-26 18:30:00  115.35  114.72  117.38       0.0       0.0  0.000000e+00\n",
      "--------------------------------------------------\n",
      "<class 'pandas.core.frame.DataFrame'>\n",
      "DatetimeIndex: 941297 entries, 2009-09-28 09:30:00 to 2018-02-26 18:30:00\n",
      "Data columns (total 6 columns):\n",
      "price    941297 non-null float64\n",
      "bid      941297 non-null float64\n",
      "ask      941297 non-null float64\n",
      "size     941297 non-null float64\n",
      "v        941297 non-null float64\n",
      "dv       941297 non-null float64\n",
      "dtypes: float64(6)\n",
      "memory usage: 50.3 MB\n",
      "None\n",
      "-------------------------------------------------------------------------------\n",
      "\n"
     ]
    }
   ],
   "source": [
    "infp = PurePath(data_dir/'processed'/'IVE_dollarValue_resampled_1s.parquet')\n",
    "df = pd.read_parquet(infp)\n",
    "cprint(df)"
   ]
  },
  {
   "cell_type": "markdown",
   "metadata": {},
   "source": [
    "## [3.1] Form Dollar Bars"
   ]
  },
  {
   "cell_type": "code",
   "execution_count": 18,
   "metadata": {
    "ExecuteTime": {
     "end_time": "2018-10-10T01:40:10.052761Z",
     "start_time": "2018-10-10T01:40:09.422334Z"
    }
   },
   "outputs": [
    {
     "name": "stderr",
     "output_type": "stream",
     "text": [
      "100%|██████████| 941297/941297 [00:00<00:00, 2919179.94it/s]"
     ]
    },
    {
     "name": "stdout",
     "output_type": "stream",
     "text": [
      "-------------------------------------------------------------------------------\n",
      "dataframe information\n",
      "-------------------------------------------------------------------------------\n",
      "                      price         bid         ask           size  \\\n",
      "2018-02-26 15:31:06  115.29  115.280000  115.290000    2022.000000   \n",
      "2018-02-26 15:40:15  115.41  115.400000  115.410000     723.000000   \n",
      "2018-02-26 15:49:42  115.20  115.176667  115.186667    4487.166667   \n",
      "2018-02-26 15:59:04  115.27  115.260000  115.270000     300.000000   \n",
      "2018-02-26 16:16:14  115.30  114.720000  115.620000  778677.000000   \n",
      "\n",
      "                                 v            dv  \n",
      "2018-02-26 15:31:06    2022.000000  2.331164e+05  \n",
      "2018-02-26 15:40:15     723.000000  8.344143e+04  \n",
      "2018-02-26 15:49:42    4487.166667  5.171190e+05  \n",
      "2018-02-26 15:59:04     300.000000  3.458100e+04  \n",
      "2018-02-26 16:16:14  778677.000000  8.978146e+07  \n",
      "--------------------------------------------------\n",
      "<class 'pandas.core.frame.DataFrame'>\n",
      "DatetimeIndex: 30860 entries, 2009-09-28 09:53:49 to 2018-02-26 16:16:14\n",
      "Data columns (total 6 columns):\n",
      "price    30860 non-null float64\n",
      "bid      30860 non-null float64\n",
      "ask      30860 non-null float64\n",
      "size     30860 non-null float64\n",
      "v        30860 non-null float64\n",
      "dv       30860 non-null float64\n",
      "dtypes: float64(6)\n",
      "memory usage: 1.6 MB\n",
      "None\n",
      "-------------------------------------------------------------------------------\n",
      "\n"
     ]
    },
    {
     "name": "stderr",
     "output_type": "stream",
     "text": [
      "\n"
     ]
    }
   ],
   "source": [
    "dbars = dollar_bar_df(df, 'dv', 1_000_000).drop_duplicates().dropna()\n",
    "cprint(dbars)"
   ]
  },
  {
   "cell_type": "markdown",
   "metadata": {},
   "source": [
    "### (a) Run cusum filter with threshold equal to std dev of daily returns"
   ]
  },
  {
   "cell_type": "code",
   "execution_count": 19,
   "metadata": {
    "ExecuteTime": {
     "end_time": "2018-10-10T01:40:10.352800Z",
     "start_time": "2018-10-10T01:40:10.055794Z"
    }
   },
   "outputs": [
    {
     "name": "stdout",
     "output_type": "stream",
     "text": [
      "-------------------------------------------------------------------------------\n",
      "dataframe information\n",
      "-------------------------------------------------------------------------------\n",
      "                     dailyVol\n",
      "2018-02-26 15:31:06  0.006852\n",
      "2018-02-26 15:40:15  0.006893\n",
      "2018-02-26 15:49:42  0.006889\n",
      "2018-02-26 15:59:04  0.006894\n",
      "2018-02-26 16:16:14  0.006902\n",
      "--------------------------------------------------\n",
      "<class 'pandas.core.frame.DataFrame'>\n",
      "DatetimeIndex: 30843 entries, 2009-09-29 10:03:18 to 2018-02-26 16:16:14\n",
      "Data columns (total 1 columns):\n",
      "dailyVol    30842 non-null float64\n",
      "dtypes: float64(1)\n",
      "memory usage: 481.9 KB\n",
      "None\n",
      "-------------------------------------------------------------------------------\n",
      "\n"
     ]
    }
   ],
   "source": [
    "close = dbars.price.copy()\n",
    "dailyVol = getDailyVol(close)\n",
    "cprint(dailyVol.to_frame())"
   ]
  },
  {
   "cell_type": "code",
   "execution_count": 20,
   "metadata": {
    "ExecuteTime": {
     "end_time": "2018-10-10T01:40:10.929294Z",
     "start_time": "2018-10-10T01:40:10.354142Z"
    }
   },
   "outputs": [
    {
     "data": {
      "text/plain": [
       "<matplotlib.lines.Line2D at 0x7f65295ccd30>"
      ]
     },
     "execution_count": 20,
     "metadata": {},
     "output_type": "execute_result"
    },
    {
     "data": {
      "image/png": "[encoded data removed]",
      "text/plain": [
       "<Figure size 432x288 with 1 Axes>"
      ]
     },
     "metadata": {
      "needs_background": "light"
     },
     "output_type": "display_data"
    }
   ],
   "source": [
    "f,ax=plt.subplots()\n",
    "dailyVol.plot(ax=ax)\n",
    "ax.axhline(dailyVol.mean(),ls='--',color=red)"
   ]
  },
  {
   "cell_type": "code",
   "execution_count": 21,
   "metadata": {
    "ExecuteTime": {
     "end_time": "2018-10-10T01:40:13.207594Z",
     "start_time": "2018-10-10T01:40:10.930652Z"
    }
   },
   "outputs": [
    {
     "name": "stderr",
     "output_type": "stream",
     "text": [
      "100%|██████████| 30858/30858 [00:01<00:00, 15448.31it/s]\n"
     ]
    },
    {
     "data": {
      "text/plain": [
       "DatetimeIndex(['2009-09-29 09:33:01', '2009-09-30 09:45:21',\n",
       "               '2009-09-30 13:31:12', '2009-10-01 09:43:58',\n",
       "               '2009-10-01 11:12:07', '2009-10-02 09:44:14',\n",
       "               '2009-10-02 10:35:05', '2009-10-05 09:51:42',\n",
       "               '2009-10-05 14:55:48', '2009-10-06 09:29:52',\n",
       "               ...\n",
       "               '2018-02-16 14:23:51', '2018-02-20 09:30:00',\n",
       "               '2018-02-20 15:21:07', '2018-02-21 14:04:12',\n",
       "               '2018-02-21 15:12:30', '2018-02-22 12:18:21',\n",
       "               '2018-02-22 14:56:14', '2018-02-23 11:37:32',\n",
       "               '2018-02-23 15:58:39', '2018-02-26 13:06:34'],\n",
       "              dtype='datetime64[ns]', length=2278, freq=None)"
      ]
     },
     "execution_count": 21,
     "metadata": {},
     "output_type": "execute_result"
    }
   ],
   "source": [
    "tEvents = getTEvents(close,h=dailyVol.mean())\n",
    "tEvents"
   ]
  },
  {
   "cell_type": "markdown",
   "metadata": {},
   "source": [
    "### (b) Add vertical barrier"
   ]
  },
  {
   "cell_type": "code",
   "execution_count": 22,
   "metadata": {
    "ExecuteTime": {
     "end_time": "2018-10-10T01:40:13.466000Z",
     "start_time": "2018-10-10T01:40:13.208908Z"
    },
    "scrolled": true
   },
   "outputs": [
    {
     "data": {
      "text/plain": [
       "2009-09-29 09:33:01   2009-09-30 09:45:21\n",
       "2009-09-30 09:45:21   2009-10-01 10:00:48\n",
       "2009-09-30 13:31:12   2009-10-01 13:33:25\n",
       "2009-10-01 09:43:58   2009-10-02 09:44:14\n",
       "2009-10-01 11:12:07   2009-10-02 11:50:21\n",
       "2009-10-02 09:44:14   2009-10-05 09:51:42\n",
       "2009-10-02 10:35:05   2009-10-05 09:51:42\n",
       "2009-10-05 09:51:42   2009-10-06 10:16:02\n",
       "2009-10-05 14:55:48   2009-10-06 15:35:49\n",
       "2009-10-06 09:29:52   2009-10-07 09:47:16\n",
       "2009-10-06 11:32:02   2009-10-07 11:48:22\n",
       "2009-10-06 14:07:37   2009-10-07 14:22:36\n",
       "2009-10-08 09:29:51   2009-10-09 09:31:12\n",
       "2009-10-12 09:31:02   2009-10-13 09:47:54\n",
       "2009-10-13 10:52:10   2009-10-14 11:12:03\n",
       "2009-10-14 09:29:52   2009-10-15 09:37:24\n",
       "2009-10-14 15:30:48   2009-10-15 15:57:25\n",
       "2009-10-16 09:55:03   2009-10-19 09:37:41\n",
       "2009-10-16 15:40:15   2009-10-19 09:37:41\n",
       "2009-10-19 11:39:38   2009-10-20 11:50:28\n",
       "2009-10-20 11:50:28   2009-10-21 12:44:38\n",
       "2009-10-21 10:11:57   2009-10-22 10:47:06\n",
       "2009-10-21 15:32:09   2009-10-22 15:49:30\n",
       "2009-10-22 09:55:51   2009-10-23 10:03:53\n",
       "2009-10-22 14:33:52   2009-10-23 14:49:39\n",
       "2009-10-23 10:57:52   2009-10-26 09:52:17\n",
       "2009-10-26 09:52:17   2009-10-27 09:57:46\n",
       "2009-10-26 11:32:02   2009-10-27 12:04:42\n",
       "2009-10-26 11:59:14   2009-10-27 12:04:42\n",
       "2009-10-27 13:37:35   2009-10-28 14:04:15\n",
       "2009-10-28 10:00:16   2009-10-29 10:00:59\n",
       "2009-10-28 14:41:52   2009-10-29 15:00:53\n",
       "2009-10-29 09:32:01   2009-10-30 09:43:02\n",
       "2009-10-29 13:40:22   2009-10-30 13:54:51\n",
       "2009-10-30 09:58:07   2009-11-02 09:51:15\n",
       "2009-10-30 11:51:20   2009-11-02 09:51:15\n",
       "2009-10-30 12:57:50   2009-11-02 09:51:15\n",
       "2009-10-30 15:06:13   2009-11-02 09:51:15\n",
       "2009-10-30 15:44:12   2009-11-02 09:51:15\n",
       "2009-11-02 10:17:36   2009-11-03 10:42:33\n",
       "2009-11-02 12:23:50   2009-11-03 12:24:26\n",
       "2009-11-02 12:58:06   2009-11-03 13:10:26\n",
       "2009-11-02 14:07:16   2009-11-03 14:22:31\n",
       "2009-11-02 14:55:04   2009-11-03 15:18:16\n",
       "2009-11-03 14:22:31   2009-11-04 14:41:42\n",
       "2009-11-04 09:34:15   2009-11-05 09:59:36\n",
       "2009-11-04 15:46:56   2009-11-05 16:09:46\n",
       "2009-11-05 09:59:36   2009-11-06 10:06:33\n",
       "2009-11-05 16:09:46   2009-11-09 09:54:17\n",
       "2009-11-09 09:54:17   2009-11-10 10:09:52\n",
       "                              ...        \n",
       "2018-02-06 09:36:34   2018-02-07 09:43:03\n",
       "2018-02-06 09:58:38   2018-02-07 10:04:28\n",
       "2018-02-06 10:18:08   2018-02-07 10:22:20\n",
       "2018-02-06 10:38:41   2018-02-07 10:39:35\n",
       "2018-02-06 11:35:33   2018-02-07 11:46:44\n",
       "2018-02-06 11:53:57   2018-02-07 11:57:50\n",
       "2018-02-06 12:32:24   2018-02-07 12:42:28\n",
       "2018-02-06 13:04:03   2018-02-07 13:08:44\n",
       "2018-02-06 14:19:57   2018-02-07 14:20:37\n",
       "2018-02-06 14:49:56   2018-02-07 14:53:22\n",
       "2018-02-06 15:05:41   2018-02-07 15:11:44\n",
       "2018-02-06 15:42:53   2018-02-07 15:47:02\n",
       "2018-02-07 09:43:03   2018-02-08 09:57:38\n",
       "2018-02-07 11:15:27   2018-02-08 11:18:31\n",
       "2018-02-07 13:16:25   2018-02-08 13:17:26\n",
       "2018-02-07 15:28:09   2018-02-08 15:33:11\n",
       "2018-02-07 15:58:58   2018-02-08 15:59:48\n",
       "2018-02-08 10:33:27   2018-02-09 10:41:40\n",
       "2018-02-08 12:29:28   2018-02-09 12:40:46\n",
       "2018-02-08 13:45:14   2018-02-09 13:52:34\n",
       "2018-02-08 15:07:57   2018-02-09 15:09:17\n",
       "2018-02-08 15:45:50   2018-02-09 15:47:50\n",
       "2018-02-09 09:30:00   2018-02-12 09:30:00\n",
       "2018-02-09 10:41:40   2018-02-12 09:30:00\n",
       "2018-02-09 12:05:08   2018-02-12 09:30:00\n",
       "2018-02-09 13:27:21   2018-02-12 09:30:00\n",
       "2018-02-09 13:52:34   2018-02-12 09:30:00\n",
       "2018-02-09 14:11:06   2018-02-12 09:30:00\n",
       "2018-02-09 15:05:41   2018-02-12 09:30:00\n",
       "2018-02-09 15:29:15   2018-02-12 09:30:00\n",
       "2018-02-09 15:47:50   2018-02-12 09:30:00\n",
       "2018-02-12 09:30:00   2018-02-13 09:30:00\n",
       "2018-02-12 10:25:02   2018-02-13 10:36:48\n",
       "2018-02-12 12:12:51   2018-02-13 12:34:24\n",
       "2018-02-13 09:30:00   2018-02-14 09:30:00\n",
       "2018-02-13 13:43:37   2018-02-14 13:53:59\n",
       "2018-02-14 10:30:48   2018-02-15 10:42:27\n",
       "2018-02-14 13:36:02   2018-02-15 13:42:09\n",
       "2018-02-15 09:31:56   2018-02-16 09:42:36\n",
       "2018-02-15 14:05:41   2018-02-16 14:15:08\n",
       "2018-02-16 11:11:50   2018-02-20 09:30:00\n",
       "2018-02-16 14:23:51   2018-02-20 09:30:00\n",
       "2018-02-20 09:30:00   2018-02-21 09:34:28\n",
       "2018-02-20 15:21:07   2018-02-21 15:22:14\n",
       "2018-02-21 14:04:12   2018-02-22 14:20:25\n",
       "2018-02-21 15:12:30   2018-02-22 15:16:50\n",
       "2018-02-22 12:18:21   2018-02-23 12:30:16\n",
       "2018-02-22 14:56:14   2018-02-23 15:02:21\n",
       "2018-02-23 11:37:32   2018-02-26 09:30:00\n",
       "2018-02-23 15:58:39   2018-02-26 09:30:00\n",
       "Length: 2277, dtype: datetime64[ns]"
      ]
     },
     "execution_count": 22,
     "metadata": {},
     "output_type": "execute_result"
    }
   ],
   "source": [
    "t1 = addVerticalBarrier(tEvents, close)\n",
    "t1"
   ]
  },
  {
   "cell_type": "markdown",
   "metadata": {},
   "source": [
    "### (c) Apply triple-barrier method where `ptSl = [1,1]` and `t1` is the series created in `1.b`"
   ]
  },
  {
   "cell_type": "code",
   "execution_count": 23,
   "metadata": {
    "ExecuteTime": {
     "end_time": "2018-10-10T01:40:14.221768Z",
     "start_time": "2018-10-10T01:40:13.467602Z"
    }
   },
   "outputs": [
    {
     "name": "stderr",
     "output_type": "stream",
     "text": [
      "2018-10-09 19:40:14.003061 9.09% applyPtSlOnT1 done after 0.0 minutes. Remaining 0.03 minutes.\r",
      "2018-10-09 19:40:14.023043 18.18% applyPtSlOnT1 done after 0.0 minutes. Remaining 0.01 minutes.\r",
      "2018-10-09 19:40:14.026114 27.27% applyPtSlOnT1 done after 0.0 minutes. Remaining 0.01 minutes.\r",
      "2018-10-09 19:40:14.028125 36.36% applyPtSlOnT1 done after 0.0 minutes. Remaining 0.01 minutes.\r",
      "2018-10-09 19:40:14.034593 45.45% applyPtSlOnT1 done after 0.0 minutes. Remaining 0.0 minutes.\r",
      "2018-10-09 19:40:14.035651 54.55% applyPtSlOnT1 done after 0.0 minutes. Remaining 0.0 minutes.\r",
      "2018-10-09 19:40:14.035708 63.64% applyPtSlOnT1 done after 0.0 minutes. Remaining 0.0 minutes.\r",
      "2018-10-09 19:40:14.037247 72.73% applyPtSlOnT1 done after 0.0 minutes. Remaining 0.0 minutes.\r",
      "2018-10-09 19:40:14.039828 81.82% applyPtSlOnT1 done after 0.0 minutes. Remaining 0.0 minutes.\r",
      "2018-10-09 19:40:14.041787 90.91% applyPtSlOnT1 done after 0.0 minutes. Remaining 0.0 minutes.\r",
      "2018-10-09 19:40:14.051086 100.0% applyPtSlOnT1 done after 0.0 minutes. Remaining 0.0 minutes.\n"
     ]
    }
   ],
   "source": [
    "# create target series\n",
    "ptsl = [1,1]\n",
    "target=dailyVol\n",
    "# select minRet\n",
    "minRet = 0.01\n",
    "\n",
    "# Run in single-threaded mode on Windows\n",
    "import platform\n",
    "if platform.system() == \"Windows\":\n",
    "    cpus = 1\n",
    "else:\n",
    "    cpus = cpu_count() - 1\n",
    "    \n",
    "events = getEvents(close,tEvents,ptsl,target,minRet,cpus,t1=t1)"
   ]
  },
  {
   "cell_type": "code",
   "execution_count": 24,
   "metadata": {
    "ExecuteTime": {
     "end_time": "2018-10-10T01:40:14.477808Z",
     "start_time": "2018-10-10T01:40:14.223199Z"
    }
   },
   "outputs": [
    {
     "name": "stdout",
     "output_type": "stream",
     "text": [
      "-------------------------------------------------------------------------------\n",
      "dataframe information\n",
      "-------------------------------------------------------------------------------\n",
      "                                     t1      trgt\n",
      "2018-02-13 13:43:37 2018-02-14 13:53:59  0.014365\n",
      "2018-02-14 10:30:48 2018-02-15 09:31:56  0.012136\n",
      "2018-02-14 13:36:02 2018-02-15 13:42:09  0.011688\n",
      "2018-02-15 09:31:56 2018-02-16 09:42:36  0.011244\n",
      "2018-02-15 14:05:41 2018-02-16 12:05:18  0.010183\n",
      "--------------------------------------------------\n",
      "<class 'pandas.core.frame.DataFrame'>\n",
      "DatetimeIndex: 929 entries, 2009-10-05 14:55:48 to 2018-02-15 14:05:41\n",
      "Data columns (total 2 columns):\n",
      "t1      929 non-null datetime64[ns]\n",
      "trgt    929 non-null float64\n",
      "dtypes: datetime64[ns](1), float64(1)\n",
      "memory usage: 21.8 KB\n",
      "None\n",
      "-------------------------------------------------------------------------------\n",
      "\n"
     ]
    }
   ],
   "source": [
    "cprint(events)"
   ]
  },
  {
   "cell_type": "markdown",
   "metadata": {},
   "source": [
    "### (d) Apply `getBins` to generate labels"
   ]
  },
  {
   "cell_type": "code",
   "execution_count": 25,
   "metadata": {
    "ExecuteTime": {
     "end_time": "2018-10-10T01:40:14.724029Z",
     "start_time": "2018-10-10T01:40:14.479148Z"
    }
   },
   "outputs": [
    {
     "name": "stdout",
     "output_type": "stream",
     "text": [
      "-------------------------------------------------------------------------------\n",
      "dataframe information\n",
      "-------------------------------------------------------------------------------\n",
      "                          ret  bin\n",
      "2018-02-13 13:43:37  0.010108  1.0\n",
      "2018-02-14 10:30:48  0.015045  1.0\n",
      "2018-02-14 13:36:02  0.005056  1.0\n",
      "2018-02-15 09:31:56  0.003964  1.0\n",
      "2018-02-15 14:05:41  0.010431  1.0\n",
      "--------------------------------------------------\n",
      "<class 'pandas.core.frame.DataFrame'>\n",
      "DatetimeIndex: 929 entries, 2009-10-05 14:55:48 to 2018-02-15 14:05:41\n",
      "Data columns (total 2 columns):\n",
      "ret    929 non-null float64\n",
      "bin    929 non-null float64\n",
      "dtypes: float64(2)\n",
      "memory usage: 61.8 KB\n",
      "None\n",
      "-------------------------------------------------------------------------------\n",
      "\n"
     ]
    }
   ],
   "source": [
    "labels = getBins(events, close)\n",
    "cprint(labels)"
   ]
  },
  {
   "cell_type": "code",
   "execution_count": 26,
   "metadata": {
    "ExecuteTime": {
     "end_time": "2018-10-10T01:40:14.963773Z",
     "start_time": "2018-10-10T01:40:14.725270Z"
    }
   },
   "outputs": [
    {
     "data": {
      "text/plain": [
       " 1.0    523\n",
       "-1.0    406\n",
       "Name: bin, dtype: int64"
      ]
     },
     "execution_count": 26,
     "metadata": {},
     "output_type": "execute_result"
    }
   ],
   "source": [
    "labels.bin.value_counts()"
   ]
  },
  {
   "cell_type": "markdown",
   "metadata": {},
   "source": [
    "## [3.2] Use snippet 3.8 to drop under-populated labels"
   ]
  },
  {
   "cell_type": "code",
   "execution_count": 27,
   "metadata": {
    "ExecuteTime": {
     "end_time": "2018-10-10T01:40:15.223269Z",
     "start_time": "2018-10-10T01:40:14.965411Z"
    }
   },
   "outputs": [
    {
     "name": "stdout",
     "output_type": "stream",
     "text": [
      "-------------------------------------------------------------------------------\n",
      "dataframe information\n",
      "-------------------------------------------------------------------------------\n",
      "                          ret  bin\n",
      "2018-02-13 13:43:37  0.010108  1.0\n",
      "2018-02-14 10:30:48  0.015045  1.0\n",
      "2018-02-14 13:36:02  0.005056  1.0\n",
      "2018-02-15 09:31:56  0.003964  1.0\n",
      "2018-02-15 14:05:41  0.010431  1.0\n",
      "--------------------------------------------------\n",
      "<class 'pandas.core.frame.DataFrame'>\n",
      "DatetimeIndex: 929 entries, 2009-10-05 14:55:48 to 2018-02-15 14:05:41\n",
      "Data columns (total 2 columns):\n",
      "ret    929 non-null float64\n",
      "bin    929 non-null float64\n",
      "dtypes: float64(2)\n",
      "memory usage: 61.8 KB\n",
      "None\n",
      "-------------------------------------------------------------------------------\n",
      "\n"
     ]
    }
   ],
   "source": [
    "clean_labels = dropLabels(labels)\n",
    "cprint(clean_labels)"
   ]
  },
  {
   "cell_type": "code",
   "execution_count": 28,
   "metadata": {
    "ExecuteTime": {
     "end_time": "2018-10-10T01:40:15.470989Z",
     "start_time": "2018-10-10T01:40:15.224916Z"
    }
   },
   "outputs": [
    {
     "data": {
      "text/plain": [
       " 1.0    523\n",
       "-1.0    406\n",
       "Name: bin, dtype: int64"
      ]
     },
     "execution_count": 28,
     "metadata": {},
     "output_type": "execute_result"
    }
   ],
   "source": [
    "clean_labels.bin.value_counts()"
   ]
  },
  {
   "cell_type": "markdown",
   "metadata": {},
   "source": [
    "## [3.4] Develop moving average crossover strategy. For each obs. the model suggests a side but not size of the bet"
   ]
  },
  {
   "cell_type": "code",
   "execution_count": 29,
   "metadata": {
    "ExecuteTime": {
     "end_time": "2018-10-10T01:40:15.830811Z",
     "start_time": "2018-10-10T01:40:15.472645Z"
    }
   },
   "outputs": [
    {
     "name": "stdout",
     "output_type": "stream",
     "text": [
      "-------------------------------------------------------------------------------\n",
      "dataframe information\n",
      "-------------------------------------------------------------------------------\n",
      "                      price        fast        slow\n",
      "2018-02-26 15:31:06  115.29  115.227691  115.057569\n",
      "2018-02-26 15:40:15  115.41  115.273268  115.101623\n",
      "2018-02-26 15:49:42  115.20  115.254951  115.113920\n",
      "2018-02-26 15:59:04  115.27  115.258713  115.133430\n",
      "2018-02-26 16:16:14  115.30  115.269035  115.154251\n",
      "--------------------------------------------------\n",
      "<class 'pandas.core.frame.DataFrame'>\n",
      "DatetimeIndex: 30860 entries, 2009-09-28 09:53:49 to 2018-02-26 16:16:14\n",
      "Data columns (total 3 columns):\n",
      "price    30860 non-null float64\n",
      "fast     30860 non-null float64\n",
      "slow     30860 non-null float64\n",
      "dtypes: float64(3)\n",
      "memory usage: 964.4 KB\n",
      "None\n",
      "-------------------------------------------------------------------------------\n",
      "\n"
     ]
    }
   ],
   "source": [
    "fast_window = 3\n",
    "slow_window = 7\n",
    "\n",
    "close_df = (pd.DataFrame()\n",
    "            .assign(price=close)\n",
    "            .assign(fast=close.ewm(fast_window).mean())\n",
    "            .assign(slow=close.ewm(slow_window).mean()))\n",
    "cprint(close_df)"
   ]
  },
  {
   "cell_type": "code",
   "execution_count": 30,
   "metadata": {
    "ExecuteTime": {
     "end_time": "2018-10-10T01:40:16.483659Z",
     "start_time": "2018-10-10T01:40:15.832402Z"
    }
   },
   "outputs": [
    {
     "data": {
      "text/plain": [
       "<matplotlib.legend.Legend at 0x7f652c2c8978>"
      ]
     },
     "execution_count": 30,
     "metadata": {},
     "output_type": "execute_result"
    },
    {
     "data": {
      "image/png": "[encoded data removed]",
      "text/plain": [
       "<Figure size 792x576 with 1 Axes>"
      ]
     },
     "metadata": {
      "needs_background": "light"
     },
     "output_type": "display_data"
    }
   ],
   "source": [
    "def get_up_cross(df):\n",
    "    crit1 = df.fast.shift(1) < df.slow.shift(1)\n",
    "    crit2 = df.fast > df.slow\n",
    "    return df.fast[(crit1) & (crit2)]\n",
    "\n",
    "def get_down_cross(df):\n",
    "    crit1 = df.fast.shift(1) > df.slow.shift(1)\n",
    "    crit2 = df.fast < df.slow\n",
    "    return df.fast[(crit1) & (crit2)]\n",
    "\n",
    "up = get_up_cross(close_df)\n",
    "down = get_down_cross(close_df)\n",
    "\n",
    "f, ax = plt.subplots(figsize=(11,8))\n",
    "\n",
    "close_df.loc['2014':].plot(ax=ax, alpha=.5)\n",
    "up.loc['2014':].plot(ax=ax,ls='',marker='^', markersize=7,\n",
    "                     alpha=0.75, label='upcross', color='g')\n",
    "down.loc['2014':].plot(ax=ax,ls='',marker='v', markersize=7, \n",
    "                       alpha=0.75, label='downcross', color='r')\n",
    "\n",
    "ax.legend()"
   ]
  },
  {
   "cell_type": "markdown",
   "metadata": {},
   "source": [
    "### (a) Derive meta-labels for `ptSl = [1,2]` and `t1` where `numdays=1`. Use as `trgt` dailyVol computed by snippet 3.1 (get events with sides)"
   ]
  },
  {
   "cell_type": "code",
   "execution_count": 31,
   "metadata": {
    "ExecuteTime": {
     "end_time": "2018-10-10T01:40:16.708206Z",
     "start_time": "2018-10-10T01:40:16.485382Z"
    },
    "scrolled": true
   },
   "outputs": [
    {
     "name": "stdout",
     "output_type": "stream",
     "text": [
      "-------------------------------------------------------------------------------\n",
      "dataframe information\n",
      "-------------------------------------------------------------------------------\n",
      "                     0\n",
      "2018-02-21 11:10:00  1\n",
      "2018-02-21 15:12:30 -1\n",
      "2018-02-22 11:48:39  1\n",
      "2018-02-22 13:34:29 -1\n",
      "2018-02-23 10:01:41  1\n",
      "--------------------------------------------------\n",
      "<class 'pandas.core.frame.DataFrame'>\n",
      "DatetimeIndex: 1712 entries, 2009-09-30 09:45:21 to 2018-02-23 10:01:41\n",
      "Data columns (total 1 columns):\n",
      "0    1712 non-null int64\n",
      "dtypes: int64(1)\n",
      "memory usage: 26.8 KB\n",
      "None\n",
      "-------------------------------------------------------------------------------\n",
      "\n"
     ]
    }
   ],
   "source": [
    "side_up = pd.Series(1, index=up.index)\n",
    "side_down = pd.Series(-1, index=down.index)\n",
    "side = pd.concat([side_up,side_down]).sort_index()\n",
    "cprint(side)"
   ]
  },
  {
   "cell_type": "code",
   "execution_count": 32,
   "metadata": {
    "ExecuteTime": {
     "end_time": "2018-10-10T01:40:17.482906Z",
     "start_time": "2018-10-10T01:40:16.709919Z"
    }
   },
   "outputs": [
    {
     "name": "stdout",
     "output_type": "stream",
     "text": [
      "-------------------------------------------------------------------------------\n",
      "dataframe information\n",
      "-------------------------------------------------------------------------------\n",
      "                     side                  t1      trgt\n",
      "2018-02-13 13:43:37   NaN 2018-02-14 13:53:59  0.014365\n",
      "2018-02-14 10:30:48   NaN 2018-02-15 10:42:27  0.012136\n",
      "2018-02-14 13:36:02   NaN 2018-02-15 13:42:09  0.011688\n",
      "2018-02-15 09:31:56   NaN 2018-02-16 09:42:36  0.011244\n",
      "2018-02-15 14:05:41   NaN 2018-02-16 14:15:08  0.010183\n",
      "--------------------------------------------------\n",
      "<class 'pandas.core.frame.DataFrame'>\n",
      "DatetimeIndex: 929 entries, 2009-10-05 14:55:48 to 2018-02-15 14:05:41\n",
      "Data columns (total 3 columns):\n",
      "side    102 non-null float64\n",
      "t1      929 non-null datetime64[ns]\n",
      "trgt    929 non-null float64\n",
      "dtypes: datetime64[ns](1), float64(2)\n",
      "memory usage: 29.0 KB\n",
      "None\n",
      "-------------------------------------------------------------------------------\n",
      "\n"
     ]
    },
    {
     "name": "stderr",
     "output_type": "stream",
     "text": [
      "2018-10-09 19:40:17.295101 9.09% applyPtSlOnT1 done after 0.0 minutes. Remaining 0.04 minutes.\r",
      "2018-10-09 19:40:17.296378 18.18% applyPtSlOnT1 done after 0.0 minutes. Remaining 0.02 minutes.\r",
      "2018-10-09 19:40:17.298461 27.27% applyPtSlOnT1 done after 0.0 minutes. Remaining 0.01 minutes.\r",
      "2018-10-09 19:40:17.299743 36.36% applyPtSlOnT1 done after 0.0 minutes. Remaining 0.01 minutes.\r",
      "2018-10-09 19:40:17.301619 45.45% applyPtSlOnT1 done after 0.0 minutes. Remaining 0.0 minutes.\r",
      "2018-10-09 19:40:17.301671 54.55% applyPtSlOnT1 done after 0.0 minutes. Remaining 0.0 minutes.\r",
      "2018-10-09 19:40:17.302202 63.64% applyPtSlOnT1 done after 0.0 minutes. Remaining 0.0 minutes.\r",
      "2018-10-09 19:40:17.306372 72.73% applyPtSlOnT1 done after 0.0 minutes. Remaining 0.0 minutes.\r",
      "2018-10-09 19:40:17.314514 81.82% applyPtSlOnT1 done after 0.0 minutes. Remaining 0.0 minutes.\r",
      "2018-10-09 19:40:17.322786 90.91% applyPtSlOnT1 done after 0.0 minutes. Remaining 0.0 minutes.\r",
      "2018-10-09 19:40:17.323883 100.0% applyPtSlOnT1 done after 0.0 minutes. Remaining 0.0 minutes.\n"
     ]
    }
   ],
   "source": [
    "minRet = .01 \n",
    "ptsl=[1,2]\n",
    "ma_events = getEvents(close,tEvents,ptsl,target,minRet,cpus,t1=t1,side=side)\n",
    "cprint(ma_events)"
   ]
  },
  {
   "cell_type": "code",
   "execution_count": 33,
   "metadata": {
    "ExecuteTime": {
     "end_time": "2018-10-10T01:40:17.766611Z",
     "start_time": "2018-10-10T01:40:17.486199Z"
    }
   },
   "outputs": [
    {
     "data": {
      "text/plain": [
       " 1.0    53\n",
       "-1.0    49\n",
       "Name: side, dtype: int64"
      ]
     },
     "execution_count": 33,
     "metadata": {},
     "output_type": "execute_result"
    }
   ],
   "source": [
    "ma_events.side.value_counts()"
   ]
  },
  {
   "cell_type": "code",
   "execution_count": 34,
   "metadata": {
    "ExecuteTime": {
     "end_time": "2018-10-10T01:40:18.066269Z",
     "start_time": "2018-10-10T01:40:17.768439Z"
    }
   },
   "outputs": [],
   "source": [
    "ma_side = ma_events.dropna().side"
   ]
  },
  {
   "cell_type": "code",
   "execution_count": 35,
   "metadata": {
    "ExecuteTime": {
     "end_time": "2018-10-10T01:40:18.357579Z",
     "start_time": "2018-10-10T01:40:18.068198Z"
    }
   },
   "outputs": [
    {
     "name": "stdout",
     "output_type": "stream",
     "text": [
      "-------------------------------------------------------------------------------\n",
      "dataframe information\n",
      "-------------------------------------------------------------------------------\n",
      "                          ret  bin\n",
      "2016-07-07 14:28:00 -0.018703  0.0\n",
      "2016-07-08 09:30:57  0.010571  1.0\n",
      "2018-02-06 10:18:08 -0.026702  0.0\n",
      "2018-02-07 15:28:09 -0.030792  0.0\n",
      "2018-02-13 09:30:00 -0.001803  0.0\n",
      "--------------------------------------------------\n",
      "<class 'pandas.core.frame.DataFrame'>\n",
      "DatetimeIndex: 102 entries, 2009-10-29 13:40:22 to 2018-02-13 09:30:00\n",
      "Data columns (total 2 columns):\n",
      "ret    102 non-null float64\n",
      "bin    102 non-null float64\n",
      "dtypes: float64(2)\n",
      "memory usage: 2.4 KB\n",
      "None\n",
      "-------------------------------------------------------------------------------\n",
      "\n"
     ]
    }
   ],
   "source": [
    "ma_bins = getBins(ma_events,close).dropna()\n",
    "cprint(ma_bins)"
   ]
  },
  {
   "cell_type": "code",
   "execution_count": 36,
   "metadata": {
    "ExecuteTime": {
     "end_time": "2018-10-10T01:40:18.664039Z",
     "start_time": "2018-10-10T01:40:18.359565Z"
    }
   },
   "outputs": [
    {
     "name": "stdout",
     "output_type": "stream",
     "text": [
      "-------------------------------------------------------------------------------\n",
      "dataframe information\n",
      "-------------------------------------------------------------------------------\n",
      "                          ret  bin  side\n",
      "2016-07-07 14:28:00 -0.018703  0.0    -1\n",
      "2016-07-08 09:30:57  0.010571  1.0     1\n",
      "2018-02-06 10:18:08 -0.026702  0.0    -1\n",
      "2018-02-07 15:28:09 -0.030792  0.0     1\n",
      "2018-02-13 09:30:00 -0.001803  0.0    -1\n",
      "--------------------------------------------------\n",
      "<class 'pandas.core.frame.DataFrame'>\n",
      "DatetimeIndex: 102 entries, 2009-10-29 13:40:22 to 2018-02-13 09:30:00\n",
      "Data columns (total 3 columns):\n",
      "ret     102 non-null float64\n",
      "bin     102 non-null float64\n",
      "side    102 non-null int64\n",
      "dtypes: float64(2), int64(1)\n",
      "memory usage: 3.2 KB\n",
      "None\n",
      "-------------------------------------------------------------------------------\n",
      "\n"
     ]
    }
   ],
   "source": [
    "Xx = pd.merge_asof(ma_bins, side.to_frame().rename(columns={0:'side'}),\n",
    "                   left_index=True, right_index=True, direction='forward')\n",
    "cprint(Xx)"
   ]
  },
  {
   "cell_type": "markdown",
   "metadata": {},
   "source": [
    "### (b) Train Random Forest to decide whether to trade or not `{0,1}` since underlying model (crossing m.a.) has decided the side, `{-1,1}`"
   ]
  },
  {
   "cell_type": "code",
   "execution_count": 37,
   "metadata": {
    "ExecuteTime": {
     "end_time": "2018-10-10T01:40:19.180365Z",
     "start_time": "2018-10-10T01:40:18.666133Z"
    }
   },
   "outputs": [],
   "source": [
    "from sklearn.ensemble import RandomForestClassifier\n",
    "from sklearn.model_selection import train_test_split\n",
    "from sklearn.metrics import roc_curve, classification_report"
   ]
  },
  {
   "cell_type": "code",
   "execution_count": 38,
   "metadata": {
    "ExecuteTime": {
     "end_time": "2018-10-10T01:40:25.177525Z",
     "start_time": "2018-10-10T01:40:19.183122Z"
    }
   },
   "outputs": [
    {
     "name": "stdout",
     "output_type": "stream",
     "text": [
      "              precision    recall  f1-score   support\n",
      "\n",
      "         0.0       0.00      0.00      0.00        21\n",
      "         1.0       0.59      1.00      0.74        30\n",
      "\n",
      "   micro avg       0.59      0.59      0.59        51\n",
      "   macro avg       0.29      0.50      0.37        51\n",
      "weighted avg       0.35      0.59      0.44        51\n",
      "\n"
     ]
    },
    {
     "data": {
      "image/png": "[encoded data removed]",
      "text/plain": [
       "<Figure size 432x288 with 1 Axes>"
      ]
     },
     "metadata": {
      "needs_background": "light"
     },
     "output_type": "display_data"
    }
   ],
   "source": [
    "X = ma_side.values.reshape(-1,1)\n",
    "#X = Xx.side.values.reshape(-1,1)\n",
    "y = ma_bins.bin.values\n",
    "X_train, X_test, y_train, y_test = train_test_split(X, y, test_size=0.5)\n",
    "\n",
    "n_estimator = 10000\n",
    "rf = RandomForestClassifier(max_depth=2, n_estimators=n_estimator,\n",
    "                            criterion='entropy', random_state=RANDOM_STATE)\n",
    "rf.fit(X_train, y_train)\n",
    "\n",
    "# The random forest model by itself\n",
    "y_pred_rf = rf.predict_proba(X_test)[:, 1]\n",
    "y_pred = rf.predict(X_test)\n",
    "fpr_rf, tpr_rf, _ = roc_curve(y_test, y_pred_rf)\n",
    "print(classification_report(y_test, y_pred))\n",
    "\n",
    "plt.figure(1)\n",
    "plt.plot([0, 1], [0, 1], 'k--')\n",
    "plt.plot(fpr_rf, tpr_rf, label='RF')\n",
    "plt.xlabel('False positive rate')\n",
    "plt.ylabel('True positive rate')\n",
    "plt.title('ROC curve')\n",
    "plt.legend(loc='best')\n",
    "plt.show()"
   ]
  },
  {
   "cell_type": "markdown",
   "metadata": {},
   "source": [
    "## [3.5] Develop mean-reverting Bollinger Band Strategy. For each obs. model suggests a side but not size of the bet."
   ]
  },
  {
   "cell_type": "code",
   "execution_count": 39,
   "metadata": {
    "ExecuteTime": {
     "end_time": "2018-10-10T01:40:25.456862Z",
     "start_time": "2018-10-10T01:40:25.179255Z"
    }
   },
   "outputs": [],
   "source": [
    "def bbands(price, window=None, width=None, numsd=None):\n",
    "    \"\"\" returns average, upper band, and lower band\"\"\"\n",
    "    ave = price.rolling(window).mean()\n",
    "    sd = price.rolling(window).std(ddof=0)\n",
    "    if width:\n",
    "        upband = ave * (1+width)\n",
    "        dnband = ave * (1-width)\n",
    "        return price, np.round(ave,3), np.round(upband,3), np.round(dnband,3)        \n",
    "    if numsd:\n",
    "        upband = ave + (sd*numsd)\n",
    "        dnband = ave - (sd*numsd)\n",
    "        return price, np.round(ave,3), np.round(upband,3), np.round(dnband,3)"
   ]
  },
  {
   "cell_type": "code",
   "execution_count": 40,
   "metadata": {
    "ExecuteTime": {
     "end_time": "2018-10-10T01:40:25.795885Z",
     "start_time": "2018-10-10T01:40:25.458772Z"
    }
   },
   "outputs": [
    {
     "name": "stdout",
     "output_type": "stream",
     "text": [
      "-------------------------------------------------------------------------------\n",
      "dataframe information\n",
      "-------------------------------------------------------------------------------\n",
      "                      price      ave    upper    lower\n",
      "2018-02-26 15:31:06  115.29  114.005  114.959  113.051\n",
      "2018-02-26 15:40:15  115.41  114.069  115.008  113.129\n",
      "2018-02-26 15:49:42  115.20  114.124  115.047  113.202\n",
      "2018-02-26 15:59:04  115.27  114.183  115.083  113.282\n",
      "2018-02-26 16:16:14  115.30  114.231  115.125  113.338\n",
      "--------------------------------------------------\n",
      "<class 'pandas.core.frame.DataFrame'>\n",
      "DatetimeIndex: 30811 entries, 2009-10-01 15:51:02 to 2018-02-26 16:16:14\n",
      "Data columns (total 4 columns):\n",
      "price    30811 non-null float64\n",
      "ave      30811 non-null float64\n",
      "upper    30811 non-null float64\n",
      "lower    30811 non-null float64\n",
      "dtypes: float64(4)\n",
      "memory usage: 1.2 MB\n",
      "None\n",
      "-------------------------------------------------------------------------------\n",
      "\n"
     ]
    }
   ],
   "source": [
    "window=50\n",
    "bb_df = pd.DataFrame()\n",
    "bb_df['price'],bb_df['ave'],bb_df['upper'],bb_df['lower']=bbands(close, window=window, numsd=1)\n",
    "bb_df.dropna(inplace=True)\n",
    "cprint(bb_df)"
   ]
  },
  {
   "cell_type": "code",
   "execution_count": 41,
   "metadata": {
    "ExecuteTime": {
     "end_time": "2018-10-10T01:40:26.346271Z",
     "start_time": "2018-10-10T01:40:25.797358Z"
    }
   },
   "outputs": [
    {
     "data": {
      "text/plain": [
       "<matplotlib.axes._subplots.AxesSubplot at 0x7f652955fbe0>"
      ]
     },
     "execution_count": 41,
     "metadata": {},
     "output_type": "execute_result"
    },
    {
     "data": {
      "image/png": "[encoded data removed]",
      "text/plain": [
       "<Figure size 792x576 with 1 Axes>"
      ]
     },
     "metadata": {
      "needs_background": "light"
     },
     "output_type": "display_data"
    }
   ],
   "source": [
    "f,ax=plt.subplots(figsize=(11,8))\n",
    "bb_df.loc['2014'].plot(ax=ax)"
   ]
  },
  {
   "cell_type": "code",
   "execution_count": 42,
   "metadata": {
    "ExecuteTime": {
     "end_time": "2018-10-10T01:40:26.993214Z",
     "start_time": "2018-10-10T01:40:26.349261Z"
    }
   },
   "outputs": [
    {
     "data": {
      "text/plain": [
       "<matplotlib.legend.Legend at 0x7f6527e28f28>"
      ]
     },
     "execution_count": 42,
     "metadata": {},
     "output_type": "execute_result"
    },
    {
     "data": {
      "image/png": "[encoded data removed]",
      "text/plain": [
       "<Figure size 792x576 with 1 Axes>"
      ]
     },
     "metadata": {
      "needs_background": "light"
     },
     "output_type": "display_data"
    }
   ],
   "source": [
    "def get_up_cross(df, col):\n",
    "    # col is price column\n",
    "    crit1 = df[col].shift(1) < df.upper.shift(1)  \n",
    "    crit2 = df[col] > df.upper\n",
    "    return df[col][(crit1) & (crit2)]\n",
    "\n",
    "def get_down_cross(df, col):\n",
    "    # col is price column    \n",
    "    crit1 = df[col].shift(1) > df.lower.shift(1) \n",
    "    crit2 = df[col] < df.lower\n",
    "    return df[col][(crit1) & (crit2)]\n",
    "\n",
    "bb_down = get_down_cross(bb_df, 'price')\n",
    "bb_up = get_up_cross(bb_df, 'price') \n",
    "\n",
    "f, ax = plt.subplots(figsize=(11,8))\n",
    "\n",
    "bb_df.loc['2014':].plot(ax=ax, alpha=.5)\n",
    "bb_up.loc['2014':].plot(ax=ax, ls='', marker='^', markersize=7,\n",
    "                        alpha=0.75, label='upcross', color='g')\n",
    "bb_down.loc['2014':].plot(ax=ax, ls='', marker='v', markersize=7, \n",
    "                          alpha=0.75, label='downcross', color='r')\n",
    "ax.legend()"
   ]
  },
  {
   "cell_type": "markdown",
   "metadata": {},
   "source": [
    "### (a) Derive meta-labels for `ptSl=[0,2]` and `t1` where `numdays=1`. Use as `trgt` dailyVol."
   ]
  },
  {
   "cell_type": "code",
   "execution_count": 43,
   "metadata": {
    "ExecuteTime": {
     "end_time": "2018-10-10T01:40:27.724585Z",
     "start_time": "2018-10-10T01:40:26.994516Z"
    }
   },
   "outputs": [
    {
     "name": "stdout",
     "output_type": "stream",
     "text": [
      "-------------------------------------------------------------------------------\n",
      "dataframe information\n",
      "-------------------------------------------------------------------------------\n",
      "                     0\n",
      "2018-02-22 13:34:29  1\n",
      "2018-02-22 14:20:25  1\n",
      "2018-02-22 14:44:33  1\n",
      "2018-02-23 13:41:26 -1\n",
      "2018-02-23 14:40:49 -1\n",
      "--------------------------------------------------\n",
      "<class 'pandas.core.frame.DataFrame'>\n",
      "DatetimeIndex: 2040 entries, 2009-10-06 09:29:52 to 2018-02-23 14:40:49\n",
      "Data columns (total 1 columns):\n",
      "0    2040 non-null int64\n",
      "dtypes: int64(1)\n",
      "memory usage: 31.9 KB\n",
      "None\n",
      "-------------------------------------------------------------------------------\n",
      "\n"
     ]
    },
    {
     "name": "stderr",
     "output_type": "stream",
     "text": [
      "2018-10-09 19:40:27.479211 9.09% applyPtSlOnT1 done after 0.0 minutes. Remaining 0.03 minutes.\r",
      "2018-10-09 19:40:27.499456 18.18% applyPtSlOnT1 done after 0.0 minutes. Remaining 0.01 minutes.\r",
      "2018-10-09 19:40:27.501612 27.27% applyPtSlOnT1 done after 0.0 minutes. Remaining 0.01 minutes.\r",
      "2018-10-09 19:40:27.504161 36.36% applyPtSlOnT1 done after 0.0 minutes. Remaining 0.01 minutes.\r",
      "2018-10-09 19:40:27.506818 45.45% applyPtSlOnT1 done after 0.0 minutes. Remaining 0.0 minutes.\r",
      "2018-10-09 19:40:27.507799 54.55% applyPtSlOnT1 done after 0.0 minutes. Remaining 0.0 minutes.\r",
      "2018-10-09 19:40:27.508383 63.64% applyPtSlOnT1 done after 0.0 minutes. Remaining 0.0 minutes.\r",
      "2018-10-09 19:40:27.509676 72.73% applyPtSlOnT1 done after 0.0 minutes. Remaining 0.0 minutes.\r",
      "2018-10-09 19:40:27.510220 81.82% applyPtSlOnT1 done after 0.0 minutes. Remaining 0.0 minutes.\r",
      "2018-10-09 19:40:27.512811 90.91% applyPtSlOnT1 done after 0.0 minutes. Remaining 0.0 minutes.\r",
      "2018-10-09 19:40:27.517390 100.0% applyPtSlOnT1 done after 0.0 minutes. Remaining 0.0 minutes.\n"
     ]
    },
    {
     "name": "stdout",
     "output_type": "stream",
     "text": [
      "-------------------------------------------------------------------------------\n",
      "dataframe information\n",
      "-------------------------------------------------------------------------------\n",
      "                     side                  t1      trgt\n",
      "2018-02-13 13:43:37  -1.0 2018-02-14 13:53:59  0.014365\n",
      "2018-02-14 10:30:48   NaN 2018-02-15 10:42:27  0.012136\n",
      "2018-02-14 13:36:02   NaN 2018-02-15 13:42:09  0.011688\n",
      "2018-02-15 09:31:56   NaN 2018-02-16 09:42:36  0.011244\n",
      "2018-02-15 14:05:41   NaN 2018-02-16 14:15:08  0.010183\n",
      "--------------------------------------------------\n",
      "<class 'pandas.core.frame.DataFrame'>\n",
      "DatetimeIndex: 929 entries, 2009-10-05 14:55:48 to 2018-02-15 14:05:41\n",
      "Data columns (total 3 columns):\n",
      "side    139 non-null float64\n",
      "t1      929 non-null datetime64[ns]\n",
      "trgt    929 non-null float64\n",
      "dtypes: datetime64[ns](1), float64(2)\n",
      "memory usage: 29.0 KB\n",
      "None\n",
      "-------------------------------------------------------------------------------\n",
      "\n",
      "-------------------------------------------------------------------------------\n",
      "dataframe information\n",
      "-------------------------------------------------------------------------------\n",
      "                     side\n",
      "2016-07-07 10:17:10  -1.0\n",
      "2016-07-08 09:30:57  -1.0\n",
      "2018-02-06 10:18:08   1.0\n",
      "2018-02-06 14:19:57   1.0\n",
      "2018-02-13 13:43:37  -1.0\n",
      "--------------------------------------------------\n",
      "<class 'pandas.core.frame.DataFrame'>\n",
      "DatetimeIndex: 139 entries, 2009-10-06 09:29:52 to 2018-02-13 13:43:37\n",
      "Data columns (total 1 columns):\n",
      "side    139 non-null float64\n",
      "dtypes: float64(1)\n",
      "memory usage: 2.2 KB\n",
      "None\n",
      "-------------------------------------------------------------------------------\n",
      "\n"
     ]
    }
   ],
   "source": [
    "bb_side_up = pd.Series(-1, index=bb_up.index) # sell on up cross for mean reversion\n",
    "bb_side_down = pd.Series(1, index=bb_down.index) # buy on down cross for mean reversion\n",
    "bb_side_raw = pd.concat([bb_side_up,bb_side_down]).sort_index()\n",
    "cprint(bb_side_raw)\n",
    "\n",
    "minRet = .01 \n",
    "ptsl=[0,2]\n",
    "bb_events = getEvents(close,tEvents,ptsl,target,minRet,cpus,t1=t1,side=bb_side_raw)\n",
    "cprint(bb_events)\n",
    "\n",
    "bb_side = bb_events.dropna().side\n",
    "cprint(bb_side)"
   ]
  },
  {
   "cell_type": "code",
   "execution_count": 44,
   "metadata": {
    "ExecuteTime": {
     "end_time": "2018-10-10T01:40:27.982247Z",
     "start_time": "2018-10-10T01:40:27.726167Z"
    }
   },
   "outputs": [
    {
     "data": {
      "text/plain": [
       " 1.0    72\n",
       "-1.0    67\n",
       "Name: side, dtype: int64"
      ]
     },
     "execution_count": 44,
     "metadata": {},
     "output_type": "execute_result"
    }
   ],
   "source": [
    "bb_side.value_counts()"
   ]
  },
  {
   "cell_type": "code",
   "execution_count": 45,
   "metadata": {
    "ExecuteTime": {
     "end_time": "2018-10-10T01:40:28.206046Z",
     "start_time": "2018-10-10T01:40:27.983958Z"
    }
   },
   "outputs": [
    {
     "name": "stdout",
     "output_type": "stream",
     "text": [
      "-------------------------------------------------------------------------------\n",
      "dataframe information\n",
      "-------------------------------------------------------------------------------\n",
      "                          ret  bin\n",
      "2016-07-07 10:17:10 -0.003791  0.0\n",
      "2016-07-08 09:30:57 -0.010571  0.0\n",
      "2018-02-06 10:18:08  0.025085  1.0\n",
      "2018-02-06 14:19:57  0.028779  1.0\n",
      "2018-02-13 13:43:37 -0.010108  0.0\n",
      "--------------------------------------------------\n",
      "<class 'pandas.core.frame.DataFrame'>\n",
      "DatetimeIndex: 139 entries, 2009-10-06 09:29:52 to 2018-02-13 13:43:37\n",
      "Data columns (total 2 columns):\n",
      "ret    139 non-null float64\n",
      "bin    139 non-null float64\n",
      "dtypes: float64(2)\n",
      "memory usage: 3.3 KB\n",
      "None\n",
      "-------------------------------------------------------------------------------\n",
      "\n"
     ]
    }
   ],
   "source": [
    "bb_bins = getBins(bb_events,close).dropna()\n",
    "cprint(bb_bins)"
   ]
  },
  {
   "cell_type": "code",
   "execution_count": 46,
   "metadata": {
    "ExecuteTime": {
     "end_time": "2018-10-10T01:40:28.455412Z",
     "start_time": "2018-10-10T01:40:28.207454Z"
    }
   },
   "outputs": [
    {
     "data": {
      "text/plain": [
       "0.0    79\n",
       "1.0    60\n",
       "Name: bin, dtype: int64"
      ]
     },
     "execution_count": 46,
     "metadata": {},
     "output_type": "execute_result"
    }
   ],
   "source": [
    "bb_bins.bin.value_counts()"
   ]
  },
  {
   "cell_type": "markdown",
   "metadata": {},
   "source": [
    "### (b) train random forest to decide to trade or not. Use features: volatility, serial correlation, and the crossing moving averages from exercise 2."
   ]
  },
  {
   "cell_type": "code",
   "execution_count": 47,
   "metadata": {
    "ExecuteTime": {
     "end_time": "2018-10-10T01:40:28.690992Z",
     "start_time": "2018-10-10T01:40:28.458142Z"
    }
   },
   "outputs": [],
   "source": [
    "def returns(s):\n",
    "    arr = np.diff(np.log(s))\n",
    "    return (pd.Series(arr, index=s.index[1:]))\n",
    "\n",
    "def df_rolling_autocorr(df, window, lag=1):\n",
    "    \"\"\"Compute rolling column-wise autocorrelation for a DataFrame.\"\"\"\n",
    "\n",
    "    return (df.rolling(window=window)\n",
    "            .corr(df.shift(lag))) # could .dropna() here\n",
    "\n",
    "#df_rolling_autocorr(d1, window=21).dropna().head()"
   ]
  },
  {
   "cell_type": "code",
   "execution_count": 48,
   "metadata": {
    "ExecuteTime": {
     "end_time": "2018-10-10T01:40:28.937991Z",
     "start_time": "2018-10-10T01:40:28.692635Z"
    }
   },
   "outputs": [
    {
     "name": "stdout",
     "output_type": "stream",
     "text": [
      "-------------------------------------------------------------------------------\n",
      "dataframe information\n",
      "-------------------------------------------------------------------------------\n",
      "                     srl_corr\n",
      "2018-02-26 15:31:06  0.028037\n",
      "2018-02-26 15:40:15  0.015957\n",
      "2018-02-26 15:49:42  0.032877\n",
      "2018-02-26 15:59:04  0.046014\n",
      "2018-02-26 16:16:14  0.109129\n",
      "--------------------------------------------------\n",
      "<class 'pandas.core.frame.DataFrame'>\n",
      "DatetimeIndex: 30859 entries, 2009-09-28 10:06:04 to 2018-02-26 16:16:14\n",
      "Data columns (total 1 columns):\n",
      "srl_corr    30809 non-null float64\n",
      "dtypes: float64(1)\n",
      "memory usage: 482.2 KB\n",
      "None\n",
      "-------------------------------------------------------------------------------\n",
      "\n"
     ]
    }
   ],
   "source": [
    "srl_corr = df_rolling_autocorr(returns(close), window=window).rename('srl_corr')\n",
    "cprint(srl_corr)"
   ]
  },
  {
   "cell_type": "code",
   "execution_count": 49,
   "metadata": {
    "ExecuteTime": {
     "end_time": "2018-10-10T01:40:29.257931Z",
     "start_time": "2018-10-10T01:40:28.939580Z"
    }
   },
   "outputs": [
    {
     "name": "stdout",
     "output_type": "stream",
     "text": [
      "-------------------------------------------------------------------------------\n",
      "dataframe information\n",
      "-------------------------------------------------------------------------------\n",
      "                          vol  ma_side  srl_corr\n",
      "2016-07-07 14:28:00  0.012624     -1.0  0.251865\n",
      "2016-07-08 09:30:57  0.011944      1.0  0.238590\n",
      "2018-02-06 10:18:08  0.013317     -1.0  0.123961\n",
      "2018-02-07 15:28:09  0.024870      1.0 -0.005597\n",
      "2018-02-13 09:30:00  0.017363     -1.0  0.198935\n",
      "--------------------------------------------------\n",
      "<class 'pandas.core.frame.DataFrame'>\n",
      "DatetimeIndex: 102 entries, 2009-10-29 13:40:22 to 2018-02-13 09:30:00\n",
      "Data columns (total 3 columns):\n",
      "vol         102 non-null float64\n",
      "ma_side     102 non-null float64\n",
      "srl_corr    102 non-null float64\n",
      "dtypes: float64(3)\n",
      "memory usage: 3.2 KB\n",
      "None\n",
      "-------------------------------------------------------------------------------\n",
      "\n"
     ]
    }
   ],
   "source": [
    "features = (pd.DataFrame()\n",
    "            .assign(vol=bb_events.trgt)\n",
    "            .assign(ma_side=ma_side)\n",
    "            .assign(srl_corr=srl_corr)\n",
    "            .drop_duplicates()\n",
    "            .dropna())\n",
    "cprint(features)"
   ]
  },
  {
   "cell_type": "code",
   "execution_count": 50,
   "metadata": {
    "ExecuteTime": {
     "end_time": "2018-10-10T01:40:29.554655Z",
     "start_time": "2018-10-10T01:40:29.259634Z"
    }
   },
   "outputs": [
    {
     "name": "stdout",
     "output_type": "stream",
     "text": [
      "-------------------------------------------------------------------------------\n",
      "dataframe information\n",
      "-------------------------------------------------------------------------------\n",
      "                          vol  ma_side  srl_corr  bin\n",
      "2016-07-07 14:28:00  0.012624     -1.0  0.251865  0.0\n",
      "2016-07-08 09:30:57  0.011944      1.0  0.238590  0.0\n",
      "2018-02-06 10:18:08  0.013317     -1.0  0.123961  1.0\n",
      "2018-02-07 15:28:09  0.024870      1.0 -0.005597  0.0\n",
      "2018-02-13 09:30:00  0.017363     -1.0  0.198935  0.0\n",
      "--------------------------------------------------\n",
      "<class 'pandas.core.frame.DataFrame'>\n",
      "DatetimeIndex: 102 entries, 2009-10-29 13:40:22 to 2018-02-13 09:30:00\n",
      "Data columns (total 4 columns):\n",
      "vol         102 non-null float64\n",
      "ma_side     102 non-null float64\n",
      "srl_corr    102 non-null float64\n",
      "bin         102 non-null float64\n",
      "dtypes: float64(4)\n",
      "memory usage: 4.0 KB\n",
      "None\n",
      "-------------------------------------------------------------------------------\n",
      "\n"
     ]
    }
   ],
   "source": [
    "Xy = (pd.merge_asof(features, bb_bins[['bin']], \n",
    "                    left_index=True, right_index=True, \n",
    "                    direction='forward').dropna())\n",
    "cprint(Xy)"
   ]
  },
  {
   "cell_type": "code",
   "execution_count": 51,
   "metadata": {
    "ExecuteTime": {
     "end_time": "2018-10-10T01:40:29.851132Z",
     "start_time": "2018-10-10T01:40:29.556923Z"
    }
   },
   "outputs": [
    {
     "data": {
      "text/plain": [
       "0.0    60\n",
       "1.0    42\n",
       "Name: bin, dtype: int64"
      ]
     },
     "execution_count": 51,
     "metadata": {},
     "output_type": "execute_result"
    }
   ],
   "source": [
    "Xy.bin.value_counts()"
   ]
  },
  {
   "cell_type": "code",
   "execution_count": 52,
   "metadata": {
    "ExecuteTime": {
     "end_time": "2018-10-10T01:40:36.208317Z",
     "start_time": "2018-10-10T01:40:29.853585Z"
    }
   },
   "outputs": [
    {
     "name": "stdout",
     "output_type": "stream",
     "text": [
      "              precision    recall  f1-score   support\n",
      "\n",
      "    no_trade       0.47      0.73      0.58        26\n",
      "       trade       0.36      0.16      0.22        25\n",
      "\n",
      "   micro avg       0.45      0.45      0.45        51\n",
      "   macro avg       0.42      0.45      0.40        51\n",
      "weighted avg       0.42      0.45      0.40        51\n",
      "\n"
     ]
    },
    {
     "data": {
      "image/png": "[encoded data removed]",
      "text/plain": [
       "<Figure size 432x288 with 1 Axes>"
      ]
     },
     "metadata": {
      "needs_background": "light"
     },
     "output_type": "display_data"
    }
   ],
   "source": [
    "X = Xy.drop('bin',axis=1).values\n",
    "y = Xy['bin'].values\n",
    "\n",
    "X_train, X_test, y_train, y_test = train_test_split(X, y, test_size=0.5, shuffle=False)\n",
    "\n",
    "n_estimator = 10000\n",
    "rf = RandomForestClassifier(max_depth=2, n_estimators=n_estimator,\n",
    "                            criterion='entropy', random_state=RANDOM_STATE)\n",
    "rf.fit(X_train, y_train)\n",
    "\n",
    "# The random forest model by itself\n",
    "y_pred_rf = rf.predict_proba(X_test)[:, 1]\n",
    "y_pred = rf.predict(X_test)\n",
    "fpr_rf, tpr_rf, _ = roc_curve(y_test, y_pred_rf)\n",
    "print(classification_report(y_test, y_pred, target_names=['no_trade','trade']))\n",
    "\n",
    "plt.figure(1)\n",
    "plt.plot([0, 1], [0, 1], 'k--')\n",
    "plt.plot(fpr_rf, tpr_rf, label='RF')\n",
    "plt.xlabel('False positive rate')\n",
    "plt.ylabel('True positive rate')\n",
    "plt.title('ROC curve')\n",
    "plt.legend(loc='best')\n",
    "plt.show()"
   ]
  },
  {
   "cell_type": "markdown",
   "metadata": {
    "ExecuteTime": {
     "end_time": "2018-06-12T14:52:40.235268Z",
     "start_time": "2018-06-12T14:52:39.912077Z"
    }
   },
   "source": [
    "### (c) What is accuracy of predictions from primary model if the secondary model does not filter bets? What is classification report?"
   ]
  },
  {
   "cell_type": "code",
   "execution_count": 53,
   "metadata": {
    "ExecuteTime": {
     "end_time": "2018-10-10T01:40:42.962807Z",
     "start_time": "2018-10-10T01:40:36.209898Z"
    },
    "scrolled": false
   },
   "outputs": [
    {
     "name": "stderr",
     "output_type": "stream",
     "text": [
      "2018-10-09 19:40:36.767900 9.09% applyPtSlOnT1 done after 0.0 minutes. Remaining 0.03 minutes.\r",
      "2018-10-09 19:40:36.770520 18.18% applyPtSlOnT1 done after 0.0 minutes. Remaining 0.01 minutes.\r",
      "2018-10-09 19:40:36.773085 27.27% applyPtSlOnT1 done after 0.0 minutes. Remaining 0.01 minutes.\r",
      "2018-10-09 19:40:36.774769 36.36% applyPtSlOnT1 done after 0.0 minutes. Remaining 0.01 minutes.\r",
      "2018-10-09 19:40:36.776720 45.45% applyPtSlOnT1 done after 0.0 minutes. Remaining 0.0 minutes.\r",
      "2018-10-09 19:40:36.778151 54.55% applyPtSlOnT1 done after 0.0 minutes. Remaining 0.0 minutes.\r",
      "2018-10-09 19:40:36.784148 63.64% applyPtSlOnT1 done after 0.0 minutes. Remaining 0.0 minutes.\r",
      "2018-10-09 19:40:36.786092 72.73% applyPtSlOnT1 done after 0.0 minutes. Remaining 0.0 minutes.\r",
      "2018-10-09 19:40:36.787109 81.82% applyPtSlOnT1 done after 0.0 minutes. Remaining 0.0 minutes.\r",
      "2018-10-09 19:40:36.792844 90.91% applyPtSlOnT1 done after 0.0 minutes. Remaining 0.0 minutes.\r",
      "2018-10-09 19:40:36.802669 100.0% applyPtSlOnT1 done after 0.0 minutes. Remaining 0.0 minutes.\n"
     ]
    },
    {
     "name": "stdout",
     "output_type": "stream",
     "text": [
      "-------------------------------------------------------------------------------\n",
      "dataframe information\n",
      "-------------------------------------------------------------------------------\n",
      "                                     t1      trgt\n",
      "2018-02-13 13:43:37 2018-02-14 13:53:59  0.014365\n",
      "2018-02-14 10:30:48 2018-02-15 10:42:27  0.012136\n",
      "2018-02-14 13:36:02 2018-02-15 13:42:09  0.011688\n",
      "2018-02-15 09:31:56 2018-02-16 09:42:36  0.011244\n",
      "2018-02-15 14:05:41 2018-02-16 14:15:08  0.010183\n",
      "--------------------------------------------------\n",
      "<class 'pandas.core.frame.DataFrame'>\n",
      "DatetimeIndex: 929 entries, 2009-10-05 14:55:48 to 2018-02-15 14:05:41\n",
      "Data columns (total 2 columns):\n",
      "t1      929 non-null datetime64[ns]\n",
      "trgt    929 non-null float64\n",
      "dtypes: datetime64[ns](1), float64(1)\n",
      "memory usage: 21.8 KB\n",
      "None\n",
      "-------------------------------------------------------------------------------\n",
      "\n",
      "-------------------------------------------------------------------------------\n",
      "dataframe information\n",
      "-------------------------------------------------------------------------------\n",
      "                          ret  bin\n",
      "2018-02-13 13:43:37  0.010108  1.0\n",
      "2018-02-14 10:30:48  0.010876  1.0\n",
      "2018-02-14 13:36:02  0.005056  1.0\n",
      "2018-02-15 09:31:56  0.003964  1.0\n",
      "2018-02-15 14:05:41  0.004842  1.0\n",
      "--------------------------------------------------\n",
      "<class 'pandas.core.frame.DataFrame'>\n",
      "DatetimeIndex: 929 entries, 2009-10-05 14:55:48 to 2018-02-15 14:05:41\n",
      "Data columns (total 2 columns):\n",
      "ret    929 non-null float64\n",
      "bin    929 non-null float64\n",
      "dtypes: float64(2)\n",
      "memory usage: 21.8 KB\n",
      "None\n",
      "-------------------------------------------------------------------------------\n",
      "\n",
      "-------------------------------------------------------------------------------\n",
      "dataframe information\n",
      "-------------------------------------------------------------------------------\n",
      "                          vol  ma_side  srl_corr\n",
      "2016-07-07 14:28:00  0.012624     -1.0  0.251865\n",
      "2016-07-08 09:30:57  0.011944      1.0  0.238590\n",
      "2018-02-06 10:18:08  0.013317     -1.0  0.123961\n",
      "2018-02-07 15:28:09  0.024870      1.0 -0.005597\n",
      "2018-02-13 09:30:00  0.017363     -1.0  0.198935\n",
      "--------------------------------------------------\n",
      "<class 'pandas.core.frame.DataFrame'>\n",
      "DatetimeIndex: 102 entries, 2009-10-29 13:40:22 to 2018-02-13 09:30:00\n",
      "Data columns (total 3 columns):\n",
      "vol         102 non-null float64\n",
      "ma_side     102 non-null float64\n",
      "srl_corr    102 non-null float64\n",
      "dtypes: float64(3)\n",
      "memory usage: 3.2 KB\n",
      "None\n",
      "-------------------------------------------------------------------------------\n",
      "\n",
      "-------------------------------------------------------------------------------\n",
      "dataframe information\n",
      "-------------------------------------------------------------------------------\n",
      "                          vol  ma_side  srl_corr  bin\n",
      "2016-07-07 14:28:00  0.012624     -1.0  0.251865  1.0\n",
      "2016-07-08 09:30:57  0.011944      1.0  0.238590  1.0\n",
      "2018-02-06 10:18:08  0.013317     -1.0  0.123961  1.0\n",
      "2018-02-07 15:28:09  0.024870      1.0 -0.005597 -1.0\n",
      "2018-02-13 09:30:00  0.017363     -1.0  0.198935  1.0\n",
      "--------------------------------------------------\n",
      "<class 'pandas.core.frame.DataFrame'>\n",
      "DatetimeIndex: 102 entries, 2009-10-29 13:40:22 to 2018-02-13 09:30:00\n",
      "Data columns (total 4 columns):\n",
      "vol         102 non-null float64\n",
      "ma_side     102 non-null float64\n",
      "srl_corr    102 non-null float64\n",
      "bin         102 non-null float64\n",
      "dtypes: float64(4)\n",
      "memory usage: 4.0 KB\n",
      "None\n",
      "-------------------------------------------------------------------------------\n",
      "\n",
      "              precision    recall  f1-score   support\n",
      "\n",
      "        -1.0       0.39      0.43      0.41        21\n",
      "         1.0       0.57      0.53      0.55        30\n",
      "\n",
      "   micro avg       0.49      0.49      0.49        51\n",
      "   macro avg       0.48      0.48      0.48        51\n",
      "weighted avg       0.50      0.49      0.49        51\n",
      "\n"
     ]
    },
    {
     "data": {
      "image/png": "[encoded data removed]",
      "text/plain": [
       "<Figure size 432x288 with 1 Axes>"
      ]
     },
     "metadata": {
      "needs_background": "light"
     },
     "output_type": "display_data"
    }
   ],
   "source": [
    "minRet = .01 \n",
    "ptsl=[0,2]\n",
    "bb_events = getEvents(close,tEvents,ptsl,target,minRet,cpus,t1=t1)\n",
    "cprint(bb_events)\n",
    "\n",
    "bb_bins = getBins(bb_events,close).dropna()\n",
    "cprint(bb_bins)\n",
    "\n",
    "features = (pd.DataFrame()\n",
    "            .assign(vol=bb_events.trgt)\n",
    "            .assign(ma_side=ma_side)\n",
    "            .assign(srl_corr=srl_corr)\n",
    "            .drop_duplicates()\n",
    "            .dropna())\n",
    "cprint(features)\n",
    "\n",
    "Xy = (pd.merge_asof(features, bb_bins[['bin']], \n",
    "                    left_index=True, right_index=True, \n",
    "                    direction='forward').dropna())\n",
    "cprint(Xy)\n",
    "\n",
    "### run model ###\n",
    "X = Xy.drop('bin',axis=1).values\n",
    "y = Xy['bin'].values\n",
    "\n",
    "X_train, X_test, y_train, y_test = train_test_split(X, y, test_size=0.5, shuffle=False)\n",
    "\n",
    "n_estimator = 10000\n",
    "rf = RandomForestClassifier(max_depth=2, n_estimators=n_estimator,\n",
    "                            criterion='entropy', random_state=RANDOM_STATE)\n",
    "rf.fit(X_train, y_train)\n",
    "\n",
    "# The random forest model by itself\n",
    "y_pred_rf = rf.predict_proba(X_test)[:, 1]\n",
    "y_pred = rf.predict(X_test)\n",
    "fpr_rf, tpr_rf, _ = roc_curve(y_test, y_pred_rf)\n",
    "print(classification_report(y_test, y_pred))\n",
    "\n",
    "plt.figure(1)\n",
    "plt.plot([0, 1], [0, 1], 'k--')\n",
    "plt.plot(fpr_rf, tpr_rf, label='RF')\n",
    "plt.xlabel('False positive rate')\n",
    "plt.ylabel('True positive rate')\n",
    "plt.title('ROC curve')\n",
    "plt.legend(loc='best')\n",
    "plt.show()"
   ]
  },
  {
   "cell_type": "code",
   "execution_count": null,
   "metadata": {},
   "outputs": [],
   "source": []
  }
 ],
 "metadata": {
  "kernelspec": {
   "display_name": "Python 3",
   "language": "python",
   "name": "python3"
  },
  "language_info": {
   "codemirror_mode": {
    "name": "ipython",
    "version": 3
   },
   "file_extension": ".py",
   "mimetype": "text/x-python",
   "name": "python",
   "nbconvert_exporter": "python",
   "pygments_lexer": "ipython3",
   "version": "3.6.6"
  },
  "toc": {
   "base_numbering": 1,
   "nav_menu": {
    "height": "490px",
    "width": "355px"
   },
   "number_sections": true,
   "sideBar": true,
   "skip_h1_title": false,
   "title_cell": "Table of Contents",
   "title_sidebar": "Contents",
   "toc_cell": true,
   "toc_position": {
    "height": "calc(100% - 180px)",
    "left": "10px",
    "top": "150px",
    "width": "346px"
   },
   "toc_section_display": true,
   "toc_window_display": true
  },
  "varInspector": {
   "cols": {
    "lenName": 16,
    "lenType": 16,
    "lenVar": 40
   },
   "kernels_config": {
    "python": {
     "delete_cmd_postfix": "",
     "delete_cmd_prefix": "del ",
     "library": "var_list.py",
     "varRefreshCmd": "print(var_dic_list())"
    },
    "r": {
     "delete_cmd_postfix": ") ",
     "delete_cmd_prefix": "rm(",
     "library": "var_list.r",
     "varRefreshCmd": "cat(var_dic_list()) "
    }
   },
   "types_to_exclude": [
    "module",
    "function",
    "builtin_function_or_method",
    "instance",
    "_Feature"
   ],
   "window_display": false
  }
 },
 "nbformat": 4,
 "nbformat_minor": 2
}
