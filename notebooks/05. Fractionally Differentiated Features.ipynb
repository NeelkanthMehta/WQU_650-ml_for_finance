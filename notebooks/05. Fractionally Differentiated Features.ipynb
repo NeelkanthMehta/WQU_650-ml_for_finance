{
 "cells": [
  {
   "cell_type": "markdown",
   "metadata": {
    "toc": true
   },
   "source": [
    "<h1>Table of Contents<span class=\"tocSkip\"></span></h1>\n",
    "<div class=\"toc\"><ul class=\"toc-item\"><li><span><a href=\"#[5.1]-Generate-a-time-series-from-an-IID-Gaussian-random-process.-This-is-a-memory-less,-stationary-series:\" data-toc-modified-id=\"[5.1]-Generate-a-time-series-from-an-IID-Gaussian-random-process.-This-is-a-memory-less,-stationary-series:-1\"><span class=\"toc-item-num\">1&nbsp;&nbsp;</span>[5.1] Generate a time series from an IID Gaussian random process. This is a memory-less, stationary series:</a></span><ul class=\"toc-item\"><li><span><a href=\"#(a)-Compute-the-ADF-statistic-on-this-series.-What-is-the-p-value?\" data-toc-modified-id=\"(a)-Compute-the-ADF-statistic-on-this-series.-What-is-the-p-value?-1.1\"><span class=\"toc-item-num\">1.1&nbsp;&nbsp;</span>(a) Compute the ADF statistic on this series. What is the p-value?</a></span></li><li><span><a href=\"#(b)-Compute-the-cumulative-sum-of-the-observations.-This-is-a-non-stationary-series-w/o-memory.\" data-toc-modified-id=\"(b)-Compute-the-cumulative-sum-of-the-observations.-This-is-a-non-stationary-series-w/o-memory.-1.2\"><span class=\"toc-item-num\">1.2&nbsp;&nbsp;</span>(b) Compute the cumulative sum of the observations. This is a non-stationary series w/o memory.</a></span><ul class=\"toc-item\"><li><span><a href=\"#(i)-What-is-the-order-of-integration-of-this-cumulative-series?\" data-toc-modified-id=\"(i)-What-is-the-order-of-integration-of-this-cumulative-series?-1.2.1\"><span class=\"toc-item-num\">1.2.1&nbsp;&nbsp;</span>(i) What is the order of integration of this cumulative series?</a></span></li><li><span><a href=\"#(ii)-Compute-the-ADF-statistic-on-this-series.-What-is-the-p-value?\" data-toc-modified-id=\"(ii)-Compute-the-ADF-statistic-on-this-series.-What-is-the-p-value?-1.2.2\"><span class=\"toc-item-num\">1.2.2&nbsp;&nbsp;</span>(ii) Compute the ADF statistic on this series. What is the p-value?</a></span></li></ul></li><li><span><a href=\"#(c)-Differentiate-the-series-twice.-What-is-the-p-value-of-this-over-differentiated-series?\" data-toc-modified-id=\"(c)-Differentiate-the-series-twice.-What-is-the-p-value-of-this-over-differentiated-series?-1.3\"><span class=\"toc-item-num\">1.3&nbsp;&nbsp;</span>(c) Differentiate the series twice. What is the p-value of this over-differentiated series?</a></span></li></ul></li><li><span><a href=\"#[5.2]-Generate-a-time-series-that-follows-a-sinusoidal-function.-This-is-a-stationary-series-with-memory.\" data-toc-modified-id=\"[5.2]-Generate-a-time-series-that-follows-a-sinusoidal-function.-This-is-a-stationary-series-with-memory.-2\"><span class=\"toc-item-num\">2&nbsp;&nbsp;</span>[5.2] Generate a time series that follows a sinusoidal function. This is a stationary series with memory.</a></span><ul class=\"toc-item\"><li><span><a href=\"#(a)-Compute-the-ADF-statistic-on-this-series.-What-is-the-p-value?\" data-toc-modified-id=\"(a)-Compute-the-ADF-statistic-on-this-series.-What-is-the-p-value?-2.1\"><span class=\"toc-item-num\">2.1&nbsp;&nbsp;</span>(a) Compute the ADF statistic on this series. What is the p-value?</a></span></li><li><span><a href=\"#(b)-Shift-every-observation-by-the-same-positive-value.-Compute-the-cumulative-sum-of-the-observations.-This-is-a-non-stationary-series-with-memory.\" data-toc-modified-id=\"(b)-Shift-every-observation-by-the-same-positive-value.-Compute-the-cumulative-sum-of-the-observations.-This-is-a-non-stationary-series-with-memory.-2.2\"><span class=\"toc-item-num\">2.2&nbsp;&nbsp;</span>(b) Shift every observation by the same positive value. Compute the cumulative sum of the observations. This is a non-stationary series with memory.</a></span><ul class=\"toc-item\"><li><span><a href=\"#(i)-Compute-the-ADF-statistic-on-this-series.-What-is-the-p-value?\" data-toc-modified-id=\"(i)-Compute-the-ADF-statistic-on-this-series.-What-is-the-p-value?-2.2.1\"><span class=\"toc-item-num\">2.2.1&nbsp;&nbsp;</span>(i) Compute the ADF statistic on this series. What is the p-value?</a></span></li><li><span><a href=\"#(ii)-Apply-an-expanding-window-fracdiff,-with-$\\tau-=-1E-2$.-For-what-minimum-$d$-value-do-you-get-a-p-value-below-$5\\%$?\" data-toc-modified-id=\"(ii)-Apply-an-expanding-window-fracdiff,-with-$\\tau-=-1E-2$.-For-what-minimum-$d$-value-do-you-get-a-p-value-below-$5\\%$?-2.2.2\"><span class=\"toc-item-num\">2.2.2&nbsp;&nbsp;</span>(ii) Apply an expanding window fracdiff, with $\\tau = 1E-2$. For what minimum $d$ value do you get a p-value below $5\\%$?</a></span></li><li><span><a href=\"#(iii)-Apply-FFD-with-$\\tau-=-1E-5$.-For-what-minimum-$d$-value-do-you-get-a-p-value-below-$5\\%$\" data-toc-modified-id=\"(iii)-Apply-FFD-with-$\\tau-=-1E-5$.-For-what-minimum-$d$-value-do-you-get-a-p-value-below-$5\\%$-2.2.3\"><span class=\"toc-item-num\">2.2.3&nbsp;&nbsp;</span>(iii) Apply FFD with $\\tau = 1E-5$. For what minimum $d$ value do you get a p-value below $5\\%$</a></span></li></ul></li></ul></li><li><span><a href=\"#[5.3]-Take-the-series-from-exercise-2.b:\" data-toc-modified-id=\"[5.3]-Take-the-series-from-exercise-2.b:-3\"><span class=\"toc-item-num\">3&nbsp;&nbsp;</span>[5.3] Take the series from exercise 2.b:</a></span><ul class=\"toc-item\"><li><span><a href=\"#(a)-Fit-the-series-to-a-sine-function.-What-is-the-R-squared?\" data-toc-modified-id=\"(a)-Fit-the-series-to-a-sine-function.-What-is-the-R-squared?-3.1\"><span class=\"toc-item-num\">3.1&nbsp;&nbsp;</span>(a) Fit the series to a sine function. What is the R-squared?</a></span></li><li><span><a href=\"#(b)-Apply-FFD$(d=1)$.-Fit-the-series-to-a-sine-function.-What-is-the-R-squared?\" data-toc-modified-id=\"(b)-Apply-FFD$(d=1)$.-Fit-the-series-to-a-sine-function.-What-is-the-R-squared?-3.2\"><span class=\"toc-item-num\">3.2&nbsp;&nbsp;</span>(b) Apply FFD$(d=1)$. Fit the series to a sine function. What is the R-squared?</a></span></li><li><span><a href=\"#(c)-What-value-of-d-maximizes-the-R-squared-of-a-sinusoidal-fit-on-FFD$(d)$?-Why?\" data-toc-modified-id=\"(c)-What-value-of-d-maximizes-the-R-squared-of-a-sinusoidal-fit-on-FFD$(d)$?-Why?-3.3\"><span class=\"toc-item-num\">3.3&nbsp;&nbsp;</span>(c) What value of d maximizes the R-squared of a sinusoidal fit on FFD$(d)$? Why?</a></span></li></ul></li><li><span><a href=\"#5.4\" data-toc-modified-id=\"5.4-4\"><span class=\"toc-item-num\">4&nbsp;&nbsp;</span>5.4</a></span></li><li><span><a href=\"#5.5\" data-toc-modified-id=\"5.5-5\"><span class=\"toc-item-num\">5&nbsp;&nbsp;</span>5.5</a></span><ul class=\"toc-item\"><li><span><a href=\"#(a)-Form-a-new-series-as-a-cumulative-sum-of-log-prices\" data-toc-modified-id=\"(a)-Form-a-new-series-as-a-cumulative-sum-of-log-prices-5.1\"><span class=\"toc-item-num\">5.1&nbsp;&nbsp;</span>(a) Form a new series as a cumulative sum of log-prices</a></span></li><li><span><a href=\"#(b)-Apply-FFD,-with-$\\tau-=-1E-5$.-Determine-for-what-minimum-$d-\\in-[0,2]$-the-new-series-is-stationary\" data-toc-modified-id=\"(b)-Apply-FFD,-with-$\\tau-=-1E-5$.-Determine-for-what-minimum-$d-\\in-[0,2]$-the-new-series-is-stationary-5.2\"><span class=\"toc-item-num\">5.2&nbsp;&nbsp;</span>(b) Apply FFD, with $\\tau = 1E-5$. Determine for what minimum $d \\in [0,2]$ the new series is stationary</a></span></li><li><span><a href=\"#(c)-Compute-the-correlation-of-the-fracdiff-series-to-the-original-(untransformed)-series\" data-toc-modified-id=\"(c)-Compute-the-correlation-of-the-fracdiff-series-to-the-original-(untransformed)-series-5.3\"><span class=\"toc-item-num\">5.3&nbsp;&nbsp;</span>(c) Compute the correlation of the fracdiff series to the original (untransformed) series</a></span></li><li><span><a href=\"#(d)-Apply-Engel-Granger-cointegration-test-on-the-original-and-fracdiff-series.-Are-they-cointegrated?-Why?\" data-toc-modified-id=\"(d)-Apply-Engel-Granger-cointegration-test-on-the-original-and-fracdiff-series.-Are-they-cointegrated?-Why?-5.4\"><span class=\"toc-item-num\">5.4&nbsp;&nbsp;</span>(d) Apply Engel-Granger cointegration test on the original and fracdiff series. Are they cointegrated? Why?</a></span></li><li><span><a href=\"#(e)-Apply-a-Jarque-Bera-normality-test-on-the-fracdiff-series.\" data-toc-modified-id=\"(e)-Apply-a-Jarque-Bera-normality-test-on-the-fracdiff-series.-5.5\"><span class=\"toc-item-num\">5.5&nbsp;&nbsp;</span>(e) Apply a Jarque-Bera normality test on the fracdiff series.</a></span></li></ul></li><li><span><a href=\"#5.6-Take-the-fracdiff-series-from-exercise-5\" data-toc-modified-id=\"5.6-Take-the-fracdiff-series-from-exercise-5-6\"><span class=\"toc-item-num\">6&nbsp;&nbsp;</span>5.6 Take the fracdiff series from exercise 5</a></span><ul class=\"toc-item\"><li><span><a href=\"#(a)-Apply-a-CUSUM-filter-(Chapter-2),-where-h-is-twice-the-standard-deviation-of-the-series.\" data-toc-modified-id=\"(a)-Apply-a-CUSUM-filter-(Chapter-2),-where-h-is-twice-the-standard-deviation-of-the-series.-6.1\"><span class=\"toc-item-num\">6.1&nbsp;&nbsp;</span>(a) Apply a CUSUM filter (Chapter 2), where h is twice the standard deviation of the series.</a></span></li><li><span><a href=\"#(b)-Use-the-filtered-timestamps-to-sample-a-features'-matrix.-Use-as-one-of-the-features-the-fracDiff-value.\" data-toc-modified-id=\"(b)-Use-the-filtered-timestamps-to-sample-a-features'-matrix.-Use-as-one-of-the-features-the-fracDiff-value.-6.2\"><span class=\"toc-item-num\">6.2&nbsp;&nbsp;</span>(b) Use the filtered timestamps to sample a features' matrix. Use as one of the features the fracDiff value.</a></span></li><li><span><a href=\"#(c)-Form-labels-using-the-triple-barrier-method,-with-symmetric-horizontal-barriers-of-twice-the-daily-standard-deviation,-and-a-vertical-barrier-of-5-days\" data-toc-modified-id=\"(c)-Form-labels-using-the-triple-barrier-method,-with-symmetric-horizontal-barriers-of-twice-the-daily-standard-deviation,-and-a-vertical-barrier-of-5-days-6.3\"><span class=\"toc-item-num\">6.3&nbsp;&nbsp;</span>(c) Form labels using the triple-barrier method, with symmetric horizontal barriers of <code>twice</code> the daily standard deviation, and a vertical barrier of <code>5</code> days</a></span></li><li><span><a href=\"#(d)-Fit-a-bagging-classifier-of-decision-trees-where:\" data-toc-modified-id=\"(d)-Fit-a-bagging-classifier-of-decision-trees-where:-6.4\"><span class=\"toc-item-num\">6.4&nbsp;&nbsp;</span>(d) Fit a bagging classifier of decision trees where:</a></span><ul class=\"toc-item\"><li><span><a href=\"#(i)-The-observed-features-are-bootstrapped-using-the-sequential-method-from-chapter-4.\" data-toc-modified-id=\"(i)-The-observed-features-are-bootstrapped-using-the-sequential-method-from-chapter-4.-6.4.1\"><span class=\"toc-item-num\">6.4.1&nbsp;&nbsp;</span>(i) The observed features are bootstrapped using the sequential method from chapter 4.</a></span></li><li><span><a href=\"#(ii)-On-each-bootstrapped-sample,-sample-weights-are-determined-using-the-techniques-from-Chapter-4\" data-toc-modified-id=\"(ii)-On-each-bootstrapped-sample,-sample-weights-are-determined-using-the-techniques-from-Chapter-4-6.4.2\"><span class=\"toc-item-num\">6.4.2&nbsp;&nbsp;</span>(ii) On each bootstrapped sample, sample weights are determined using the techniques from Chapter 4</a></span></li></ul></li></ul></li></ul></div>"
   ]
  },
  {
   "cell_type": "code",
   "execution_count": 1,
   "metadata": {
    "ExecuteTime": {
     "end_time": "2018-10-18T22:56:08.273570Z",
     "start_time": "2018-10-18T22:55:10.558614Z"
    }
   },
   "outputs": [
    {
     "name": "stdout",
     "output_type": "stream",
     "text": [
      "2018-10-18T16:55:10-06:00\n",
      "\n",
      "CPython 3.6.6\n",
      "IPython 6.5.0\n",
      "\n",
      "compiler   : GCC 7.2.0\n",
      "system     : Linux\n",
      "release    : 4.15.0-36-generic\n",
      "machine    : x86_64\n",
      "processor  : x86_64\n",
      "CPU cores  : 12\n",
      "interpreter: 64bit\n",
      "\n",
      "pandas 0.23.4\n",
      "numpy 1.14.6\n",
      "numba 0.41.0dev0+75.gdb0256a70\n",
      "pymc3 3.5\n",
      "sklearn 0.20.0\n",
      "statsmodels 0.9.0\n",
      "scipy 1.1.0\n",
      "matplotlib 3.0.0\n",
      "seaborn 0.9.0\n"
     ]
    }
   ],
   "source": [
    "%load_ext watermark\n",
    "%watermark\n",
    "\n",
    "%load_ext autoreload\n",
    "%autoreload 2\n",
    "# import standard libs\n",
    "import warnings\n",
    "warnings.filterwarnings(\"ignore\")\n",
    "from IPython.display import display\n",
    "from IPython.core.debugger import set_trace as bp\n",
    "from pathlib import PurePath, Path\n",
    "import sys\n",
    "import time\n",
    "from collections import OrderedDict as od\n",
    "import re\n",
    "import os\n",
    "import json\n",
    "os.environ['THEANO_FLAGS'] = 'device=cpu,floatX=float32'\n",
    "\n",
    "# import python scientific stack\n",
    "import pandas as pd\n",
    "pd.set_option('display.max_rows', 100)\n",
    "from dask import dataframe as dd\n",
    "from dask.diagnostics import ProgressBar\n",
    "pbar = ProgressBar()\n",
    "pbar.register()\n",
    "import multiprocessing as mp\n",
    "from multiprocessing import cpu_count \n",
    "import numpy as np\n",
    "import scipy.stats as stats\n",
    "import statsmodels.api as sm\n",
    "import numba as nb\n",
    "import math\n",
    "import pymc3 as pm\n",
    "from theano import shared, theano as tt\n",
    "\n",
    "# import visual tools\n",
    "import matplotlib as mpl\n",
    "import matplotlib.pyplot as plt\n",
    "import matplotlib.gridspec as gridspec\n",
    "%matplotlib inline\n",
    "import seaborn as sns\n",
    "import plotnine as pn\n",
    "\n",
    "plt.style.use('seaborn-talk')\n",
    "plt.style.use('bmh')\n",
    "#plt.rcParams['font.family'] = 'DejaVu Sans Mono'\n",
    "plt.rcParams['font.size'] = 9.5\n",
    "plt.rcParams['font.weight'] = 'medium'\n",
    "plt.rcParams['figure.figsize'] = 10,7\n",
    "blue, green, red, purple, gold, teal = sns.color_palette('colorblind', 6)\n",
    "\n",
    "# import util libs\n",
    "import pyarrow as pa\n",
    "import pyarrow.parquet as pq\n",
    "from tqdm import tqdm, tqdm_notebook\n",
    "import missingno as msno\n",
    "\n",
    "from src.utils.utils import *\n",
    "import src.features.bars as brs\n",
    "import src.features.snippets as snp\n",
    "\n",
    "import copyreg, types\n",
    "copyreg.pickle(types.MethodType,snp._pickle_method,snp._unpickle_method)\n",
    "RANDOM_STATE = 777\n",
    "\n",
    "pdir = get_relative_project_dir('Adv_Fin_ML_Exercises')\n",
    "data_dir = pdir/'data'/'processed'\n",
    "\n",
    "print()\n",
    "%watermark -p pandas,numpy,numba,pymc3,sklearn,statsmodels,scipy,matplotlib,seaborn"
   ]
  },
  {
   "cell_type": "markdown",
   "metadata": {},
   "source": [
    "# Chapter 5"
   ]
  },
  {
   "cell_type": "markdown",
   "metadata": {},
   "source": [
    "## [5.1] Generate a time series from an IID Gaussian random process. This is a memory-less, stationary series:"
   ]
  },
  {
   "cell_type": "code",
   "execution_count": 2,
   "metadata": {
    "ExecuteTime": {
     "end_time": "2018-10-18T22:56:08.794340Z",
     "start_time": "2018-10-18T22:56:08.275394Z"
    }
   },
   "outputs": [
    {
     "data": {
      "text/plain": [
       "<matplotlib.axes._subplots.AxesSubplot at 0x7f4588a3cf28>"
      ]
     },
     "execution_count": 2,
     "metadata": {},
     "output_type": "execute_result"
    },
    {
     "data": {
      "image/png": "[encoded data removed]",
      "text/plain": [
       "<Figure size 432x288 with 1 Axes>"
      ]
     },
     "metadata": {
      "needs_background": "light"
     },
     "output_type": "display_data"
    }
   ],
   "source": [
    "np.random.seed(0)\n",
    "\n",
    "N = 252*10\n",
    "s = pd.Series(np.random.randn(N))\n",
    "s.plot()"
   ]
  },
  {
   "cell_type": "markdown",
   "metadata": {},
   "source": [
    "### (a) Compute the ADF statistic on this series. What is the p-value?"
   ]
  },
  {
   "cell_type": "code",
   "execution_count": 3,
   "metadata": {
    "ExecuteTime": {
     "end_time": "2018-10-18T22:56:09.178696Z",
     "start_time": "2018-10-18T22:56:08.795894Z"
    }
   },
   "outputs": [
    {
     "data": {
      "text/plain": [
       "((-50.80332180276013,\n",
       "  0.0,\n",
       "  0,\n",
       "  2519,\n",
       "  {'1%': -3.4329486408391174,\n",
       "   '5%': -2.8626880695259413,\n",
       "   '10%': -2.567381161224712},\n",
       "  6950.968131407137),\n",
       " 0.0)"
      ]
     },
     "execution_count": 3,
     "metadata": {},
     "output_type": "execute_result"
    }
   ],
   "source": [
    "adf = lambda s: sm.tsa.stattools.adfuller(s)\n",
    "p_val = lambda s: sm.tsa.stattools.adfuller(s)[1]\n",
    "res = adf(s); p = res[1]\n",
    "res, p"
   ]
  },
  {
   "cell_type": "markdown",
   "metadata": {},
   "source": [
    "### (b) Compute the cumulative sum of the observations. This is a non-stationary series w/o memory."
   ]
  },
  {
   "cell_type": "code",
   "execution_count": 4,
   "metadata": {
    "ExecuteTime": {
     "end_time": "2018-10-18T22:56:09.584266Z",
     "start_time": "2018-10-18T22:56:09.181234Z"
    }
   },
   "outputs": [
    {
     "data": {
      "text/plain": [
       "<matplotlib.axes._subplots.AxesSubplot at 0x7f4531e30f60>"
      ]
     },
     "execution_count": 4,
     "metadata": {},
     "output_type": "execute_result"
    },
    {
     "data": {
      "image/png": "[encoded data removed]",
      "text/plain": [
       "<Figure size 432x288 with 1 Axes>"
      ]
     },
     "metadata": {
      "needs_background": "light"
     },
     "output_type": "display_data"
    }
   ],
   "source": [
    "cmsm = pd.Series(s).cumsum()\n",
    "cmsm.plot()"
   ]
  },
  {
   "cell_type": "markdown",
   "metadata": {},
   "source": [
    "#### (i) What is the order of integration of this cumulative series?"
   ]
  },
  {
   "cell_type": "code",
   "execution_count": 5,
   "metadata": {
    "ExecuteTime": {
     "end_time": "2018-10-18T22:56:10.349924Z",
     "start_time": "2018-10-18T22:56:09.586285Z"
    }
   },
   "outputs": [
    {
     "name": "stdout",
     "output_type": "stream",
     "text": [
      "===========================\n",
      "order: 0, pVal: 0.5704444806659968\n",
      "===========================\n",
      "order: 1, pVal: 0.0\n",
      "===========================\n",
      "order: 2, pVal: 7.347529850653773e-30\n",
      "===========================\n",
      "order: 3, pVal: 0.0\n",
      "===========================\n",
      "order: 4, pVal: 0.0\n"
     ]
    }
   ],
   "source": [
    "orders = [0, 1, 2, 3, 4]\n",
    "for o in orders:\n",
    "    diff_ = np.diff(cmsm,o)\n",
    "    print('='*27)\n",
    "    print(f'order: {o}, pVal: {p_val(diff_)}')"
   ]
  },
  {
   "cell_type": "markdown",
   "metadata": {},
   "source": [
    "#### (ii) Compute the ADF statistic on this series. What is the p-value?"
   ]
  },
  {
   "cell_type": "code",
   "execution_count": 6,
   "metadata": {
    "ExecuteTime": {
     "end_time": "2018-10-18T22:56:10.689528Z",
     "start_time": "2018-10-18T22:56:10.351699Z"
    }
   },
   "outputs": [
    {
     "data": {
      "text/plain": [
       "0.5704444806659968"
      ]
     },
     "execution_count": 6,
     "metadata": {},
     "output_type": "execute_result"
    }
   ],
   "source": [
    "p_val(cmsm)"
   ]
  },
  {
   "cell_type": "markdown",
   "metadata": {},
   "source": [
    "### (c) Differentiate the series twice. What is the p-value of this over-differentiated series?"
   ]
  },
  {
   "cell_type": "code",
   "execution_count": 7,
   "metadata": {
    "ExecuteTime": {
     "end_time": "2018-10-18T22:56:11.023984Z",
     "start_time": "2018-10-18T22:56:10.692924Z"
    }
   },
   "outputs": [
    {
     "data": {
      "text/plain": [
       "7.347529850653773e-30"
      ]
     },
     "execution_count": 7,
     "metadata": {},
     "output_type": "execute_result"
    }
   ],
   "source": [
    "diff_ = np.diff(cmsm,2)\n",
    "p_val(diff_)"
   ]
  },
  {
   "cell_type": "markdown",
   "metadata": {},
   "source": [
    "## [5.2] Generate a time series that follows a sinusoidal function. This is a stationary series with memory."
   ]
  },
  {
   "cell_type": "code",
   "execution_count": 8,
   "metadata": {
    "ExecuteTime": {
     "end_time": "2018-10-18T22:56:11.423558Z",
     "start_time": "2018-10-18T22:56:11.025593Z"
    }
   },
   "outputs": [
    {
     "data": {
      "text/plain": [
       "<matplotlib.axes._subplots.AxesSubplot at 0x7f4531db3be0>"
      ]
     },
     "execution_count": 8,
     "metadata": {},
     "output_type": "execute_result"
    },
    {
     "data": {
      "image/png": "[encoded data removed]",
      "text/plain": [
       "<Figure size 432x288 with 1 Axes>"
      ]
     },
     "metadata": {
      "needs_background": "light"
     },
     "output_type": "display_data"
    }
   ],
   "source": [
    "np.random.seed(0)\n",
    "\n",
    "rand = np.random.random(N)\n",
    "\n",
    "idx = np.linspace(0,10, N)\n",
    "s = pd.Series(1*np.sin(2.*idx + .5))\n",
    "s.plot()"
   ]
  },
  {
   "cell_type": "markdown",
   "metadata": {},
   "source": [
    "### (a) Compute the ADF statistic on this series. What is the p-value?"
   ]
  },
  {
   "cell_type": "code",
   "execution_count": 9,
   "metadata": {
    "ExecuteTime": {
     "end_time": "2018-10-18T22:56:11.755694Z",
     "start_time": "2018-10-18T22:56:11.424853Z"
    }
   },
   "outputs": [
    {
     "data": {
      "text/plain": [
       "0.0"
      ]
     },
     "execution_count": 9,
     "metadata": {},
     "output_type": "execute_result"
    }
   ],
   "source": [
    "p_val(s)"
   ]
  },
  {
   "cell_type": "markdown",
   "metadata": {},
   "source": [
    "### (b) Shift every observation by the same positive value. Compute the cumulative sum of the observations. This is a non-stationary series with memory."
   ]
  },
  {
   "cell_type": "code",
   "execution_count": 10,
   "metadata": {
    "ExecuteTime": {
     "end_time": "2018-10-18T22:56:12.162158Z",
     "start_time": "2018-10-18T22:56:11.757275Z"
    }
   },
   "outputs": [
    {
     "data": {
      "text/plain": [
       "<matplotlib.axes._subplots.AxesSubplot at 0x7f4532cf7fd0>"
      ]
     },
     "execution_count": 10,
     "metadata": {},
     "output_type": "execute_result"
    },
    {
     "data": {
      "image/png": "[encoded data removed]",
      "text/plain": [
       "<Figure size 432x288 with 1 Axes>"
      ]
     },
     "metadata": {
      "needs_background": "light"
     },
     "output_type": "display_data"
    }
   ],
   "source": [
    "s_ = (s + 1).cumsum().rename('fake_close').to_frame()\n",
    "s_.plot()"
   ]
  },
  {
   "cell_type": "markdown",
   "metadata": {},
   "source": [
    "#### (i) Compute the ADF statistic on this series. What is the p-value?"
   ]
  },
  {
   "cell_type": "code",
   "execution_count": 11,
   "metadata": {
    "ExecuteTime": {
     "end_time": "2018-10-18T22:56:12.584403Z",
     "start_time": "2018-10-18T22:56:12.164287Z"
    }
   },
   "outputs": [
    {
     "data": {
      "text/plain": [
       "((-0.19138785660460378,\n",
       "  0.9395404066056363,\n",
       "  27,\n",
       "  2492,\n",
       "  {'1%': -3.432976825339513,\n",
       "   '5%': -2.862700515844509,\n",
       "   '10%': -2.5673877878037974},\n",
       "  -142670.50155880928),\n",
       " 0.9395404066056363)"
      ]
     },
     "execution_count": 11,
     "metadata": {},
     "output_type": "execute_result"
    }
   ],
   "source": [
    "adf(s_['fake_close'].dropna()), p_val(s_['fake_close'])"
   ]
  },
  {
   "cell_type": "markdown",
   "metadata": {},
   "source": [
    "#### (ii) Apply an expanding window fracdiff, with $\\tau = 1E-2$. For what minimum $d$ value do you get a p-value below $5\\%$?"
   ]
  },
  {
   "cell_type": "code",
   "execution_count": 12,
   "metadata": {
    "ExecuteTime": {
     "end_time": "2018-10-18T22:56:12.856971Z",
     "start_time": "2018-10-18T22:56:12.586191Z"
    }
   },
   "outputs": [],
   "source": [
    "def getWeights(d,size):\n",
    "    # thres>0 drops insignificant weights\n",
    "    w=[1.]\n",
    "    for k in range(1,size):\n",
    "        w_ = -w[-1]/k*(d-k+1)\n",
    "        w.append(w_)\n",
    "    w=np.array(w[::-1]).reshape(-1,1)\n",
    "    return w \n",
    "\n",
    "#getWeights(0.1, s_.shape[0])"
   ]
  },
  {
   "cell_type": "code",
   "execution_count": 13,
   "metadata": {
    "ExecuteTime": {
     "end_time": "2018-10-18T22:56:13.129362Z",
     "start_time": "2018-10-18T22:56:12.858255Z"
    }
   },
   "outputs": [],
   "source": [
    "def fracDiff(series, d, thres=0.01):\n",
    "    '''\n",
    "    Increasing width window, with treatment of NaNs\n",
    "    Note 1: For thres=1, nothing is skipped\n",
    "    Note 2: d can be any positive fractional, not necessarily\n",
    "        bounded between [0,1]\n",
    "    '''\n",
    "    #1) Compute weights for the longest series\n",
    "    w=getWeights(d, series.shape[0])\n",
    "    #bp()\n",
    "    #2) Determine initial calcs to be skipped based on weight-loss threshold\n",
    "    w_=np.cumsum(abs(w))\n",
    "    w_ /= w_[-1]\n",
    "    skip = w_[w_>thres].shape[0]\n",
    "    #3) Apply weights to values\n",
    "    df={}\n",
    "    for name in series.columns:\n",
    "        seriesF, df_=series[[name]].fillna(method='ffill').dropna(), pd.Series()\n",
    "        for iloc in range(skip, seriesF.shape[0]):\n",
    "            loc=seriesF.index[iloc]\n",
    "            test_val = series.loc[loc,name] # must resample if duplicate index\n",
    "            if isinstance(test_val, (pd.Series, pd.DataFrame)):\n",
    "                test_val = test_val.resample('1m').mean()\n",
    "            if not np.isfinite(test_val).any(): continue # exclude NAs\n",
    "            try:\n",
    "                df_.loc[loc]=np.dot(w[-(iloc+1):,:].T, seriesF.loc[:loc])[0,0]\n",
    "            except:\n",
    "                continue\n",
    "        df[name]=df_.copy(deep=True)\n",
    "    df=pd.concat(df,axis=1)\n",
    "    return df"
   ]
  },
  {
   "cell_type": "code",
   "execution_count": 14,
   "metadata": {
    "ExecuteTime": {
     "end_time": "2018-10-18T22:56:34.705612Z",
     "start_time": "2018-10-18T22:56:13.130944Z"
    }
   },
   "outputs": [
    {
     "data": {
      "text/html": [
       "<div>\n",
       "<style scoped>\n",
       "    .dataframe tbody tr th:only-of-type {\n",
       "        vertical-align: middle;\n",
       "    }\n",
       "\n",
       "    .dataframe tbody tr th {\n",
       "        vertical-align: top;\n",
       "    }\n",
       "\n",
       "    .dataframe thead th {\n",
       "        text-align: right;\n",
       "    }\n",
       "</style>\n",
       "<table border=\"1\" class=\"dataframe\">\n",
       "  <thead>\n",
       "    <tr style=\"text-align: right;\">\n",
       "      <th></th>\n",
       "      <th>adfStat</th>\n",
       "      <th>pVal</th>\n",
       "      <th>lags</th>\n",
       "      <th>nObs</th>\n",
       "      <th>95% conf</th>\n",
       "    </tr>\n",
       "  </thead>\n",
       "  <tbody>\n",
       "    <tr>\n",
       "      <th>0.0</th>\n",
       "      <td>2.833609e+00</td>\n",
       "      <td>1.000000e+00</td>\n",
       "      <td>1.0</td>\n",
       "      <td>2517.0</td>\n",
       "      <td>-2.862689</td>\n",
       "    </tr>\n",
       "    <tr>\n",
       "      <th>0.1</th>\n",
       "      <td>8.870880e+00</td>\n",
       "      <td>1.000000e+00</td>\n",
       "      <td>1.0</td>\n",
       "      <td>761.0</td>\n",
       "      <td>-2.865345</td>\n",
       "    </tr>\n",
       "    <tr>\n",
       "      <th>0.2</th>\n",
       "      <td>-7.366367e+00</td>\n",
       "      <td>9.213847e-11</td>\n",
       "      <td>1.0</td>\n",
       "      <td>963.0</td>\n",
       "      <td>-2.864546</td>\n",
       "    </tr>\n",
       "    <tr>\n",
       "      <th>0.3</th>\n",
       "      <td>-2.267608e+01</td>\n",
       "      <td>0.000000e+00</td>\n",
       "      <td>1.0</td>\n",
       "      <td>1357.0</td>\n",
       "      <td>-2.863672</td>\n",
       "    </tr>\n",
       "    <tr>\n",
       "      <th>0.4</th>\n",
       "      <td>-2.259792e+01</td>\n",
       "      <td>0.000000e+00</td>\n",
       "      <td>1.0</td>\n",
       "      <td>1821.0</td>\n",
       "      <td>-2.863128</td>\n",
       "    </tr>\n",
       "    <tr>\n",
       "      <th>0.5</th>\n",
       "      <td>-3.781556e+01</td>\n",
       "      <td>0.000000e+00</td>\n",
       "      <td>1.0</td>\n",
       "      <td>2188.0</td>\n",
       "      <td>-2.862862</td>\n",
       "    </tr>\n",
       "    <tr>\n",
       "      <th>0.6</th>\n",
       "      <td>-4.388734e+01</td>\n",
       "      <td>0.000000e+00</td>\n",
       "      <td>1.0</td>\n",
       "      <td>2385.0</td>\n",
       "      <td>-2.862753</td>\n",
       "    </tr>\n",
       "    <tr>\n",
       "      <th>0.7</th>\n",
       "      <td>-6.322546e+01</td>\n",
       "      <td>0.000000e+00</td>\n",
       "      <td>1.0</td>\n",
       "      <td>2466.0</td>\n",
       "      <td>-2.862713</td>\n",
       "    </tr>\n",
       "    <tr>\n",
       "      <th>0.8</th>\n",
       "      <td>-7.371512e+01</td>\n",
       "      <td>0.000000e+00</td>\n",
       "      <td>1.0</td>\n",
       "      <td>2497.0</td>\n",
       "      <td>-2.862698</td>\n",
       "    </tr>\n",
       "    <tr>\n",
       "      <th>0.9</th>\n",
       "      <td>-4.877829e+01</td>\n",
       "      <td>0.000000e+00</td>\n",
       "      <td>1.0</td>\n",
       "      <td>2510.0</td>\n",
       "      <td>-2.862692</td>\n",
       "    </tr>\n",
       "    <tr>\n",
       "      <th>1.0</th>\n",
       "      <td>-1.135810e+10</td>\n",
       "      <td>0.000000e+00</td>\n",
       "      <td>1.0</td>\n",
       "      <td>2516.0</td>\n",
       "      <td>-2.862689</td>\n",
       "    </tr>\n",
       "  </tbody>\n",
       "</table>\n",
       "</div>"
      ],
      "text/plain": [
       "          adfStat          pVal  lags    nObs  95% conf\n",
       "0.0  2.833609e+00  1.000000e+00   1.0  2517.0 -2.862689\n",
       "0.1  8.870880e+00  1.000000e+00   1.0   761.0 -2.865345\n",
       "0.2 -7.366367e+00  9.213847e-11   1.0   963.0 -2.864546\n",
       "0.3 -2.267608e+01  0.000000e+00   1.0  1357.0 -2.863672\n",
       "0.4 -2.259792e+01  0.000000e+00   1.0  1821.0 -2.863128\n",
       "0.5 -3.781556e+01  0.000000e+00   1.0  2188.0 -2.862862\n",
       "0.6 -4.388734e+01  0.000000e+00   1.0  2385.0 -2.862753\n",
       "0.7 -6.322546e+01  0.000000e+00   1.0  2466.0 -2.862713\n",
       "0.8 -7.371512e+01  0.000000e+00   1.0  2497.0 -2.862698\n",
       "0.9 -4.877829e+01  0.000000e+00   1.0  2510.0 -2.862692\n",
       "1.0 -1.135810e+10  0.000000e+00   1.0  2516.0 -2.862689"
      ]
     },
     "metadata": {},
     "output_type": "display_data"
    },
    {
     "data": {
      "image/png": "[encoded data removed]",
      "text/plain": [
       "<Figure size 432x288 with 1 Axes>"
      ]
     },
     "metadata": {
      "needs_background": "light"
     },
     "output_type": "display_data"
    }
   ],
   "source": [
    "cols = ['adfStat','pVal','lags','nObs','95% conf']#,'corr']\n",
    "out = pd.DataFrame(columns=cols)\n",
    "for d in np.linspace(0,1,11):\n",
    "    try:\n",
    "        df0 = fracDiff(s_,d)\n",
    "        df0 = sm.tsa.stattools.adfuller(df0['fake_close'],maxlag=1,regression='c',autolag=None)\n",
    "        out.loc[d]=list(df0[:4])+[df0[4]['5%']]\n",
    "    except: \n",
    "        break\n",
    "\n",
    "f,ax=plt.subplots()\n",
    "out['adfStat'].plot(ax=ax, marker='X')\n",
    "ax.axhline(out['95% conf'].mean(),lw=1,color='r',ls='dotted')\n",
    "ax.set_title('min d with thresh=0.01')\n",
    "ax.set_xlabel('d values')\n",
    "ax.set_ylabel('adf stat');\n",
    "display(out)"
   ]
  },
  {
   "cell_type": "markdown",
   "metadata": {},
   "source": [
    "#### (iii) Apply FFD with $\\tau = 1E-5$. For what minimum $d$ value do you get a p-value below $5\\%$"
   ]
  },
  {
   "cell_type": "code",
   "execution_count": 15,
   "metadata": {
    "ExecuteTime": {
     "end_time": "2018-10-18T22:56:40.855554Z",
     "start_time": "2018-10-18T22:56:34.706932Z"
    }
   },
   "outputs": [
    {
     "name": "stdout",
     "output_type": "stream",
     "text": [
      "d: 0.1, error: maxlag should be < nobs\n",
      "d: 0.2, error: maxlag should be < nobs\n",
      "d: 0.30000000000000004, error: maxlag should be < nobs\n"
     ]
    },
    {
     "data": {
      "text/html": [
       "<div>\n",
       "<style scoped>\n",
       "    .dataframe tbody tr th:only-of-type {\n",
       "        vertical-align: middle;\n",
       "    }\n",
       "\n",
       "    .dataframe tbody tr th {\n",
       "        vertical-align: top;\n",
       "    }\n",
       "\n",
       "    .dataframe thead th {\n",
       "        text-align: right;\n",
       "    }\n",
       "</style>\n",
       "<table border=\"1\" class=\"dataframe\">\n",
       "  <thead>\n",
       "    <tr style=\"text-align: right;\">\n",
       "      <th></th>\n",
       "      <th>adfStat</th>\n",
       "      <th>pVal</th>\n",
       "      <th>lags</th>\n",
       "      <th>nObs</th>\n",
       "      <th>95% conf</th>\n",
       "    </tr>\n",
       "  </thead>\n",
       "  <tbody>\n",
       "    <tr>\n",
       "      <th>0.0</th>\n",
       "      <td>2.833609e+00</td>\n",
       "      <td>1.000000</td>\n",
       "      <td>1.0</td>\n",
       "      <td>2517.0</td>\n",
       "      <td>-2.862689</td>\n",
       "    </tr>\n",
       "    <tr>\n",
       "      <th>0.4</th>\n",
       "      <td>-0.000000e+00</td>\n",
       "      <td>0.958532</td>\n",
       "      <td>1.0</td>\n",
       "      <td>2.0</td>\n",
       "      <td>-10.370190</td>\n",
       "    </tr>\n",
       "    <tr>\n",
       "      <th>0.5</th>\n",
       "      <td>-5.825592e+03</td>\n",
       "      <td>0.000000</td>\n",
       "      <td>1.0</td>\n",
       "      <td>6.0</td>\n",
       "      <td>-3.646238</td>\n",
       "    </tr>\n",
       "    <tr>\n",
       "      <th>0.6</th>\n",
       "      <td>-5.718052e+03</td>\n",
       "      <td>0.000000</td>\n",
       "      <td>1.0</td>\n",
       "      <td>18.0</td>\n",
       "      <td>-3.042046</td>\n",
       "    </tr>\n",
       "    <tr>\n",
       "      <th>0.7</th>\n",
       "      <td>-6.338667e+03</td>\n",
       "      <td>0.000000</td>\n",
       "      <td>1.0</td>\n",
       "      <td>48.0</td>\n",
       "      <td>-2.923954</td>\n",
       "    </tr>\n",
       "    <tr>\n",
       "      <th>0.8</th>\n",
       "      <td>-8.751121e+03</td>\n",
       "      <td>0.000000</td>\n",
       "      <td>1.0</td>\n",
       "      <td>142.0</td>\n",
       "      <td>-2.882118</td>\n",
       "    </tr>\n",
       "    <tr>\n",
       "      <th>0.9</th>\n",
       "      <td>-8.327682e+03</td>\n",
       "      <td>0.000000</td>\n",
       "      <td>1.0</td>\n",
       "      <td>495.0</td>\n",
       "      <td>-2.867397</td>\n",
       "    </tr>\n",
       "    <tr>\n",
       "      <th>1.0</th>\n",
       "      <td>-1.135810e+10</td>\n",
       "      <td>0.000000</td>\n",
       "      <td>1.0</td>\n",
       "      <td>2516.0</td>\n",
       "      <td>-2.862689</td>\n",
       "    </tr>\n",
       "  </tbody>\n",
       "</table>\n",
       "</div>"
      ],
      "text/plain": [
       "          adfStat      pVal  lags    nObs   95% conf\n",
       "0.0  2.833609e+00  1.000000   1.0  2517.0  -2.862689\n",
       "0.4 -0.000000e+00  0.958532   1.0     2.0 -10.370190\n",
       "0.5 -5.825592e+03  0.000000   1.0     6.0  -3.646238\n",
       "0.6 -5.718052e+03  0.000000   1.0    18.0  -3.042046\n",
       "0.7 -6.338667e+03  0.000000   1.0    48.0  -2.923954\n",
       "0.8 -8.751121e+03  0.000000   1.0   142.0  -2.882118\n",
       "0.9 -8.327682e+03  0.000000   1.0   495.0  -2.867397\n",
       "1.0 -1.135810e+10  0.000000   1.0  2516.0  -2.862689"
      ]
     },
     "metadata": {},
     "output_type": "display_data"
    },
    {
     "data": {
      "image/png": "[encoded data removed]",
      "text/plain": [
       "<Figure size 432x288 with 1 Axes>"
      ]
     },
     "metadata": {
      "needs_background": "light"
     },
     "output_type": "display_data"
    }
   ],
   "source": [
    "cols = ['adfStat','pVal','lags','nObs','95% conf']#,'corr']\n",
    "out = pd.DataFrame(columns=cols)\n",
    "for d in np.linspace(0,1,11):\n",
    "    try:\n",
    "        df0 = fracDiff(s_,d,thres=1e-5)\n",
    "        df0 = sm.tsa.stattools.adfuller(df0['fake_close'],maxlag=1,regression='c',autolag=None)\n",
    "        out.loc[d]=list(df0[:4])+[df0[4]['5%']]\n",
    "    except Exception as e:\n",
    "        print(f'd: {d}, error: {e}')\n",
    "        continue\n",
    "\n",
    "f,ax=plt.subplots()\n",
    "out['adfStat'].plot(ax=ax, marker='X')\n",
    "ax.axhline(out['95% conf'].mean(),lw=1,color='r',ls='dotted')\n",
    "ax.set_title('min d with thresh=0.0001')\n",
    "ax.set_xlabel('d values')\n",
    "ax.set_ylabel('adf stat');\n",
    "display(out)"
   ]
  },
  {
   "cell_type": "markdown",
   "metadata": {},
   "source": [
    "## [5.3] Take the series from exercise 2.b:"
   ]
  },
  {
   "cell_type": "markdown",
   "metadata": {},
   "source": [
    "### (a) Fit the series to a sine function. What is the R-squared?\n",
    "\n",
    "Note: Is there a simpler way to do this?"
   ]
  },
  {
   "cell_type": "code",
   "execution_count": 16,
   "metadata": {
    "ExecuteTime": {
     "end_time": "2018-10-18T22:56:41.184682Z",
     "start_time": "2018-10-18T22:56:40.857863Z"
    }
   },
   "outputs": [],
   "source": [
    "## fitting function taken from stackoverflow\n",
    "##   https://stackoverflow.com/questions/16716302/how-do-i-fit-a-sine-curve-to-my-data-with-pylab-and-numpy#16716964\n",
    "import numpy, scipy.optimize\n",
    "\n",
    "def fit_sin(tt, yy):\n",
    "    '''Fit sin to the input time sequence, and return fitting parameters \"amp\", \"omega\", \"phase\", \"offset\", \"freq\", \"period\" and \"fitfunc\"'''\n",
    "    tt = numpy.array(tt)\n",
    "    yy = numpy.array(yy)\n",
    "    ff = numpy.fft.fftfreq(len(tt), (tt[1]-tt[0]))   # assume uniform spacing\n",
    "    Fyy = abs(numpy.fft.fft(yy))\n",
    "    guess_freq = abs(ff[numpy.argmax(Fyy[1:])+1])   # excluding the zero frequency \"peak\", which is related to offset\n",
    "    guess_amp = numpy.std(yy) * 2.**0.5\n",
    "    guess_offset = numpy.mean(yy)\n",
    "    guess = numpy.array([guess_amp, 2.*numpy.pi*guess_freq, 0., guess_offset])\n",
    "\n",
    "    def sinfunc(t, A, w, p, c):  return A * numpy.sin(w*t + p) + c\n",
    "    popt, pcov = scipy.optimize.curve_fit(sinfunc, tt, yy, p0=guess)\n",
    "    A, w, p, c = popt\n",
    "    f = w/(2.*numpy.pi)\n",
    "    fitfunc = lambda t: A * numpy.sin(w*t + p) + c\n",
    "    return {\"amp\": A, \"omega\": w, \"phase\": p, \"offset\": c, \"freq\": f, \"period\": 1./f, \"fitfunc\": fitfunc, \"maxcov\": numpy.max(pcov), \"rawres\": (guess,popt,pcov)}"
   ]
  },
  {
   "cell_type": "code",
   "execution_count": 17,
   "metadata": {
    "ExecuteTime": {
     "end_time": "2018-10-18T22:56:41.536848Z",
     "start_time": "2018-10-18T22:56:41.186464Z"
    }
   },
   "outputs": [
    {
     "data": {
      "text/plain": [
       "{'amp': -2126.284918105075,\n",
       " 'omega': 0.0004797999293735519,\n",
       " 'phase': 2.6281709304906165,\n",
       " 'offset': 1186.5758476117003,\n",
       " 'freq': 7.636253045494306e-05,\n",
       " 'period': 13095.42774502529,\n",
       " 'fitfunc': <function __main__.fit_sin.<locals>.<lambda>(t)>,\n",
       " 'maxcov': 20695.22970332341,\n",
       " 'rawres': (array([1.01493055e+03, 2.49332750e-03, 0.00000000e+00, 1.36801775e+03]),\n",
       "  array([-2.12628492e+03,  4.79799929e-04,  2.62817093e+00,  1.18657585e+03]),\n",
       "  array([[ 2.06952297e+04,  4.98650324e-03, -7.28185170e+00,\n",
       "           3.99478720e+03],\n",
       "         [ 4.98650324e-03,  1.20345366e-09, -1.74718083e-06,\n",
       "           9.43037058e-04],\n",
       "         [-7.28185170e+00, -1.74718083e-06,  2.76112152e-03,\n",
       "          -1.81976202e+00],\n",
       "         [ 3.99478720e+03,  9.43037058e-04, -1.81976202e+00,\n",
       "           1.64645703e+03]]))}"
      ]
     },
     "execution_count": 17,
     "metadata": {},
     "output_type": "execute_result"
    }
   ],
   "source": [
    "res = fit_sin(s_.index.values, s_.values.ravel())\n",
    "res"
   ]
  },
  {
   "cell_type": "code",
   "execution_count": 18,
   "metadata": {
    "ExecuteTime": {
     "end_time": "2018-10-18T22:56:41.976622Z",
     "start_time": "2018-10-18T22:56:41.540371Z"
    }
   },
   "outputs": [
    {
     "data": {
      "image/png": "[encoded data removed]",
      "text/plain": [
       "<Figure size 432x288 with 1 Axes>"
      ]
     },
     "metadata": {
      "needs_background": "light"
     },
     "output_type": "display_data"
    }
   ],
   "source": [
    "xx = s_.index.values\n",
    "yy = s_.values.ravel()\n",
    "\n",
    "plt.plot(xx, yy, \"-k\", label=\"y\", linewidth=2)\n",
    "#plt.plot(tt, yynoise, \"ok\", label=\"y with noise\")\n",
    "plt.plot(xx, res[\"fitfunc\"](xx), \"r-\", label=\"y fit curve\", linewidth=2)\n",
    "plt.legend(loc=\"best\")\n",
    "plt.show()"
   ]
  },
  {
   "cell_type": "code",
   "execution_count": 19,
   "metadata": {
    "ExecuteTime": {
     "end_time": "2018-10-18T22:56:42.326817Z",
     "start_time": "2018-10-18T22:56:41.978419Z"
    }
   },
   "outputs": [
    {
     "data": {
      "text/plain": [
       "0.9859147406461111"
      ]
     },
     "execution_count": 19,
     "metadata": {},
     "output_type": "execute_result"
    }
   ],
   "source": [
    "slope, intercept, r_value, p_value, std_err = scipy.stats.linregress(yy, res[\"fitfunc\"](xx))\n",
    "r_value**2"
   ]
  },
  {
   "cell_type": "markdown",
   "metadata": {},
   "source": [
    "### (b) Apply FFD$(d=1)$. Fit the series to a sine function. What is the R-squared?"
   ]
  },
  {
   "cell_type": "code",
   "execution_count": 20,
   "metadata": {
    "ExecuteTime": {
     "end_time": "2018-10-18T22:56:45.240524Z",
     "start_time": "2018-10-18T22:56:42.328536Z"
    }
   },
   "outputs": [
    {
     "data": {
      "text/plain": [
       "<matplotlib.axes._subplots.AxesSubplot at 0x7f452c31d160>"
      ]
     },
     "execution_count": 20,
     "metadata": {},
     "output_type": "execute_result"
    },
    {
     "data": {
      "image/png": "[encoded data removed]",
      "text/plain": [
       "<Figure size 432x288 with 1 Axes>"
      ]
     },
     "metadata": {
      "needs_background": "light"
     },
     "output_type": "display_data"
    }
   ],
   "source": [
    "#cols = ['adfStat','pVal','lags','nObs','95% conf']#,'corr']\n",
    "#out = pd.DataFrame(columns=cols)\n",
    "df1 = fracDiff(s_,d=1)\n",
    "#df1 = sm.tsa.stattools.adfuller(df0['fake_close'],maxlag=1,regression='c',autolag=None)\n",
    "#out.loc[d]=list(df0[:4])+[df0[4]['5%']]\n",
    "df1.plot()"
   ]
  },
  {
   "cell_type": "code",
   "execution_count": 21,
   "metadata": {
    "ExecuteTime": {
     "end_time": "2018-10-18T22:56:45.517610Z",
     "start_time": "2018-10-18T22:56:45.241748Z"
    }
   },
   "outputs": [
    {
     "data": {
      "text/plain": [
       "1.0"
      ]
     },
     "execution_count": 21,
     "metadata": {},
     "output_type": "execute_result"
    }
   ],
   "source": [
    "xx = df1.index.values\n",
    "yy = df1.values.ravel()\n",
    "\n",
    "res = fit_sin(xx, yy)\n",
    "slope, intercept, r_value, p_value, std_err = scipy.stats.linregress(yy, res[\"fitfunc\"](xx))\n",
    "r_value**2"
   ]
  },
  {
   "cell_type": "markdown",
   "metadata": {},
   "source": [
    "### (c) What value of d maximizes the R-squared of a sinusoidal fit on FFD$(d)$? Why?"
   ]
  },
  {
   "cell_type": "code",
   "execution_count": null,
   "metadata": {},
   "outputs": [],
   "source": []
  },
  {
   "cell_type": "markdown",
   "metadata": {},
   "source": [
    "## 5.4\n",
    "\n",
    "Take dollar bar series on E-mini S&P 500 futures. Using the code in Snippet 5.3, for some `d` in `[0,2]`, compute `fracDiff_FFD(fracDiff_FFD(series,d)`. What do you get? Why?\n",
    "\n",
    "Note: for some reason this never finishes computing in my notebook"
   ]
  },
  {
   "cell_type": "code",
   "execution_count": 22,
   "metadata": {
    "ExecuteTime": {
     "end_time": "2018-10-18T22:56:45.781026Z",
     "start_time": "2018-10-18T22:56:45.518850Z"
    }
   },
   "outputs": [],
   "source": [
    "def getWeights_FFD(d,thres):\n",
    "    w,k=[1.],1\n",
    "    while True:\n",
    "        w_=-w[-1]/k*(d-k+1)\n",
    "        if abs(w_)<thres:break\n",
    "        w.append(w_);k+=1\n",
    "    return np.array(w[::-1]).reshape(-1,1)\n",
    "\n",
    "#---------------------------------------------------------------------------\n",
    "\n",
    "def fracDiff_FFD(series,d,thres=1e-5):\n",
    "    # Constant width window (new solution)\n",
    "    w = getWeights_FFD(d,thres)\n",
    "    width = len(w)-1\n",
    "    df={}\n",
    "    for name in series.columns:\n",
    "        seriesF, df_=series[[name]].fillna(method='ffill').dropna(), pd.Series()\n",
    "        for iloc1 in range(width,seriesF.shape[0]):\n",
    "            loc0,loc1=seriesF.index[iloc1-width], seriesF.index[iloc1]\n",
    "            test_val = series.loc[loc1,name] # must resample if duplicate index\n",
    "            if isinstance(test_val, (pd.Series, pd.DataFrame)):\n",
    "                test_val = test_val.resample('1m').mean()\n",
    "            if not np.isfinite(test_val).any(): continue # exclude NAs\n",
    "            #print(f'd: {d}, iloc1:{iloc1} shapes: w:{w.T.shape}, series: {seriesF.loc[loc0:loc1].notnull().shape}')\n",
    "            try:\n",
    "                df_.loc[loc1]=np.dot(w.T, seriesF.loc[loc0:loc1])[0,0]\n",
    "            except:\n",
    "                continue\n",
    "        df[name]=df_.copy(deep=True)\n",
    "    df=pd.concat(df,axis=1)\n",
    "    return df \n"
   ]
  },
  {
   "cell_type": "code",
   "execution_count": 23,
   "metadata": {
    "ExecuteTime": {
     "end_time": "2018-10-18T22:58:18.140049Z",
     "start_time": "2018-10-18T22:56:45.782755Z"
    }
   },
   "outputs": [
    {
     "name": "stdout",
     "output_type": "stream",
     "text": [
      "[########################################] | 100% Completed | 31.4s\n",
      "-------------------------------------------------------------------------------\n",
      "dataframe information\n",
      "-------------------------------------------------------------------------------\n",
      "                      price     bid     ask      size         v            dv\n",
      "dates                                                                        \n",
      "2018-02-26 15:59:59  115.35  115.34  115.36     412.5     412.5  4.758188e+04\n",
      "2018-02-26 16:00:00  115.35  115.34  115.35    5362.0    5362.0  6.185067e+05\n",
      "2018-02-26 16:10:00  115.35  115.22  115.58       0.0       0.0  0.000000e+00\n",
      "2018-02-26 16:16:14  115.30  114.72  115.62  778677.0  778677.0  8.978146e+07\n",
      "2018-02-26 18:30:00  115.35  114.72  117.38       0.0       0.0  0.000000e+00\n",
      "--------------------------------------------------\n"
     ]
    },
    {
     "name": "stderr",
     "output_type": "stream",
     "text": [
      "\r",
      "  0%|          | 0/941297 [00:00<?, ?it/s]"
     ]
    },
    {
     "name": "stdout",
     "output_type": "stream",
     "text": [
      "<class 'pandas.core.frame.DataFrame'>\n",
      "DatetimeIndex: 941297 entries, 2009-09-28 09:30:00 to 2018-02-26 18:30:00\n",
      "Data columns (total 6 columns):\n",
      "price    941297 non-null float64\n",
      "bid      941297 non-null float64\n",
      "ask      941297 non-null float64\n",
      "size     941297 non-null float64\n",
      "v        941297 non-null float64\n",
      "dv       941297 non-null float64\n",
      "dtypes: float64(6)\n",
      "memory usage: 50.3 MB\n",
      "None\n",
      "-------------------------------------------------------------------------------\n",
      "\n"
     ]
    },
    {
     "name": "stderr",
     "output_type": "stream",
     "text": [
      "100%|██████████| 941297/941297 [00:00<00:00, 2822315.09it/s]\n"
     ]
    },
    {
     "name": "stdout",
     "output_type": "stream",
     "text": [
      "-------------------------------------------------------------------------------\n",
      "dataframe information\n",
      "-------------------------------------------------------------------------------\n",
      "                      price         bid         ask           size  \\\n",
      "dates                                                                \n",
      "2018-02-26 15:31:06  115.29  115.280000  115.290000    2022.000000   \n",
      "2018-02-26 15:40:15  115.41  115.400000  115.410000     723.000000   \n",
      "2018-02-26 15:49:42  115.20  115.176667  115.186667    4487.166667   \n",
      "2018-02-26 15:59:04  115.27  115.260000  115.270000     300.000000   \n",
      "2018-02-26 16:16:14  115.30  114.720000  115.620000  778677.000000   \n",
      "\n",
      "                                 v            dv  \n",
      "dates                                             \n",
      "2018-02-26 15:31:06    2022.000000  2.331164e+05  \n",
      "2018-02-26 15:40:15     723.000000  8.344143e+04  \n",
      "2018-02-26 15:49:42    4487.166667  5.171190e+05  \n",
      "2018-02-26 15:59:04     300.000000  3.458100e+04  \n",
      "2018-02-26 16:16:14  778677.000000  8.978146e+07  \n",
      "--------------------------------------------------\n",
      "<class 'pandas.core.frame.DataFrame'>\n",
      "DatetimeIndex: 30861 entries, 2009-09-28 09:53:49 to 2018-02-26 16:16:14\n",
      "Data columns (total 6 columns):\n",
      "price    30861 non-null float64\n",
      "bid      30861 non-null float64\n",
      "ask      30861 non-null float64\n",
      "size     30861 non-null float64\n",
      "v        30861 non-null float64\n",
      "dv       30861 non-null float64\n",
      "dtypes: float64(6)\n",
      "memory usage: 1.6 MB\n",
      "None\n",
      "-------------------------------------------------------------------------------\n",
      "\n"
     ]
    }
   ],
   "source": [
    "def dask_resample(ser, freq='L'):\n",
    "    dds = dd.from_pandas(ser, chunksize=len(ser)//100)\n",
    "    tdf = (dds\n",
    "           .resample(freq)\n",
    "           .mean()\n",
    "           .dropna()\n",
    "          ).compute()\n",
    "    return tdf\n",
    "\n",
    "infp=PurePath(data_dir/'clean_IVE_fut_prices.parquet')\n",
    "df = pd.read_parquet(infp)\n",
    "\n",
    "dv_rs = dask_resample(df, '1s')\n",
    "cprint(dv_rs)\n",
    "\n",
    "dbars = brs.dollar_bar_df(dv_rs, 'dv', 1_000_000)\n",
    "cprint(dbars)"
   ]
  },
  {
   "cell_type": "code",
   "execution_count": 24,
   "metadata": {
    "ExecuteTime": {
     "end_time": "2018-10-18T22:58:31.894934Z",
     "start_time": "2018-10-18T22:58:18.247946Z"
    },
    "scrolled": true
   },
   "outputs": [],
   "source": [
    "d = 0.5\n",
    "sel = dbars[['price']].iloc[:100]\n",
    "#val = fracDiff_FFD(fracDiff_FFD(sel, d), -d) # Never finishes don't run\n",
    "#val"
   ]
  },
  {
   "cell_type": "markdown",
   "metadata": {},
   "source": [
    "## 5.5 \n",
    "\n",
    "Take the dollar bar series on E-mini S&P 500 futures."
   ]
  },
  {
   "cell_type": "markdown",
   "metadata": {},
   "source": [
    "### (a) Form a new series as a cumulative sum of log-prices"
   ]
  },
  {
   "cell_type": "code",
   "execution_count": 25,
   "metadata": {
    "ExecuteTime": {
     "end_time": "2018-10-18T22:58:32.984506Z",
     "start_time": "2018-10-18T22:58:31.898150Z"
    }
   },
   "outputs": [
    {
     "name": "stdout",
     "output_type": "stream",
     "text": [
      "-------------------------------------------------------------------------------\n",
      "dataframe information\n",
      "-------------------------------------------------------------------------------\n",
      "                             price\n",
      "dates                             \n",
      "2018-02-26 15:31:06  136219.267867\n",
      "2018-02-26 15:40:15  136224.016358\n",
      "2018-02-26 15:49:42  136228.763027\n",
      "2018-02-26 15:59:04  136233.510305\n",
      "2018-02-26 16:16:14  136238.257842\n",
      "--------------------------------------------------\n",
      "<class 'pandas.core.frame.DataFrame'>\n",
      "DatetimeIndex: 30861 entries, 2009-09-28 09:53:49 to 2018-02-26 16:16:14\n",
      "Data columns (total 1 columns):\n",
      "price    30861 non-null float64\n",
      "dtypes: float64(1)\n",
      "memory usage: 482.2 KB\n",
      "None\n",
      "-------------------------------------------------------------------------------\n",
      "\n"
     ]
    },
    {
     "data": {
      "text/plain": [
       "<matplotlib.axes._subplots.AxesSubplot at 0x7f452c294c18>"
      ]
     },
     "execution_count": 25,
     "metadata": {},
     "output_type": "execute_result"
    },
    {
     "data": {
      "image/png": "[encoded data removed]",
      "text/plain": [
       "<Figure size 432x288 with 1 Axes>"
      ]
     },
     "metadata": {
      "needs_background": "light"
     },
     "output_type": "display_data"
    }
   ],
   "source": [
    "x = np.log(dbars.price).cumsum()\n",
    "cprint(x)\n",
    "\n",
    "x.plot()"
   ]
  },
  {
   "cell_type": "markdown",
   "metadata": {},
   "source": [
    "### (b) Apply FFD, with $\\tau = 1E-5$. Determine for what minimum $d \\in [0,2]$ the new series is stationary"
   ]
  },
  {
   "cell_type": "code",
   "execution_count": 26,
   "metadata": {
    "ExecuteTime": {
     "end_time": "2018-10-18T23:05:48.761932Z",
     "start_time": "2018-10-18T22:58:32.986107Z"
    }
   },
   "outputs": [
    {
     "data": {
      "application/vnd.jupyter.widget-view+json": {
       "model_id": "7aa4c1f7b6c6420b8bd4baebfbca7179",
       "version_major": 2,
       "version_minor": 0
      },
      "text/plain": [
       "HBox(children=(IntProgress(value=0, max=8), HTML(value='')))"
      ]
     },
     "metadata": {},
     "output_type": "display_data"
    },
    {
     "name": "stdout",
     "output_type": "stream",
     "text": [
      "\n"
     ]
    }
   ],
   "source": [
    "def get_optimal_ffd(ds, t=1e-5):\n",
    "    \n",
    "    cols = ['adfStat','pVal','lags','nObs','95% conf']#,'corr']\n",
    "    out = pd.DataFrame(columns=cols)\n",
    "    \n",
    "    for d in tqdm_notebook(ds):\n",
    "        try:\n",
    "            #dfx = fracDiff(x.to_frame(),d,thres=1e-5)\n",
    "            dfx = fracDiff_FFD(x.to_frame(),d,thres=t)\n",
    "            dfx = sm.tsa.stattools.adfuller(dfx['price'], maxlag=1,regression='c',autolag=None)\n",
    "            out.loc[d]=list(dfx[:4])+[dfx[4]['5%']]\n",
    "        except Exception as e:\n",
    "            print(f'{d} error: {e}')\n",
    "            break\n",
    "    return out\n",
    "\n",
    "#============================================\n",
    "ds = [0.25,0.5,1,1.5,1.8,1.9,1.999,2]\n",
    "thres = 1e-5\n",
    "out = get_optimal_ffd(ds, thres) # takes 15 minutes to run on ~44k points"
   ]
  },
  {
   "cell_type": "code",
   "execution_count": 27,
   "metadata": {
    "ExecuteTime": {
     "end_time": "2018-10-18T23:05:49.304815Z",
     "start_time": "2018-10-18T23:05:48.763819Z"
    }
   },
   "outputs": [
    {
     "data": {
      "text/html": [
       "<div>\n",
       "<style scoped>\n",
       "    .dataframe tbody tr th:only-of-type {\n",
       "        vertical-align: middle;\n",
       "    }\n",
       "\n",
       "    .dataframe tbody tr th {\n",
       "        vertical-align: top;\n",
       "    }\n",
       "\n",
       "    .dataframe thead th {\n",
       "        text-align: right;\n",
       "    }\n",
       "</style>\n",
       "<table border=\"1\" class=\"dataframe\">\n",
       "  <thead>\n",
       "    <tr style=\"text-align: right;\">\n",
       "      <th></th>\n",
       "      <th>adfStat</th>\n",
       "      <th>pVal</th>\n",
       "      <th>lags</th>\n",
       "      <th>nObs</th>\n",
       "      <th>95% conf</th>\n",
       "    </tr>\n",
       "  </thead>\n",
       "  <tbody>\n",
       "    <tr>\n",
       "      <th>0.250</th>\n",
       "      <td>13.729830</td>\n",
       "      <td>1.000000</td>\n",
       "      <td>1.0</td>\n",
       "      <td>28056.0</td>\n",
       "      <td>-2.861643</td>\n",
       "    </tr>\n",
       "    <tr>\n",
       "      <th>0.500</th>\n",
       "      <td>51.436628</td>\n",
       "      <td>1.000000</td>\n",
       "      <td>1.0</td>\n",
       "      <td>29933.0</td>\n",
       "      <td>-2.861637</td>\n",
       "    </tr>\n",
       "    <tr>\n",
       "      <th>1.000</th>\n",
       "      <td>-1.552027</td>\n",
       "      <td>0.507636</td>\n",
       "      <td>1.0</td>\n",
       "      <td>30858.0</td>\n",
       "      <td>-2.861634</td>\n",
       "    </tr>\n",
       "    <tr>\n",
       "      <th>1.500</th>\n",
       "      <td>7.740002</td>\n",
       "      <td>1.000000</td>\n",
       "      <td>1.0</td>\n",
       "      <td>30788.0</td>\n",
       "      <td>-2.861634</td>\n",
       "    </tr>\n",
       "    <tr>\n",
       "      <th>1.800</th>\n",
       "      <td>3.516861</td>\n",
       "      <td>1.000000</td>\n",
       "      <td>1.0</td>\n",
       "      <td>30818.0</td>\n",
       "      <td>-2.861634</td>\n",
       "    </tr>\n",
       "    <tr>\n",
       "      <th>1.900</th>\n",
       "      <td>2.326653</td>\n",
       "      <td>0.998971</td>\n",
       "      <td>1.0</td>\n",
       "      <td>30829.0</td>\n",
       "      <td>-2.861634</td>\n",
       "    </tr>\n",
       "    <tr>\n",
       "      <th>1.999</th>\n",
       "      <td>0.342193</td>\n",
       "      <td>0.979200</td>\n",
       "      <td>1.0</td>\n",
       "      <td>30853.0</td>\n",
       "      <td>-2.861634</td>\n",
       "    </tr>\n",
       "    <tr>\n",
       "      <th>2.000</th>\n",
       "      <td>-139.096911</td>\n",
       "      <td>0.000000</td>\n",
       "      <td>1.0</td>\n",
       "      <td>30857.0</td>\n",
       "      <td>-2.861634</td>\n",
       "    </tr>\n",
       "  </tbody>\n",
       "</table>\n",
       "</div>"
      ],
      "text/plain": [
       "          adfStat      pVal  lags     nObs  95% conf\n",
       "0.250   13.729830  1.000000   1.0  28056.0 -2.861643\n",
       "0.500   51.436628  1.000000   1.0  29933.0 -2.861637\n",
       "1.000   -1.552027  0.507636   1.0  30858.0 -2.861634\n",
       "1.500    7.740002  1.000000   1.0  30788.0 -2.861634\n",
       "1.800    3.516861  1.000000   1.0  30818.0 -2.861634\n",
       "1.900    2.326653  0.998971   1.0  30829.0 -2.861634\n",
       "1.999    0.342193  0.979200   1.0  30853.0 -2.861634\n",
       "2.000 -139.096911  0.000000   1.0  30857.0 -2.861634"
      ]
     },
     "metadata": {},
     "output_type": "display_data"
    },
    {
     "data": {
      "image/png": "[encoded data removed]",
      "text/plain": [
       "<Figure size 432x288 with 1 Axes>"
      ]
     },
     "metadata": {
      "needs_background": "light"
     },
     "output_type": "display_data"
    }
   ],
   "source": [
    "f,ax=plt.subplots()\n",
    "out['adfStat'].plot(ax=ax, marker=\"X\", markersize=10)\n",
    "ax.axhline(out['95% conf'].mean(),lw=1,color='r',ls='dotted')\n",
    "ax.set_title(f'min d with thresh={thres}')\n",
    "ax.set_xlabel('d values')\n",
    "ax.set_ylabel('adf stat');\n",
    "display(out)"
   ]
  },
  {
   "cell_type": "code",
   "execution_count": 28,
   "metadata": {
    "ExecuteTime": {
     "end_time": "2018-10-18T23:05:49.612067Z",
     "start_time": "2018-10-18T23:05:49.306203Z"
    }
   },
   "outputs": [
    {
     "data": {
      "text/plain": [
       "2.0"
      ]
     },
     "execution_count": 28,
     "metadata": {},
     "output_type": "execute_result"
    }
   ],
   "source": [
    "min_ffd = out[out.pVal < 0.05].iloc[0].name\n",
    "min_ffd"
   ]
  },
  {
   "cell_type": "markdown",
   "metadata": {},
   "source": [
    "### (c) Compute the correlation of the fracdiff series to the original (untransformed) series"
   ]
  },
  {
   "cell_type": "code",
   "execution_count": 29,
   "metadata": {
    "ExecuteTime": {
     "end_time": "2018-10-18T23:06:44.933269Z",
     "start_time": "2018-10-18T23:05:49.614704Z"
    }
   },
   "outputs": [
    {
     "name": "stdout",
     "output_type": "stream",
     "text": [
      "-------------------------------------------------------------------------------\n",
      "dataframe information\n",
      "-------------------------------------------------------------------------------\n",
      "                        price\n",
      "2018-02-26 15:31:06 -0.000575\n",
      "2018-02-26 15:40:15  0.001040\n",
      "2018-02-26 15:49:42 -0.001821\n",
      "2018-02-26 15:59:04  0.000607\n",
      "2018-02-26 16:16:14  0.000260\n",
      "--------------------------------------------------\n",
      "<class 'pandas.core.frame.DataFrame'>\n",
      "DatetimeIndex: 30859 entries, 2009-09-28 10:19:50 to 2018-02-26 16:16:14\n",
      "Data columns (total 1 columns):\n",
      "price    30859 non-null float64\n",
      "dtypes: float64(1)\n",
      "memory usage: 482.2 KB\n",
      "None\n",
      "-------------------------------------------------------------------------------\n",
      "\n"
     ]
    },
    {
     "data": {
      "text/html": [
       "<div>\n",
       "<style scoped>\n",
       "    .dataframe tbody tr th:only-of-type {\n",
       "        vertical-align: middle;\n",
       "    }\n",
       "\n",
       "    .dataframe tbody tr th {\n",
       "        vertical-align: top;\n",
       "    }\n",
       "\n",
       "    .dataframe thead th {\n",
       "        text-align: right;\n",
       "    }\n",
       "</style>\n",
       "<table border=\"1\" class=\"dataframe\">\n",
       "  <thead>\n",
       "    <tr style=\"text-align: right;\">\n",
       "      <th></th>\n",
       "      <th>price</th>\n",
       "      <th>original</th>\n",
       "    </tr>\n",
       "  </thead>\n",
       "  <tbody>\n",
       "    <tr>\n",
       "      <th>price</th>\n",
       "      <td>1.000000</td>\n",
       "      <td>-0.002704</td>\n",
       "    </tr>\n",
       "    <tr>\n",
       "      <th>original</th>\n",
       "      <td>-0.002704</td>\n",
       "      <td>1.000000</td>\n",
       "    </tr>\n",
       "  </tbody>\n",
       "</table>\n",
       "</div>"
      ],
      "text/plain": [
       "             price  original\n",
       "price     1.000000 -0.002704\n",
       "original -0.002704  1.000000"
      ]
     },
     "execution_count": 29,
     "metadata": {},
     "output_type": "execute_result"
    }
   ],
   "source": [
    "dfx2 = fracDiff_FFD(x.to_frame(),min_ffd,thres=thres)\n",
    "cprint(dfx2)\n",
    "\n",
    "joined = dfx2.join(x.rename('original'), how='left') \n",
    "joined.corr()"
   ]
  },
  {
   "cell_type": "markdown",
   "metadata": {},
   "source": [
    "### (d) Apply Engel-Granger cointegration test on the original and fracdiff series. Are they cointegrated? Why?"
   ]
  },
  {
   "cell_type": "code",
   "execution_count": 30,
   "metadata": {
    "ExecuteTime": {
     "end_time": "2018-10-18T23:06:49.462087Z",
     "start_time": "2018-10-18T23:06:44.936278Z"
    }
   },
   "outputs": [
    {
     "data": {
      "text/plain": [
       "(-27.177877591790516, 0.0, array([-3.89679495, -3.33632801, -3.04458745]))"
      ]
     },
     "execution_count": 30,
     "metadata": {},
     "output_type": "execute_result"
    }
   ],
   "source": [
    "sm.tsa.stattools.coint(joined.price, joined.original)"
   ]
  },
  {
   "cell_type": "markdown",
   "metadata": {},
   "source": [
    "### (e) Apply a Jarque-Bera normality test on the fracdiff series."
   ]
  },
  {
   "cell_type": "code",
   "execution_count": 31,
   "metadata": {
    "ExecuteTime": {
     "end_time": "2018-10-18T23:06:49.775732Z",
     "start_time": "2018-10-18T23:06:49.463781Z"
    }
   },
   "outputs": [
    {
     "data": {
      "text/plain": [
       "(4067589070.053132, 0.0)"
      ]
     },
     "execution_count": 31,
     "metadata": {},
     "output_type": "execute_result"
    }
   ],
   "source": [
    "np.random.seed(0)\n",
    "stats.jarque_bera(dfx2)"
   ]
  },
  {
   "cell_type": "markdown",
   "metadata": {},
   "source": [
    "## 5.6 Take the fracdiff series from exercise 5"
   ]
  },
  {
   "cell_type": "markdown",
   "metadata": {},
   "source": [
    "### (a) Apply a CUSUM filter (Chapter 2), where h is twice the standard deviation of the series."
   ]
  },
  {
   "cell_type": "code",
   "execution_count": 32,
   "metadata": {
    "ExecuteTime": {
     "end_time": "2018-10-18T23:06:53.491344Z",
     "start_time": "2018-10-18T23:06:49.778066Z"
    }
   },
   "outputs": [
    {
     "name": "stderr",
     "output_type": "stream",
     "text": [
      "100%|██████████| 8417/8417 [00:03<00:00, 2430.45it/s]\n"
     ]
    },
    {
     "data": {
      "text/plain": [
       "DatetimeIndex(['2009-09-28 11:34:21', '2009-09-28 11:53:11',\n",
       "               '2009-09-28 12:30:58', '2009-09-28 14:44:10',\n",
       "               '2009-09-28 15:39:46', '2009-09-29 12:53:47',\n",
       "               '2009-09-29 13:59:56', '2009-09-30 12:40:13',\n",
       "               '2009-09-30 13:31:12', '2009-10-01 09:29:51',\n",
       "               ...\n",
       "               '2018-02-26 12:09:16', '2018-02-26 12:48:18',\n",
       "               '2018-02-26 13:06:34', '2018-02-26 13:21:31',\n",
       "               '2018-02-26 13:48:20', '2018-02-26 13:58:17',\n",
       "               '2018-02-26 14:09:45', '2018-02-26 15:20:10',\n",
       "               '2018-02-26 15:24:32', '2018-02-26 16:16:14'],\n",
       "              dtype='datetime64[ns]', length=8341, freq=None)"
      ]
     },
     "metadata": {},
     "output_type": "display_data"
    }
   ],
   "source": [
    "tEvents = snp.getTEvents(dfx2,h=dfx2.std().iat[0]*2)\n",
    "display(tEvents)"
   ]
  },
  {
   "cell_type": "markdown",
   "metadata": {},
   "source": [
    "### (b) Use the filtered timestamps to sample a features' matrix. Use as one of the features the fracDiff value."
   ]
  },
  {
   "cell_type": "code",
   "execution_count": 33,
   "metadata": {
    "ExecuteTime": {
     "end_time": "2018-10-18T23:06:53.913405Z",
     "start_time": "2018-10-18T23:06:53.492814Z"
    }
   },
   "outputs": [
    {
     "name": "stdout",
     "output_type": "stream",
     "text": [
      "-------------------------------------------------------------------------------\n",
      "dataframe information\n",
      "-------------------------------------------------------------------------------\n",
      "                        dbars  frac_diff_feat\n",
      "2018-02-26 13:58:17  115.1200        0.000391\n",
      "2018-02-26 14:09:45  115.1501        0.000261\n",
      "2018-02-26 15:20:10  115.3200        0.000694\n",
      "2018-02-26 15:24:32  115.3563        0.000315\n",
      "2018-02-26 16:16:14  115.3000        0.000260\n",
      "--------------------------------------------------\n",
      "<class 'pandas.core.frame.DataFrame'>\n",
      "DatetimeIndex: 8329 entries, 2009-09-28 11:34:21 to 2018-02-26 16:16:14\n",
      "Data columns (total 2 columns):\n",
      "dbars             8329 non-null float64\n",
      "frac_diff_feat    8329 non-null float64\n",
      "dtypes: float64(2)\n",
      "memory usage: 195.2 KB\n",
      "None\n",
      "-------------------------------------------------------------------------------\n",
      "\n"
     ]
    }
   ],
   "source": [
    "dbars_feat = dbars.price.loc[tEvents]\n",
    "frac_diff_feat = dfx2.loc[tEvents]\n",
    "ftMtx = (pd.DataFrame()\n",
    "         .assign(dbars=dbars_feat,\n",
    "                 frac_diff_feat=frac_diff_feat)\n",
    "         .drop_duplicates().dropna())\n",
    "cprint(ftMtx)"
   ]
  },
  {
   "cell_type": "markdown",
   "metadata": {},
   "source": [
    "### (c) Form labels using the triple-barrier method, with symmetric horizontal barriers of `twice` the daily standard deviation, and a vertical barrier of `5` days"
   ]
  },
  {
   "cell_type": "code",
   "execution_count": 34,
   "metadata": {
    "ExecuteTime": {
     "end_time": "2018-10-18T23:06:57.622179Z",
     "start_time": "2018-10-18T23:06:53.915744Z"
    }
   },
   "outputs": [
    {
     "name": "stderr",
     "output_type": "stream",
     "text": [
      "2018-10-18 17:06:56.495423 100.0% applyPtSlOnT1 done after 0.02 minutes. Remaining 0.0 minutes..\n"
     ]
    },
    {
     "name": "stdout",
     "output_type": "stream",
     "text": [
      "-------------------------------------------------------------------------------\n",
      "dataframe information\n",
      "-------------------------------------------------------------------------------\n",
      "                     t1      trgt\n",
      "2018-02-26 13:58:17 NaT  0.023527\n",
      "2018-02-26 14:09:45 NaT  0.023438\n",
      "2018-02-26 15:20:10 NaT  0.023394\n",
      "2018-02-26 15:24:32 NaT  0.023354\n",
      "2018-02-26 16:16:14 NaT  0.023291\n",
      "--------------------------------------------------\n",
      "<class 'pandas.core.frame.DataFrame'>\n",
      "DatetimeIndex: 6948 entries, 2009-09-30 12:40:13 to 2018-02-26 16:16:14\n",
      "Data columns (total 2 columns):\n",
      "t1      6914 non-null datetime64[ns]\n",
      "trgt    6948 non-null float64\n",
      "dtypes: datetime64[ns](1), float64(1)\n",
      "memory usage: 162.8 KB\n",
      "None\n",
      "-------------------------------------------------------------------------------\n",
      "\n"
     ]
    }
   ],
   "source": [
    "dailyVol = snp.getDailyVol(ftMtx.dbars)\n",
    "t1 = snp.addVerticalBarrier(tEvents, ftMtx.dbars, numDays=5)\n",
    "\n",
    "ptsl = [1,1]\n",
    "#ptsl = [daily]\n",
    "target=dailyVol*2\n",
    "# select minRet\n",
    "minRet = 0.01\n",
    "# get cpu count - 1\n",
    "cpus = cpu_count() - 1\n",
    "events = snp.getEvents(ftMtx.dbars,tEvents,ptsl,target,minRet,cpus,t1=t1)\n",
    "cprint(events)"
   ]
  },
  {
   "cell_type": "code",
   "execution_count": 35,
   "metadata": {
    "ExecuteTime": {
     "end_time": "2018-10-18T23:07:00.011547Z",
     "start_time": "2018-10-18T23:06:57.625134Z"
    }
   },
   "outputs": [
    {
     "name": "stderr",
     "output_type": "stream",
     "text": [
      "2018-10-18 17:06:58.901774 9.09% mpNumCoEvents done after 0.01 minutes. Remaining 0.07 minutes.\r",
      "2018-10-18 17:06:58.918478 18.18% mpNumCoEvents done after 0.01 minutes. Remaining 0.03 minutes.\r",
      "2018-10-18 17:06:58.923310 27.27% mpNumCoEvents done after 0.01 minutes. Remaining 0.02 minutes.\r",
      "2018-10-18 17:06:58.937739 36.36% mpNumCoEvents done after 0.01 minutes. Remaining 0.01 minutes.\r",
      "2018-10-18 17:06:58.938490 45.45% mpNumCoEvents done after 0.01 minutes. Remaining 0.01 minutes.\r",
      "2018-10-18 17:06:58.941631 54.55% mpNumCoEvents done after 0.01 minutes. Remaining 0.01 minutes.\r",
      "2018-10-18 17:06:58.946929 63.64% mpNumCoEvents done after 0.01 minutes. Remaining 0.0 minutes.\r",
      "2018-10-18 17:06:58.947312 72.73% mpNumCoEvents done after 0.01 minutes. Remaining 0.0 minutes.\r",
      "2018-10-18 17:06:58.947662 81.82% mpNumCoEvents done after 0.01 minutes. Remaining 0.0 minutes.\r",
      "2018-10-18 17:06:58.953509 90.91% mpNumCoEvents done after 0.01 minutes. Remaining 0.0 minutes.\r",
      "2018-10-18 17:06:58.956595 100.0% mpNumCoEvents done after 0.01 minutes. Remaining 0.0 minutes.\n"
     ]
    },
    {
     "name": "stdout",
     "output_type": "stream",
     "text": [
      "-------------------------------------------------------------------------------\n",
      "dataframe information\n",
      "-------------------------------------------------------------------------------\n",
      "                     tW\n",
      "2018-02-26 13:58:17 NaN\n",
      "2018-02-26 14:09:45 NaN\n",
      "2018-02-26 15:20:10 NaN\n",
      "2018-02-26 15:24:32 NaN\n",
      "2018-02-26 16:16:14 NaN\n",
      "--------------------------------------------------\n",
      "<class 'pandas.core.frame.DataFrame'>\n",
      "DatetimeIndex: 6948 entries, 2009-09-30 12:40:13 to 2018-02-26 16:16:14\n",
      "Data columns (total 1 columns):\n",
      "tW    6914 non-null float64\n",
      "dtypes: float64(1)\n",
      "memory usage: 108.6 KB\n",
      "None\n",
      "-------------------------------------------------------------------------------\n",
      "\n"
     ]
    },
    {
     "name": "stderr",
     "output_type": "stream",
     "text": [
      "2018-10-18 17:06:59.844485 9.09% mpSampleTW done after 0.0 minutes. Remaining 0.04 minutes.\r",
      "2018-10-18 17:06:59.856056 18.18% mpSampleTW done after 0.0 minutes. Remaining 0.02 minutes.\r",
      "2018-10-18 17:06:59.879340 27.27% mpSampleTW done after 0.0 minutes. Remaining 0.01 minutes.\r",
      "2018-10-18 17:06:59.891792 36.36% mpSampleTW done after 0.0 minutes. Remaining 0.01 minutes.\r",
      "2018-10-18 17:06:59.892678 45.45% mpSampleTW done after 0.0 minutes. Remaining 0.01 minutes.\r",
      "2018-10-18 17:06:59.895111 54.55% mpSampleTW done after 0.0 minutes. Remaining 0.0 minutes.\r",
      "2018-10-18 17:06:59.895767 63.64% mpSampleTW done after 0.0 minutes. Remaining 0.0 minutes.\r",
      "2018-10-18 17:06:59.895836 72.73% mpSampleTW done after 0.0 minutes. Remaining 0.0 minutes.\r",
      "2018-10-18 17:06:59.896491 81.82% mpSampleTW done after 0.0 minutes. Remaining 0.0 minutes.\r",
      "2018-10-18 17:06:59.896973 90.91% mpSampleTW done after 0.0 minutes. Remaining 0.0 minutes.\r",
      "2018-10-18 17:06:59.900933 100.0% mpSampleTW done after 0.01 minutes. Remaining 0.0 minutes.\n"
     ]
    }
   ],
   "source": [
    "## Example\n",
    "close=ftMtx.dbars\n",
    "numCoEvents = snp.mpPandasObj(snp.mpNumCoEvents,('molecule',events.index),                         \n",
    "                              cpus,closeIdx=close.index,t1=events['t1'])\n",
    "numCoEvents = numCoEvents.loc[~numCoEvents.index.duplicated(keep='last')]\n",
    "numCoEvents = numCoEvents.reindex(close.index).fillna(0)\n",
    "out=pd.DataFrame()\n",
    "out['tW'] = snp.mpPandasObj(snp.mpSampleTW,('molecule',events.index),\n",
    "                            cpus,t1=events['t1'],numCoEvents=numCoEvents)\n",
    "cprint(out)"
   ]
  },
  {
   "cell_type": "code",
   "execution_count": 36,
   "metadata": {
    "ExecuteTime": {
     "end_time": "2018-10-18T23:07:01.433741Z",
     "start_time": "2018-10-18T23:07:00.012925Z"
    }
   },
   "outputs": [
    {
     "name": "stderr",
     "output_type": "stream",
     "text": [
      "2018-10-18 17:07:01.175831 9.09% mpSampleW done after 0.01 minutes. Remaining 0.06 minutes.\r",
      "2018-10-18 17:07:01.210675 18.18% mpSampleW done after 0.01 minutes. Remaining 0.03 minutes.\r",
      "2018-10-18 17:07:01.228113 27.27% mpSampleW done after 0.01 minutes. Remaining 0.02 minutes.\r",
      "2018-10-18 17:07:01.231825 36.36% mpSampleW done after 0.01 minutes. Remaining 0.01 minutes.\r",
      "2018-10-18 17:07:01.232975 45.45% mpSampleW done after 0.01 minutes. Remaining 0.01 minutes.\r",
      "2018-10-18 17:07:01.234566 54.55% mpSampleW done after 0.01 minutes. Remaining 0.01 minutes.\r",
      "2018-10-18 17:07:01.235125 63.64% mpSampleW done after 0.01 minutes. Remaining 0.0 minutes.\r",
      "2018-10-18 17:07:01.236630 72.73% mpSampleW done after 0.01 minutes. Remaining 0.0 minutes.\r",
      "2018-10-18 17:07:01.237469 81.82% mpSampleW done after 0.01 minutes. Remaining 0.0 minutes.\r",
      "2018-10-18 17:07:01.245868 90.91% mpSampleW done after 0.01 minutes. Remaining 0.0 minutes.\r",
      "2018-10-18 17:07:01.247596 100.0% mpSampleW done after 0.01 minutes. Remaining 0.0 minutes.\n"
     ]
    },
    {
     "name": "stdout",
     "output_type": "stream",
     "text": [
      "-------------------------------------------------------------------------------\n",
      "dataframe information\n",
      "-------------------------------------------------------------------------------\n",
      "                     tW    w\n",
      "2018-02-26 13:58:17 NaN  0.0\n",
      "2018-02-26 14:09:45 NaN  0.0\n",
      "2018-02-26 15:20:10 NaN  0.0\n",
      "2018-02-26 15:24:32 NaN  0.0\n",
      "2018-02-26 16:16:14 NaN  0.0\n",
      "--------------------------------------------------\n",
      "<class 'pandas.core.frame.DataFrame'>\n",
      "DatetimeIndex: 6948 entries, 2009-09-30 12:40:13 to 2018-02-26 16:16:14\n",
      "Data columns (total 2 columns):\n",
      "tW    6914 non-null float64\n",
      "w     6948 non-null float64\n",
      "dtypes: float64(2)\n",
      "memory usage: 162.8 KB\n",
      "None\n",
      "-------------------------------------------------------------------------------\n",
      "\n"
     ]
    }
   ],
   "source": [
    "## example ##\n",
    "out['w']=snp.mpPandasObj(snp.mpSampleW,('molecule',events.index),cpus,\n",
    "                         t1=events['t1'],numCoEvents=numCoEvents,close=close)\n",
    "out['w']*=out.shape[0]/out['w'].sum()\n",
    "cprint(out)"
   ]
  },
  {
   "cell_type": "code",
   "execution_count": 37,
   "metadata": {
    "ExecuteTime": {
     "end_time": "2018-10-18T23:07:01.729038Z",
     "start_time": "2018-10-18T23:07:01.436050Z"
    }
   },
   "outputs": [
    {
     "name": "stdout",
     "output_type": "stream",
     "text": [
      "dropped label:  0.0 0.0011570726063060456\n",
      "-------------------------------------------------------------------------------\n",
      "dataframe information\n",
      "-------------------------------------------------------------------------------\n",
      "                          ret  bin\n",
      "2018-02-21 09:47:52  0.009430  1.0\n",
      "2018-02-21 11:10:00  0.008097  1.0\n",
      "2018-02-21 12:53:48  0.012764  1.0\n",
      "2018-02-21 13:19:05  0.012619  1.0\n",
      "2018-02-21 14:12:30  0.011240  1.0\n",
      "--------------------------------------------------\n",
      "<class 'pandas.core.frame.DataFrame'>\n",
      "DatetimeIndex: 6906 entries, 2009-09-30 12:40:13 to 2018-02-21 14:12:30\n",
      "Data columns (total 2 columns):\n",
      "ret    6906 non-null float64\n",
      "bin    6906 non-null float64\n",
      "dtypes: float64(2)\n",
      "memory usage: 161.9 KB\n",
      "None\n",
      "-------------------------------------------------------------------------------\n",
      "\n"
     ]
    }
   ],
   "source": [
    "# get labels\n",
    "labels = snp.getBins(events, ftMtx.dbars)\n",
    "#cprint(labels)\n",
    "\n",
    "clean_labels = snp.dropLabels(labels)\n",
    "cprint(clean_labels)"
   ]
  },
  {
   "cell_type": "markdown",
   "metadata": {},
   "source": [
    "### (d) Fit a bagging classifier of decision trees where:"
   ]
  },
  {
   "cell_type": "markdown",
   "metadata": {},
   "source": [
    "#### (i) The observed features are bootstrapped using the sequential method from chapter 4.\n",
    "\n",
    "Note: must use multiprocessing of some kind as seqBootstrap is very slow"
   ]
  },
  {
   "cell_type": "code",
   "execution_count": 38,
   "metadata": {
    "ExecuteTime": {
     "end_time": "2018-10-18T23:07:02.018726Z",
     "start_time": "2018-10-18T23:07:01.730406Z"
    }
   },
   "outputs": [],
   "source": [
    "@nb.njit\n",
    "def func(arr,i):\n",
    "    col = arr[i]\n",
    "    mask = np.where(col>0)\n",
    "    return np.mean(col[mask])\n",
    "\n",
    "@nb.njit\n",
    "def njit_getAvgUniqueness(indM):\n",
    "    # Average uniqueness from indicator matrix\n",
    "    c=indM.sum(axis=1).reshape(-1,1) # concurrency\n",
    "    u=np.divide(indM,c) # uniqueness\n",
    "    avgU = np.zeros(len(u.T)) # avg. uniqueness\n",
    "    i = 0\n",
    "    for i in range(len(u.T)):\n",
    "        avgU[i] = func(u.T,i)\n",
    "        i+=1\n",
    "    return avgU\n",
    "\n",
    "@nb.jit\n",
    "def jit_seqBootstrap(indM,sLength=None):\n",
    "    # Generate a sample via sequential bootstrap\n",
    "    if sLength is None:sLength=indM.shape[1]\n",
    "    phi=[]\n",
    "    while len(phi)<sLength:\n",
    "        avgU=pd.Series()\n",
    "        for i in indM:\n",
    "            indM_=indM[phi+[i]] # reduce indM\n",
    "            avgU.loc[i]=njit_getAvgUniqueness(indM_.values)[-1]\n",
    "        prob=avgU/avgU.sum() # draw prob\n",
    "        phi+=[np.random.choice(indM.columns,p=prob)]\n",
    "    return phi\n",
    "#------------------------\n",
    "\n",
    "def split_t1(t1, partitions):\n",
    "    return np.array_split(t1, partitions)\n",
    "\n",
    "def mp_func(indM):\n",
    "    # jit funcs about 2x as fast\n",
    "    phi = jit_seqBootstrap(indM)\n",
    "    seqU = njit_getAvgUniqueness(indM[phi].values).mean()\n",
    "    #phi = snp.seqBootstrap(indM)\n",
    "    #seqU= snp.getAvgUniqueness(indM[phi])\n",
    "    return seqU\n",
    "\n",
    "def main_mp(t1, partitions=100, cpus=8):\n",
    "    jobs = []\n",
    "    splits = split_t1(t1,partitions=100)\n",
    "    for part_t1 in splits:\n",
    "        indM = snp.getIndMatrix(part_t1.index, part_t1)\n",
    "        job = {'func':mp_func,'indM':indM}\n",
    "        jobs.append(job)\n",
    "    if cpus==1: out=snp.processJobs_(jobs)\n",
    "    else: out=snp.processJobs(jobs,numThreads=cpus)\n",
    "    return pd.DataFrame(out)"
   ]
  },
  {
   "cell_type": "code",
   "execution_count": 39,
   "metadata": {
    "ExecuteTime": {
     "end_time": "2018-10-18T23:09:25.515891Z",
     "start_time": "2018-10-18T23:07:02.020209Z"
    }
   },
   "outputs": [
    {
     "name": "stderr",
     "output_type": "stream",
     "text": [
      "2018-10-18 17:09:25.339624 100.0% mp_func done after 2.29 minutes. Remaining 0.0 minutes.\n"
     ]
    }
   ],
   "source": [
    "seqUs = main_mp(t1)"
   ]
  },
  {
   "cell_type": "code",
   "execution_count": 40,
   "metadata": {
    "ExecuteTime": {
     "end_time": "2018-10-18T23:09:25.829949Z",
     "start_time": "2018-10-18T23:09:25.518196Z"
    }
   },
   "outputs": [
    {
     "data": {
      "text/html": [
       "<div>\n",
       "<style scoped>\n",
       "    .dataframe tbody tr th:only-of-type {\n",
       "        vertical-align: middle;\n",
       "    }\n",
       "\n",
       "    .dataframe tbody tr th {\n",
       "        vertical-align: top;\n",
       "    }\n",
       "\n",
       "    .dataframe thead th {\n",
       "        text-align: right;\n",
       "    }\n",
       "</style>\n",
       "<table border=\"1\" class=\"dataframe\">\n",
       "  <thead>\n",
       "    <tr style=\"text-align: right;\">\n",
       "      <th></th>\n",
       "      <th>0</th>\n",
       "    </tr>\n",
       "  </thead>\n",
       "  <tbody>\n",
       "    <tr>\n",
       "      <th>count</th>\n",
       "      <td>100.000000</td>\n",
       "    </tr>\n",
       "    <tr>\n",
       "      <th>mean</th>\n",
       "      <td>0.074860</td>\n",
       "    </tr>\n",
       "    <tr>\n",
       "      <th>std</th>\n",
       "      <td>0.022629</td>\n",
       "    </tr>\n",
       "    <tr>\n",
       "      <th>min</th>\n",
       "      <td>0.029593</td>\n",
       "    </tr>\n",
       "    <tr>\n",
       "      <th>25%</th>\n",
       "      <td>0.062652</td>\n",
       "    </tr>\n",
       "    <tr>\n",
       "      <th>50%</th>\n",
       "      <td>0.071346</td>\n",
       "    </tr>\n",
       "    <tr>\n",
       "      <th>75%</th>\n",
       "      <td>0.089933</td>\n",
       "    </tr>\n",
       "    <tr>\n",
       "      <th>max</th>\n",
       "      <td>0.133672</td>\n",
       "    </tr>\n",
       "  </tbody>\n",
       "</table>\n",
       "</div>"
      ],
      "text/plain": [
       "                0\n",
       "count  100.000000\n",
       "mean     0.074860\n",
       "std      0.022629\n",
       "min      0.029593\n",
       "25%      0.062652\n",
       "50%      0.071346\n",
       "75%      0.089933\n",
       "max      0.133672"
      ]
     },
     "execution_count": 40,
     "metadata": {},
     "output_type": "execute_result"
    }
   ],
   "source": [
    "seqUs.describe()"
   ]
  },
  {
   "cell_type": "code",
   "execution_count": 41,
   "metadata": {
    "ExecuteTime": {
     "end_time": "2018-10-18T23:09:26.162689Z",
     "start_time": "2018-10-18T23:09:25.831789Z"
    }
   },
   "outputs": [
    {
     "data": {
      "text/plain": [
       "0.07485970931182089"
      ]
     },
     "execution_count": 41,
     "metadata": {},
     "output_type": "execute_result"
    }
   ],
   "source": [
    "# get avg uniqueness for bootstrapping\n",
    "avgU = seqUs.mean()[0]\n",
    "avgU"
   ]
  },
  {
   "cell_type": "markdown",
   "metadata": {},
   "source": [
    "#### (ii) On each bootstrapped sample, sample weights are determined using the techniques from Chapter 4\n",
    "\n",
    "Note: alternative implementations are welcome."
   ]
  },
  {
   "cell_type": "code",
   "execution_count": 42,
   "metadata": {
    "ExecuteTime": {
     "end_time": "2018-10-18T23:09:27.103836Z",
     "start_time": "2018-10-18T23:09:26.164624Z"
    }
   },
   "outputs": [],
   "source": [
    "from sklearn.model_selection import train_test_split\n",
    "from sklearn.tree import DecisionTreeClassifier\n",
    "from sklearn.ensemble import RandomForestClassifier, RandomForestRegressor, BaggingClassifier"
   ]
  },
  {
   "cell_type": "code",
   "execution_count": 43,
   "metadata": {
    "ExecuteTime": {
     "end_time": "2018-10-18T23:09:27.449937Z",
     "start_time": "2018-10-18T23:09:27.107335Z"
    }
   },
   "outputs": [],
   "source": [
    "def evaluate(X,y,clf):\n",
    "    from sklearn import metrics\n",
    "    # The random forest model by itself\n",
    "    y_pred_rf = clf.predict_proba(X)[:, 1]\n",
    "    y_pred = clf.predict(X)\n",
    "    fpr_rf, tpr_rf, _ = metrics.roc_curve(y, y_pred_rf)\n",
    "    print(metrics.classification_report(y, y_pred))\n",
    "\n",
    "    plt.figure(figsize=(9,6))\n",
    "    plt.plot([0, 1], [0, 1], 'k--')\n",
    "    plt.plot(fpr_rf, tpr_rf, label='clf')\n",
    "    plt.xlabel('False positive rate')\n",
    "    plt.ylabel('True positive rate')\n",
    "    plt.title('ROC curve')\n",
    "    plt.legend(loc='best')\n",
    "    plt.show()"
   ]
  },
  {
   "cell_type": "code",
   "execution_count": 44,
   "metadata": {
    "ExecuteTime": {
     "end_time": "2018-10-18T23:09:27.793760Z",
     "start_time": "2018-10-18T23:09:27.451858Z"
    },
    "scrolled": true
   },
   "outputs": [
    {
     "data": {
      "text/plain": [
       "2009-09-30 12:40:13   -1.0\n",
       "2009-09-30 13:31:12   -1.0\n",
       "2009-10-01 09:29:51   -1.0\n",
       "2009-10-02 10:18:42    1.0\n",
       "2009-10-02 10:35:05    1.0\n",
       "2009-10-02 10:37:29    1.0\n",
       "2009-10-02 13:20:04    1.0\n",
       "2009-10-05 10:41:50    1.0\n",
       "2009-10-05 11:50:49    1.0\n",
       "2009-10-05 12:25:18    1.0\n",
       "2009-10-05 13:11:27    1.0\n",
       "2009-10-06 09:29:52    1.0\n",
       "2009-10-06 10:16:02    1.0\n",
       "2009-10-06 11:32:02    1.0\n",
       "2009-10-06 15:35:49    1.0\n",
       "2009-10-07 15:34:00    1.0\n",
       "2009-10-07 15:53:56    1.0\n",
       "2009-10-08 09:29:51    1.0\n",
       "2009-10-08 12:07:39    1.0\n",
       "2009-10-08 12:52:50    1.0\n",
       "2009-10-09 11:21:48    1.0\n",
       "2009-10-09 14:58:12    1.0\n",
       "2009-10-09 15:28:04    1.0\n",
       "2009-10-12 09:31:02    1.0\n",
       "2009-10-12 10:14:38    1.0\n",
       "2009-10-12 11:12:35    1.0\n",
       "2009-10-12 14:08:45    1.0\n",
       "2009-10-14 09:29:52    1.0\n",
       "2009-10-14 11:59:09    1.0\n",
       "2009-10-14 12:25:52    1.0\n",
       "2009-10-14 14:12:01    1.0\n",
       "2009-10-15 11:02:54   -1.0\n",
       "2009-10-15 14:07:36   -1.0\n",
       "2009-10-15 14:52:32   -1.0\n",
       "2009-10-15 15:18:10   -1.0\n",
       "2009-10-15 15:57:25   -1.0\n",
       "2009-10-16 13:37:21   -1.0\n",
       "2009-10-16 15:40:15   -1.0\n",
       "2009-10-19 10:46:14   -1.0\n",
       "2009-10-19 11:39:38   -1.0\n",
       "2009-10-19 12:34:14   -1.0\n",
       "2009-10-19 13:35:25   -1.0\n",
       "2009-10-19 14:32:08   -1.0\n",
       "2009-10-21 09:41:06   -1.0\n",
       "2009-10-21 10:11:57   -1.0\n",
       "2009-10-21 10:57:04   -1.0\n",
       "2009-10-22 11:36:37   -1.0\n",
       "2009-10-22 12:20:25   -1.0\n",
       "2009-10-22 13:04:37   -1.0\n",
       "2009-10-22 15:17:46   -1.0\n",
       "                      ... \n",
       "2018-02-12 11:17:12    1.0\n",
       "2018-02-12 11:22:33    1.0\n",
       "2018-02-12 11:55:37    1.0\n",
       "2018-02-12 12:12:51    1.0\n",
       "2018-02-12 12:23:34    1.0\n",
       "2018-02-12 13:57:53    1.0\n",
       "2018-02-12 15:14:17    1.0\n",
       "2018-02-13 11:48:45    1.0\n",
       "2018-02-13 12:01:57    1.0\n",
       "2018-02-13 13:43:37    1.0\n",
       "2018-02-14 10:09:34    1.0\n",
       "2018-02-14 10:19:18    1.0\n",
       "2018-02-14 10:30:48    1.0\n",
       "2018-02-14 11:41:53    1.0\n",
       "2018-02-14 12:28:36    1.0\n",
       "2018-02-14 12:58:13    1.0\n",
       "2018-02-14 13:14:57    1.0\n",
       "2018-02-14 13:36:02    1.0\n",
       "2018-02-14 13:53:59    1.0\n",
       "2018-02-14 14:08:28    1.0\n",
       "2018-02-14 14:48:01    1.0\n",
       "2018-02-14 15:00:14    1.0\n",
       "2018-02-14 15:08:14    1.0\n",
       "2018-02-15 09:31:56    1.0\n",
       "2018-02-15 09:56:14    1.0\n",
       "2018-02-15 11:22:26    1.0\n",
       "2018-02-15 11:29:54    1.0\n",
       "2018-02-15 13:21:31   -1.0\n",
       "2018-02-15 14:51:30   -1.0\n",
       "2018-02-15 15:58:36   -1.0\n",
       "2018-02-15 15:59:47   -1.0\n",
       "2018-02-15 16:00:00   -1.0\n",
       "2018-02-16 10:42:42   -1.0\n",
       "2018-02-16 10:59:17   -1.0\n",
       "2018-02-16 11:11:50   -1.0\n",
       "2018-02-16 12:05:18   -1.0\n",
       "2018-02-16 12:32:45   -1.0\n",
       "2018-02-16 13:46:07   -1.0\n",
       "2018-02-16 14:56:08   -1.0\n",
       "2018-02-16 15:03:29   -1.0\n",
       "2018-02-16 15:10:45   -1.0\n",
       "2018-02-20 09:50:13    1.0\n",
       "2018-02-20 11:36:52    1.0\n",
       "2018-02-20 12:35:02    1.0\n",
       "2018-02-20 15:50:16    1.0\n",
       "2018-02-21 09:47:52    1.0\n",
       "2018-02-21 11:10:00    1.0\n",
       "2018-02-21 12:53:48    1.0\n",
       "2018-02-21 13:19:05    1.0\n",
       "2018-02-21 14:12:30    1.0\n",
       "Name: bin, Length: 6906, dtype: float64"
      ]
     },
     "execution_count": 44,
     "metadata": {},
     "output_type": "execute_result"
    }
   ],
   "source": [
    "trgt = clean_labels.bin\n",
    "trgt"
   ]
  },
  {
   "cell_type": "code",
   "execution_count": 45,
   "metadata": {
    "ExecuteTime": {
     "end_time": "2018-10-18T23:09:28.152908Z",
     "start_time": "2018-10-18T23:09:27.797578Z"
    }
   },
   "outputs": [],
   "source": [
    "# model data\n",
    "#data = ftMtx.join(out,how='left').join(trgt,how='left').iloc[phi].dropna()\n",
    "data = ftMtx.join(out,how='left').join(trgt,how='left').dropna()\n",
    "X = data.iloc[:,:-1].values\n",
    "y = data.iloc[:,-1].values.reshape(-1,1)"
   ]
  },
  {
   "cell_type": "code",
   "execution_count": 46,
   "metadata": {
    "ExecuteTime": {
     "end_time": "2018-10-18T23:09:28.550653Z",
     "start_time": "2018-10-18T23:09:28.155234Z"
    }
   },
   "outputs": [
    {
     "name": "stdout",
     "output_type": "stream",
     "text": [
      "-------------------------------------------------------------------------------\n",
      "dataframe information\n",
      "-------------------------------------------------------------------------------\n",
      "                        dbars  frac_diff_feat        tW         w  bin\n",
      "2018-02-21 09:47:52  113.4700        0.002338  0.056174  0.355414  1.0\n",
      "2018-02-21 11:10:00  113.6200        0.000304  0.056076  0.196611  1.0\n",
      "2018-02-21 12:53:48  113.6000        0.000969  0.052932  0.258432  1.0\n",
      "2018-02-21 13:19:05  113.6163        0.000143  0.051662  0.270087  1.0\n",
      "2018-02-21 14:12:30  114.0382        0.001476  0.048293  0.326394  1.0\n",
      "--------------------------------------------------\n",
      "<class 'pandas.core.frame.DataFrame'>\n",
      "DatetimeIndex: 6906 entries, 2009-09-30 12:40:13 to 2018-02-21 14:12:30\n",
      "Data columns (total 5 columns):\n",
      "dbars             6906 non-null float64\n",
      "frac_diff_feat    6906 non-null float64\n",
      "tW                6906 non-null float64\n",
      "w                 6906 non-null float64\n",
      "bin               6906 non-null float64\n",
      "dtypes: float64(5)\n",
      "memory usage: 323.7 KB\n",
      "None\n",
      "-------------------------------------------------------------------------------\n",
      "\n"
     ]
    }
   ],
   "source": [
    "cprint(data)"
   ]
  },
  {
   "cell_type": "code",
   "execution_count": 47,
   "metadata": {
    "ExecuteTime": {
     "end_time": "2018-10-18T23:09:28.887043Z",
     "start_time": "2018-10-18T23:09:28.553149Z"
    }
   },
   "outputs": [],
   "source": [
    "X_train, X_test, y_train, y_test = train_test_split(X, y, test_size=0.3, random_state=RANDOM_STATE)"
   ]
  },
  {
   "cell_type": "code",
   "execution_count": 48,
   "metadata": {
    "ExecuteTime": {
     "end_time": "2018-10-18T23:09:29.215658Z",
     "start_time": "2018-10-18T23:09:28.890029Z"
    }
   },
   "outputs": [],
   "source": [
    "base_clf = DecisionTreeClassifier(criterion='entropy',max_features='auto',\n",
    "                                  class_weight='balanced')\n",
    "bc = BaggingClassifier(base_estimator=base_clf,n_estimators=1000,\n",
    "                       max_samples=avgU,max_features=1.,random_state=RANDOM_STATE)"
   ]
  },
  {
   "cell_type": "code",
   "execution_count": 49,
   "metadata": {
    "ExecuteTime": {
     "end_time": "2018-10-18T23:09:32.224530Z",
     "start_time": "2018-10-18T23:09:29.217134Z"
    },
    "scrolled": true
   },
   "outputs": [
    {
     "name": "stderr",
     "output_type": "stream",
     "text": [
      "/media/bcr/HDD/anaconda3/envs/bayes_dash/lib/python3.6/site-packages/sklearn/ensemble/bagging.py:618: DataConversionWarning: A column-vector y was passed when a 1d array was expected. Please change the shape of y to (n_samples, ), for example using ravel().\n",
      "  y = column_or_1d(y, warn=True)\n"
     ]
    }
   ],
   "source": [
    "fit = bc.fit(X_train,y_train)"
   ]
  },
  {
   "cell_type": "code",
   "execution_count": 50,
   "metadata": {
    "ExecuteTime": {
     "end_time": "2018-10-18T23:09:33.248393Z",
     "start_time": "2018-10-18T23:09:32.226030Z"
    }
   },
   "outputs": [
    {
     "name": "stdout",
     "output_type": "stream",
     "text": [
      "              precision    recall  f1-score   support\n",
      "\n",
      "        -1.0       0.65      0.44      0.53       905\n",
      "         1.0       0.65      0.81      0.72      1167\n",
      "\n",
      "   micro avg       0.65      0.65      0.65      2072\n",
      "   macro avg       0.65      0.63      0.63      2072\n",
      "weighted avg       0.65      0.65      0.64      2072\n",
      "\n"
     ]
    },
    {
     "data": {
      "image/png": "[encoded data removed]",
      "text/plain": [
       "<Figure size 648x432 with 1 Axes>"
      ]
     },
     "metadata": {
      "needs_background": "light"
     },
     "output_type": "display_data"
    }
   ],
   "source": [
    "evaluate(X_test,y_test,fit)"
   ]
  },
  {
   "cell_type": "code",
   "execution_count": 51,
   "metadata": {
    "ExecuteTime": {
     "end_time": "2018-10-18T23:09:37.932080Z",
     "start_time": "2018-10-18T23:09:33.251024Z"
    }
   },
   "outputs": [
    {
     "name": "stderr",
     "output_type": "stream",
     "text": [
      "/media/bcr/HDD/anaconda3/envs/bayes_dash/lib/python3.6/site-packages/sklearn/ensemble/bagging.py:618: DataConversionWarning: A column-vector y was passed when a 1d array was expected. Please change the shape of y to (n_samples, ), for example using ravel().\n",
      "  y = column_or_1d(y, warn=True)\n"
     ]
    },
    {
     "name": "stdout",
     "output_type": "stream",
     "text": [
      "              precision    recall  f1-score   support\n",
      "\n",
      "        -1.0       0.65      0.45      0.53       905\n",
      "         1.0       0.66      0.81      0.73      1167\n",
      "\n",
      "   micro avg       0.65      0.65      0.65      2072\n",
      "   macro avg       0.65      0.63      0.63      2072\n",
      "weighted avg       0.65      0.65      0.64      2072\n",
      "\n"
     ]
    },
    {
     "data": {
      "image/png": "[encoded data removed]",
      "text/plain": [
       "<Figure size 648x432 with 1 Axes>"
      ]
     },
     "metadata": {
      "needs_background": "light"
     },
     "output_type": "display_data"
    }
   ],
   "source": [
    "rf_clf = RandomForestClassifier(n_estimators=1,\n",
    "                                class_weight='balanced_subsample',\n",
    "                                criterion='entropy', \n",
    "                                bootstrap=False)\n",
    "bc_rf = BaggingClassifier(base_estimator=rf_clf, n_estimators=1000,\n",
    "                          max_samples=avgU, max_features=1., \n",
    "                          random_state=RANDOM_STATE)\n",
    "\n",
    "fit = bc_rf.fit(X_train,y_train)\n",
    "evaluate(X_test,y_test,fit)"
   ]
  },
  {
   "cell_type": "code",
   "execution_count": null,
   "metadata": {},
   "outputs": [],
   "source": []
  }
 ],
 "metadata": {
  "kernelspec": {
   "display_name": "Python 3",
   "language": "python",
   "name": "python3"
  },
  "language_info": {
   "codemirror_mode": {
    "name": "ipython",
    "version": 3
   },
   "file_extension": ".py",
   "mimetype": "text/x-python",
   "name": "python",
   "nbconvert_exporter": "python",
   "pygments_lexer": "ipython3",
   "version": "3.6.6"
  },
  "notify_time": "5",
  "toc": {
   "base_numbering": 1,
   "nav_menu": {},
   "number_sections": true,
   "sideBar": true,
   "skip_h1_title": true,
   "title_cell": "Table of Contents",
   "title_sidebar": "Contents",
   "toc_cell": true,
   "toc_position": {
    "height": "calc(100% - 180px)",
    "left": "10px",
    "top": "150px",
    "width": "226px"
   },
   "toc_section_display": true,
   "toc_window_display": true
  },
  "varInspector": {
   "cols": {
    "lenName": 16,
    "lenType": 16,
    "lenVar": 40
   },
   "kernels_config": {
    "python": {
     "delete_cmd_postfix": "",
     "delete_cmd_prefix": "del ",
     "library": "var_list.py",
     "varRefreshCmd": "print(var_dic_list())"
    },
    "r": {
     "delete_cmd_postfix": ") ",
     "delete_cmd_prefix": "rm(",
     "library": "var_list.r",
     "varRefreshCmd": "cat(var_dic_list()) "
    }
   },
   "types_to_exclude": [
    "module",
    "function",
    "builtin_function_or_method",
    "instance",
    "_Feature"
   ],
   "window_display": false
  }
 },
 "nbformat": 4,
 "nbformat_minor": 2
}
